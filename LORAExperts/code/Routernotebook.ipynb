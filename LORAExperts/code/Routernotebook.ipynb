{
 "cells": [
  {
   "cell_type": "markdown",
   "metadata": {
    "id": "159Dbipes8hs"
   },
   "source": [
    "\"\"\"\n",
    "═══════════════════════════════════════════════════════════════════════════\n",
    "NOTEBOOK 2: Task Router Training & Multi-Expert Inference\n",
    "═══════════════════════════════════════════════════════════════════════════\n",
    "Train a neural router to automatically select the right LoRA expert\n",
    "        Prerequisite: Run Notebook 1 first to train LoRA experts\n",
    "\"\"\""
   ]
  },
  {
   "cell_type": "code",
   "execution_count": 11,
   "metadata": {
    "colab": {
     "base_uri": "https://localhost:8080/"
    },
    "id": "9nK3RmRzs45Z",
    "outputId": "33d2540a-ad95-4d11-902f-66954ecfbec1"
   },
   "outputs": [
    {
     "name": "stdout",
     "output_type": "stream",
     "text": [
      " PyTorch version: 2.8.0+cu126\n",
      " CUDA available: True\n",
      " GPU: Tesla T4\n"
     ]
    }
   ],
   "source": [
    "# ═══════════════════════════════════════════════════════════════════════════\n",
    "# CELL 1: Setup & Installation\n",
    "# ═══════════════════════════════════════════════════════════════════════════\n",
    "\n",
    "!pip install -q transformers datasets peft accelerate bitsandbytes sentencepiece torch scikit-learn\n",
    "\n",
    "# Verify GPU\n",
    "import torch\n",
    "import torch.nn as nn\n",
    "print(f\" PyTorch version: {torch.__version__}\")\n",
    "print(f\" CUDA available: {torch.cuda.is_available()}\")\n",
    "if torch.cuda.is_available():\n",
    "    print(f\" GPU: {torch.cuda.get_device_name(0)}\")"
   ]
  },
  {
   "cell_type": "code",
   "execution_count": 32,
   "metadata": {
    "colab": {
     "base_uri": "https://localhost:8080/"
    },
    "id": "JKsOE6VocG7Z",
    "outputId": "7acb3a3d-7908-4c7e-f2cb-5a7f1b5cadd4"
   },
   "outputs": [
    {
     "name": "stdout",
     "output_type": "stream",
     "text": [
      "✓ sklearn imported successfully\n",
      "✓ All libraries imported successfully!\n"
     ]
    }
   ],
   "source": [
    "\n",
    "import torch\n",
    "import torch.nn as nn\n",
    "from torch.utils.data import DataLoader, Dataset\n",
    "from transformers import AutoTokenizer, AutoModelForCausalLM\n",
    "from peft import PeftModel\n",
    "from datasets import load_dataset\n",
    "import json\n",
    "import os\n",
    "import numpy as np\n",
    "import matplotlib.pyplot as plt\n",
    "import seaborn as sns\n",
    "from typing import Dict, List, Optional\n",
    "from dataclasses import dataclass\n",
    "import warnings\n",
    "warnings.filterwarnings('ignore')\n",
    "\n",
    "# Import sklearn metrics\n",
    "try:\n",
    "    from sklearn.metrics import classification_report, confusion_matrix\n",
    "    print(\"✓ sklearn imported successfully\")\n",
    "except ImportError:\n",
    "    print(\"⚠ sklearn not found, installing...\")\n",
    "    import subprocess\n",
    "    subprocess.check_call(['pip', 'install', '-q', 'scikit-learn'])\n",
    "    from sklearn.metrics import classification_report, confusion_matrix\n",
    "    print(\"✓ sklearn installed and imported\")\n",
    "\n",
    "print(\"✓ All libraries imported successfully!\")"
   ]
  },
  {
   "cell_type": "code",
   "execution_count": 8,
   "metadata": {
    "colab": {
     "base_uri": "https://localhost:8080/"
    },
    "id": "j_QtPM95s4_4",
    "outputId": "3bce2b07-c425-4226-81cd-7ef981224d88"
   },
   "outputs": [
    {
     "name": "stdout",
     "output_type": "stream",
     "text": [
      "Loading configuration from Notebook 1...\n",
      " Configuration loaded successfully\n",
      "  Base model: TinyLlama/TinyLlama-1.1B-Chat-v1.0\n",
      "  Available experts: ['medical', 'code', 'math', 'creative']\n",
      "  Number of tasks: 4\n",
      "\n",
      "Verifying LoRA experts...\n",
      "   medical: ./lora_experts/medical\n",
      "   code: ./lora_experts/code\n",
      "   math: ./lora_experts/math\n",
      "   creative: ./lora_experts/creative\n"
     ]
    }
   ],
   "source": [
    "\n",
    "\n",
    "# ═══════════════════════════════════════════════════════════════════════════\n",
    "# CELL 3: Load Configuration from Notebook 1\n",
    "# ═══════════════════════════════════════════════════════════════════════════\n",
    "import os\n",
    "import json\n",
    "# Load the configuration saved by Notebook 1\n",
    "print(\"Loading configuration from Notebook 1...\")\n",
    "\n",
    "if not os.path.exists('./experts_config.json'):\n",
    "    raise FileNotFoundError(\n",
    "        \" Configuration file not found!\\n\"\n",
    "        \"Please run Notebook 1 first to train LoRA experts.\"\n",
    "    )\n",
    "\n",
    "with open('./experts_config.json', 'r') as f:\n",
    "    config = json.load(f)\n",
    "\n",
    "MODEL_NAME = config['model_name']\n",
    "MAX_LENGTH = config['max_length']\n",
    "LORA_PATHS = config['lora_paths']\n",
    "TASKS = config['tasks']\n",
    "\n",
    "print(\" Configuration loaded successfully\")\n",
    "print(f\"  Base model: {MODEL_NAME}\")\n",
    "print(f\"  Available experts: {list(LORA_PATHS.keys())}\")\n",
    "print(f\"  Number of tasks: {len(LORA_PATHS)}\")\n",
    "\n",
    "# Verify all LoRA experts exist\n",
    "print(\"\\nVerifying LoRA experts...\")\n",
    "for task_name, path in LORA_PATHS.items():\n",
    "    if os.path.exists(path):\n",
    "        print(f\"   {task_name}: {path}\")\n",
    "    else:\n",
    "        print(f\"   {task_name}: NOT FOUND at {path}\")"
   ]
  },
  {
   "cell_type": "code",
   "execution_count": 12,
   "metadata": {
    "colab": {
     "base_uri": "https://localhost:8080/"
    },
    "id": "FkwZyGeXs5CX",
    "outputId": "ec31dc7e-bcc0-43ad-9ca4-0a10949f9819"
   },
   "outputs": [
    {
     "name": "stdout",
     "output_type": "stream",
     "text": [
      "Router Configuration:\n",
      "  hidden_dim: 256\n",
      "  learning_rate: 0.001\n",
      "  num_epochs: 15\n",
      "  batch_size: 32\n",
      "  samples_per_task: 500\n",
      "  validation_split: 0.2\n"
     ]
    }
   ],
   "source": [
    "\n",
    "\n",
    "# ═══════════════════════════════════════════════════════════════════════════\n",
    "# CELL 4: Router Configuration\n",
    "# ═══════════════════════════════════════════════════════════════════════════\n",
    "\n",
    "# Router training hyperparameters\n",
    "ROUTER_CONFIG = {\n",
    "    'hidden_dim': 256,\n",
    "    'learning_rate': 1e-3,\n",
    "    'num_epochs': 15,\n",
    "    'batch_size': 32,\n",
    "    'samples_per_task': 500,  # Number of samples to use per task for router training\n",
    "    'validation_split': 0.2\n",
    "}\n",
    "\n",
    "print(\"Router Configuration:\")\n",
    "for key, value in ROUTER_CONFIG.items():\n",
    "    print(f\"  {key}: {value}\")\n"
   ]
  },
  {
   "cell_type": "code",
   "execution_count": 23,
   "metadata": {
    "colab": {
     "base_uri": "https://localhost:8080/"
    },
    "id": "u18tv7mMs5Eq",
    "outputId": "8c7e4a2e-cd20-4ef7-9b1a-1fc510ad59c3"
   },
   "outputs": [
    {
     "name": "stdout",
     "output_type": "stream",
     "text": [
      "✓ Router model class defined\n"
     ]
    }
   ],
   "source": [
    "class TaskRouter(nn.Module):\n",
    "    \"\"\"Neural router to select appropriate LoRA expert\"\"\"\n",
    "    def __init__(self, input_dim: int, num_tasks: int, hidden_dim: int = 256):\n",
    "        super().__init__()\n",
    "        self.router = nn.Sequential(\n",
    "            nn.Linear(input_dim, hidden_dim),\n",
    "            nn.ReLU(),\n",
    "            nn.Dropout(0.1),\n",
    "            nn.Linear(hidden_dim, hidden_dim // 2),\n",
    "            nn.ReLU(),\n",
    "            nn.Dropout(0.1),\n",
    "            nn.Linear(hidden_dim // 2, num_tasks)\n",
    "        )\n",
    "        self.num_tasks = num_tasks\n",
    "\n",
    "    def forward(self, embeddings):\n",
    "        \"\"\"\n",
    "        Args:\n",
    "            embeddings: [batch_size, hidden_dim] - mean-pooled embeddings\n",
    "        Returns:\n",
    "            logits: [batch_size, num_tasks]\n",
    "        \"\"\"\n",
    "        logits = self.router(embeddings)\n",
    "        return logits\n",
    "\n",
    "print(\"✓ Router model class defined\")"
   ]
  },
  {
   "cell_type": "code",
   "execution_count": 16,
   "metadata": {
    "colab": {
     "base_uri": "https://localhost:8080/"
    },
    "id": "tiGhy5ses5HE",
    "outputId": "61bb7057-eb47-4b0d-a428-65c33248f58e"
   },
   "outputs": [
    {
     "name": "stdout",
     "output_type": "stream",
     "text": [
      " Router dataset class defined\n"
     ]
    }
   ],
   "source": [
    "\n",
    "\n",
    "# ═══════════════════════════════════════════════════════════════════════════\n",
    "# CELL 6: Dataset Classes for Router Training\n",
    "# ═══════════════════════════════════════════════════════════════════════════\n",
    "from dataclasses import dataclass\n",
    "from typing import Optional\n",
    "from torch.utils.data import Dataset\n",
    "\n",
    "@dataclass\n",
    "class TaskConfig:\n",
    "    \"\"\"Task configuration for data loading\"\"\"\n",
    "    name: str\n",
    "    dataset_name: str\n",
    "    dataset_config: Optional[str]\n",
    "    prompt_template: str\n",
    "\n",
    "# Recreate task configs for data loading\n",
    "TASK_CONFIGS = {\n",
    "    \"medical\": TaskConfig(\n",
    "        name=\"medical_conversation\",\n",
    "        dataset_name=\"medalpaca/medical_meadow_medical_flashcards\",\n",
    "        dataset_config=None,\n",
    "        prompt_template=\"### Medical Question:\\n{input}\\n\\n### Answer:\\n\"\n",
    "    ),\n",
    "    \"code\": TaskConfig(\n",
    "        name=\"code_generation\",\n",
    "        dataset_name=\"iamtarun/python_code_instructions_18k_alpaca\",\n",
    "        dataset_config=None,\n",
    "        prompt_template=\"### Instruction:\\n{input}\\n\\n### Code:\\n\"\n",
    "    ),\n",
    "    \"math\": TaskConfig(\n",
    "        name=\"math_reasoning\",\n",
    "        dataset_name=\"gsm8k\",\n",
    "        dataset_config=\"main\",\n",
    "        prompt_template=\"### Problem:\\n{input}\\n\\n### Solution:\\n\"\n",
    "    ),\n",
    "    \"creative\": TaskConfig(\n",
    "        name=\"creative_writing\",\n",
    "        dataset_name=\"euclaise/writingprompts\",\n",
    "        dataset_config=None,\n",
    "        prompt_template=\"### Writing Prompt:\\n{input}\\n\\n### Story:\\n\"\n",
    "    )\n",
    "}\n",
    "\n",
    "class RouterDataset(Dataset):\n",
    "    \"\"\"Dataset for router training\"\"\"\n",
    "    def __init__(self, embeddings: torch.Tensor, labels: torch.Tensor):\n",
    "        self.embeddings = embeddings\n",
    "        self.labels = labels\n",
    "\n",
    "    def __len__(self):\n",
    "        return len(self.embeddings)\n",
    "\n",
    "    def __getitem__(self, idx):\n",
    "        return {\n",
    "            'embedding': self.embeddings[idx],\n",
    "            'label': self.labels[idx]\n",
    "        }\n",
    "\n",
    "print(\" Router dataset class defined\")"
   ]
  },
  {
   "cell_type": "code",
   "execution_count": 17,
   "metadata": {
    "colab": {
     "base_uri": "https://localhost:8080/"
    },
    "id": "DjDeGMIgs5Jb",
    "outputId": "c9f1b4d0-55ef-419f-860d-01073310bf3c"
   },
   "outputs": [
    {
     "name": "stdout",
     "output_type": "stream",
     "text": [
      "Data preparation functions defined\n"
     ]
    }
   ],
   "source": [
    "\n",
    "\n",
    "# ═══════════════════════════════════════════════════════════════════════════\n",
    "# CELL 7: Data Preparation Functions\n",
    "# ═══════════════════════════════════════════════════════════════════════════\n",
    "\n",
    "def prepare_task_prompts(task_name: str, num_samples: int = 500):\n",
    "    \"\"\"Load prompts for a specific task\"\"\"\n",
    "    config = TASK_CONFIGS[task_name]\n",
    "    prompts = []\n",
    "\n",
    "    print(f\"  Loading {task_name} data...\")\n",
    "\n",
    "    try:\n",
    "        if config.dataset_config:\n",
    "            ds = load_dataset(config.dataset_name, config.dataset_config, split='train')\n",
    "        else:\n",
    "            ds = load_dataset(config.dataset_name, split='train')\n",
    "\n",
    "        for i, item in enumerate(ds):\n",
    "            if len(prompts) >= num_samples:\n",
    "                break\n",
    "\n",
    "            # Extract input text based on task\n",
    "            if task_name == 'medical':\n",
    "                input_text = item.get('input', '') or item.get('instruction', '')\n",
    "            elif task_name == 'code':\n",
    "                input_text = item.get('instruction', '')\n",
    "            elif task_name == 'math':\n",
    "                input_text = item.get('question', '')\n",
    "            elif task_name == 'creative':\n",
    "                input_text = item.get('prompt', '')\n",
    "\n",
    "            if input_text:\n",
    "                prompt = config.prompt_template.format(input=input_text)\n",
    "                prompts.append(prompt)\n",
    "\n",
    "        print(f\"     Loaded {len(prompts)} samples\")\n",
    "        return prompts\n",
    "\n",
    "    except Exception as e:\n",
    "        print(f\"     Failed to load {task_name}: {e}\")\n",
    "        return []\n",
    "\n",
    "print(\"Data preparation functions defined\")\n"
   ]
  },
  {
   "cell_type": "code",
   "execution_count": 20,
   "metadata": {
    "colab": {
     "base_uri": "https://localhost:8080/",
     "height": 362,
     "referenced_widgets": [
      "13b50f8cae96404ca6855ace4115034b",
      "0aabfded616b4bdfbc1798d67630e7ba",
      "40aa80a6e17a455fb1eaab1183f24c58",
      "98a2000d37f349d2a92995e2a9d32738",
      "c758e29188964641afdae31c64e64c63",
      "5c6bacfa4a234ce1a1f401fdae291ac3",
      "4d2369f2bcd744c08583da6d507c7955",
      "c792fe3983034c2bbcc3ccfe295a22ce",
      "a4a8ab46850b4d78a6dd91d42f6e45d7",
      "65230e99fb734e7c9850df97bb7f6bec",
      "6519750811304b338b217a143b7cca32",
      "8ae6d547943c472aba907f3013a29c41",
      "cfd5a8d83cc642c4a9559164989830d2",
      "805ed894aa814265ab1c8cfeb962d84c",
      "d187a709c9d549aea2c5e0c2ecc5c751",
      "096716ab0c024ea2be40e1c1ac5464e3",
      "0203a8091d5347b2a32b9e5fd44ba604",
      "58a6c6ea047f4d198767d283e23b5ccc",
      "77635826b0204b2dbfe80aa403c024ec",
      "dc50146433e84993baaef6ce55569501",
      "2a673e7a08b84d42b87503d810be866f",
      "fcc776c88010412596b1d178e64d6c16",
      "0fcd519b8b2642ec9424243f039c149d",
      "1b78fb194d4b438487e620c11df8146e",
      "8ce0411a10164fb58af132c3f2b27a21",
      "b8b56f123dd347e6b2223d8596954d25",
      "916d5ae8e7904df3b22ebae7d0788428",
      "4e7f8cf0cb7144fc834207db6a215e30",
      "c8e922a199684ac1942d76f61c277771",
      "67be0ee2c6304dea9bc869be22e8a2a9",
      "a8ba66562f9d4370b26cedf8354933d9",
      "ec9434db460b4a2daeb5a684434d1d64",
      "913cf9d4b3a143b880382fa2bb11a06e",
      "8aa36fedf6174caebdbb844144cc2b3c",
      "75c5ea70d60f46c1aca2fa820c1c9477",
      "79319fcf50fc43a3bd91a0c48d11287c",
      "714b5190e3e942e5a71e9bdfe2375619",
      "5407da22c1bc4074a727f67449a64490",
      "fb448444f25c440598698b2143227453",
      "5484dd698fdf4362a845bcadd2675ade",
      "f5a207a91f99403d85395bcd6dbbf315",
      "6e60d390e56a4a92921d609e24950b13",
      "037e507d3d4f4167a24ca4a199692969",
      "b5fea53d59b94e5b93b0cb6e6316d8f8",
      "24ea0fa6502f42e9a9a73a7f9ac2c81f",
      "5e2dbffc32bd40ddbfed99266eca7379",
      "387d1ae92d424295aafc4249476f2398",
      "eba004eb77ff4fa9a0c3004b962201c2",
      "10d2a78fdf524c518aa1087d299c82fb",
      "593ab8370bed452da2263ed64f2e4740",
      "8e6d984eeadf4a35889cd5df41a2698e",
      "aab6ab55aa2d49ca87c876e676fda7bd",
      "23b426e0ab614c28bd51c810e01260f9",
      "3bffc30fb3a74207a72a246185776af7",
      "6a791ac147324e03abfb8cf82297baab",
      "c069e2b802774df592744d72856d8354",
      "28d4592c9b374bcfbeae5b14f60f59d0",
      "994b3786250946be9a7381e67c244a4c",
      "13bf0c5212c24dce9ed23d7eb6d1e08a",
      "208b269cc05a4a94aeccbfca7c6a94a0",
      "c90ea1d7dcb1412bb523cea2c3506824",
      "a17617a75eaf4088bcc37c6b56adc248",
      "c5f7083276ed4614991e2cb1089d8b47",
      "7121713fc0c143258626dcaea76f9992",
      "fc073a7d2f824ccda57b926d5b0f4623",
      "72b111d2c77741f284768b95177492af",
      "288c5f6cd79640a9b92b3ecd109ae656",
      "c12ffe26cfcf42eb8d2c13b673c865af",
      "486511efd41843afa409f363a8dd317d",
      "11dbe7bd5a6e4cb78ed911d7e26d468d",
      "8bba53cd9f3e471692ede1c17a25ffbb",
      "6d24f40dfce94acabac97cb717771dfe",
      "a84a2dbb10534d40946e34b14dfb99d8",
      "0eca4d349d354af8892f45f33aab4315",
      "4d0d6e1336d944bdb977c5a898307d65",
      "475faec2d8784ad2878cfa0e9bd50f77",
      "9e3a520a01194f1b9c40b2bf0fcaa5ef"
     ]
    },
    "id": "IvDtAzrKs5L7",
    "outputId": "29d630c0-7481-4db5-e09b-b5a543491432"
   },
   "outputs": [
    {
     "name": "stdout",
     "output_type": "stream",
     "text": [
      "Loading tokenizer and base model...\n",
      "Model: TinyLlama/TinyLlama-1.1B-Chat-v1.0\n"
     ]
    },
    {
     "data": {
      "application/vnd.jupyter.widget-view+json": {
       "model_id": "13b50f8cae96404ca6855ace4115034b",
       "version_major": 2,
       "version_minor": 0
      },
      "text/plain": [
       "tokenizer_config.json: 0.00B [00:00, ?B/s]"
      ]
     },
     "metadata": {},
     "output_type": "display_data"
    },
    {
     "data": {
      "application/vnd.jupyter.widget-view+json": {
       "model_id": "8ae6d547943c472aba907f3013a29c41",
       "version_major": 2,
       "version_minor": 0
      },
      "text/plain": [
       "tokenizer.model:   0%|          | 0.00/500k [00:00<?, ?B/s]"
      ]
     },
     "metadata": {},
     "output_type": "display_data"
    },
    {
     "data": {
      "application/vnd.jupyter.widget-view+json": {
       "model_id": "0fcd519b8b2642ec9424243f039c149d",
       "version_major": 2,
       "version_minor": 0
      },
      "text/plain": [
       "tokenizer.json: 0.00B [00:00, ?B/s]"
      ]
     },
     "metadata": {},
     "output_type": "display_data"
    },
    {
     "data": {
      "application/vnd.jupyter.widget-view+json": {
       "model_id": "8aa36fedf6174caebdbb844144cc2b3c",
       "version_major": 2,
       "version_minor": 0
      },
      "text/plain": [
       "special_tokens_map.json:   0%|          | 0.00/551 [00:00<?, ?B/s]"
      ]
     },
     "metadata": {},
     "output_type": "display_data"
    },
    {
     "name": "stdout",
     "output_type": "stream",
     "text": [
      " Tokenizer loaded\n",
      "Device: cuda\n"
     ]
    },
    {
     "data": {
      "application/vnd.jupyter.widget-view+json": {
       "model_id": "24ea0fa6502f42e9a9a73a7f9ac2c81f",
       "version_major": 2,
       "version_minor": 0
      },
      "text/plain": [
       "config.json:   0%|          | 0.00/608 [00:00<?, ?B/s]"
      ]
     },
     "metadata": {},
     "output_type": "display_data"
    },
    {
     "name": "stderr",
     "output_type": "stream",
     "text": [
      "`torch_dtype` is deprecated! Use `dtype` instead!\n"
     ]
    },
    {
     "data": {
      "application/vnd.jupyter.widget-view+json": {
       "model_id": "c069e2b802774df592744d72856d8354",
       "version_major": 2,
       "version_minor": 0
      },
      "text/plain": [
       "model.safetensors:   0%|          | 0.00/2.20G [00:00<?, ?B/s]"
      ]
     },
     "metadata": {},
     "output_type": "display_data"
    },
    {
     "data": {
      "application/vnd.jupyter.widget-view+json": {
       "model_id": "288c5f6cd79640a9b92b3ecd109ae656",
       "version_major": 2,
       "version_minor": 0
      },
      "text/plain": [
       "generation_config.json:   0%|          | 0.00/124 [00:00<?, ?B/s]"
      ]
     },
     "metadata": {},
     "output_type": "display_data"
    },
    {
     "name": "stdout",
     "output_type": "stream",
     "text": [
      "Base model loaded and ready\n",
      "  Hidden size: 2048\n"
     ]
    }
   ],
   "source": [
    "\n",
    "# ═══════════════════════════════════════════════════════════════════════════\n",
    "# CELL 8: Load Tokenizer and Base Model\n",
    "# ═══════════════════════════════════════════════════════════════════════════\n",
    "from transformers import AutoTokenizer,AutoModelForCausalLM\n",
    "print(\"Loading tokenizer and base model...\")\n",
    "print(f\"Model: {MODEL_NAME}\")\n",
    "\n",
    "tokenizer = AutoTokenizer.from_pretrained(MODEL_NAME)\n",
    "tokenizer.pad_token = tokenizer.eos_token\n",
    "\n",
    "print(\" Tokenizer loaded\")\n",
    "\n",
    "device = torch.device(\"cuda\" if torch.cuda.is_available() else \"cpu\")\n",
    "print(f\"Device: {device}\")\n",
    "\n",
    "base_model = AutoModelForCausalLM.from_pretrained(\n",
    "    MODEL_NAME,\n",
    "    torch_dtype=torch.float16 if torch.cuda.is_available() else torch.float32,\n",
    "    device_map=\"auto\"\n",
    ")\n",
    "base_model.eval()\n",
    "\n",
    "print(\"Base model loaded and ready\")\n",
    "print(f\"  Hidden size: {base_model.config.hidden_size}\")"
   ]
  },
  {
   "cell_type": "code",
   "execution_count": 21,
   "metadata": {
    "id": "1yyjKZOOZ9gS"
   },
   "outputs": [],
   "source": [
    "\n",
    "\n",
    "# ═══════════════════════════════════════════════════════════════════════════\n",
    "# CELL 2: Import Libraries\n",
    "# ═══════════════════════════════════════════════════════════════════════════\n",
    "\n",
    "import torch\n",
    "import torch.nn as nn\n",
    "from torch.utils.data import Dataset\n",
    "from transformers import (\n",
    "    AutoTokenizer,\n",
    "    AutoModelForCausalLM,\n",
    "    TrainingArguments,\n",
    "    Trainer,\n",
    "    DataCollatorForLanguageModeling\n",
    ")\n",
    "from peft import (\n",
    "    LoraConfig,\n",
    "    get_peft_model,\n",
    "    TaskType\n",
    ")\n",
    "from datasets import load_dataset\n",
    "import json\n",
    "import os\n",
    "from dataclasses import dataclass\n",
    "from typing import Optional, List, Dict\n",
    "import warnings\n",
    "warnings.filterwarnings('ignore')"
   ]
  },
  {
   "cell_type": "code",
   "execution_count": 24,
   "metadata": {
    "colab": {
     "base_uri": "https://localhost:8080/"
    },
    "id": "N88aw--is5Od",
    "outputId": "cf0d6af2-b003-407e-cf7b-6bd471043e3f"
   },
   "outputs": [
    {
     "name": "stdout",
     "output_type": "stream",
     "text": [
      "\n",
      "======================================================================\n",
      "EXTRACTING EMBEDDINGS FOR ROUTER TRAINING\n",
      "======================================================================\n",
      "\n",
      "Task ID mapping: {'medical': 0, 'code': 1, 'math': 2, 'creative': 3}\n",
      "\n",
      "Note: Using mean pooling to handle variable-length sequences\n",
      "\n",
      "[1/4] Processing medical...\n",
      "  Loading medical data...\n",
      "     Loaded 500 samples\n",
      "  Extracting embeddings...\n",
      "  ✓ Extracted 500 mean-pooled embeddings\n",
      "\n",
      "[2/4] Processing code...\n",
      "  Loading code data...\n",
      "     Loaded 500 samples\n",
      "  Extracting embeddings...\n",
      "  ✓ Extracted 500 mean-pooled embeddings\n",
      "\n",
      "[3/4] Processing math...\n",
      "  Loading math data...\n",
      "     Loaded 500 samples\n",
      "  Extracting embeddings...\n",
      "  ✓ Extracted 500 mean-pooled embeddings\n",
      "\n",
      "[4/4] Processing creative...\n",
      "  Loading creative data...\n",
      "     Loaded 500 samples\n",
      "  Extracting embeddings...\n",
      "  ✓ Extracted 500 mean-pooled embeddings\n",
      "\n",
      "======================================================================\n",
      "EMBEDDING EXTRACTION COMPLETE\n",
      "======================================================================\n",
      "Total samples: 2000\n",
      "Embedding shape: torch.Size([2000, 2048])\n",
      "Label distribution:\n",
      "  medical: 500 samples\n",
      "  code: 500 samples\n",
      "  math: 500 samples\n",
      "  creative: 500 samples\n"
     ]
    }
   ],
   "source": [
    "\n",
    "print(\"\\n\" + \"=\"*70)\n",
    "print(\"EXTRACTING EMBEDDINGS FOR ROUTER TRAINING\")\n",
    "print(\"=\"*70)\n",
    "\n",
    "all_embeddings = []\n",
    "all_labels = []\n",
    "task_id_map = {name: idx for idx, name in enumerate(LORA_PATHS.keys())}\n",
    "\n",
    "print(f\"\\nTask ID mapping: {task_id_map}\")\n",
    "print(\"\\nNote: Using mean pooling to handle variable-length sequences\")\n",
    "\n",
    "for task_name in LORA_PATHS.keys():\n",
    "    print(f\"\\n[{task_id_map[task_name]+1}/{len(LORA_PATHS)}] Processing {task_name}...\")\n",
    "\n",
    "    # Load prompts for this task\n",
    "    prompts = prepare_task_prompts(task_name, ROUTER_CONFIG['samples_per_task'])\n",
    "\n",
    "    if not prompts:\n",
    "        print(f\"  ⚠ Skipping {task_name} - no data loaded\")\n",
    "        continue\n",
    "\n",
    "    # Extract embeddings\n",
    "    print(f\"  Extracting embeddings...\")\n",
    "    task_embeddings = []\n",
    "\n",
    "    for i in range(0, len(prompts), 8):  # Process in batches of 8\n",
    "        batch_prompts = prompts[i:i+8]\n",
    "\n",
    "        # Tokenize\n",
    "        inputs = tokenizer(\n",
    "            batch_prompts,\n",
    "            max_length=MAX_LENGTH,\n",
    "            padding=True,\n",
    "            truncation=True,\n",
    "            return_tensors='pt'\n",
    "        )\n",
    "        inputs = {k: v.to(device) for k, v in inputs.items()}\n",
    "\n",
    "        # Get embeddings\n",
    "        with torch.no_grad():\n",
    "            outputs = base_model(**inputs, output_hidden_states=True)\n",
    "            hidden_states = outputs.hidden_states[-1]  # Last layer [batch, seq_len, hidden_dim]\n",
    "            attention_mask = inputs['attention_mask']  # [batch, seq_len]\n",
    "\n",
    "            # Apply mean pooling over sequence length (ignoring padding tokens)\n",
    "            # Expand attention mask to match hidden_states dimensions\n",
    "            mask_expanded = attention_mask.unsqueeze(-1).expand(hidden_states.size()).float()\n",
    "\n",
    "            # Sum embeddings and divide by number of non-padding tokens\n",
    "            sum_embeddings = torch.sum(hidden_states * mask_expanded, dim=1)\n",
    "            sum_mask = torch.clamp(mask_expanded.sum(dim=1), min=1e-9)\n",
    "            mean_pooled = sum_embeddings / sum_mask  # [batch, hidden_dim]\n",
    "\n",
    "            # Store mean-pooled embeddings\n",
    "            for emb in mean_pooled:\n",
    "                task_embeddings.append(emb.cpu())\n",
    "\n",
    "    # Add to collection\n",
    "    all_embeddings.extend(task_embeddings)\n",
    "    all_labels.extend([task_id_map[task_name]] * len(task_embeddings))\n",
    "\n",
    "    print(f\"  ✓ Extracted {len(task_embeddings)} mean-pooled embeddings\")\n",
    "\n",
    "# Convert to tensors - now all embeddings have same shape [hidden_dim]\n",
    "X = torch.stack(all_embeddings)  # [total_samples, hidden_dim]\n",
    "y = torch.tensor(all_labels, dtype=torch.long)\n",
    "\n",
    "print(\"\\n\" + \"=\"*70)\n",
    "print(\"EMBEDDING EXTRACTION COMPLETE\")\n",
    "print(\"=\"*70)\n",
    "print(f\"Total samples: {len(X)}\")\n",
    "print(f\"Embedding shape: {X.shape}\")\n",
    "print(f\"Label distribution:\")\n",
    "for task_name, task_id in task_id_map.items():\n",
    "    count = (y == task_id).sum().item()\n",
    "    print(f\"  {task_name}: {count} samples\")"
   ]
  },
  {
   "cell_type": "code",
   "execution_count": 26,
   "metadata": {
    "colab": {
     "base_uri": "https://localhost:8080/"
    },
    "id": "kZQ_F3xss5Qr",
    "outputId": "20fe7091-02c6-467a-f6af-797ca14a79e7"
   },
   "outputs": [
    {
     "name": "stdout",
     "output_type": "stream",
     "text": [
      "\n",
      "Splitting data into train/validation sets...\n",
      "Data split complete\n",
      "  Training samples: 1600\n",
      "  Validation samples: 400\n",
      " DataLoaders created\n"
     ]
    }
   ],
   "source": [
    "\n",
    "# ═══════════════════════════════════════════════════════════════════════════\n",
    "# CELL 10: Split Train/Validation Data\n",
    "# ═══════════════════════════════════════════════════════════════════════════\n",
    "from torch.utils.data import DataLoader\n",
    "print(\"\\nSplitting data into train/validation sets...\")\n",
    "\n",
    "# Shuffle indices\n",
    "indices = torch.randperm(len(X))\n",
    "train_size = int((1 - ROUTER_CONFIG['validation_split']) * len(X))\n",
    "\n",
    "train_indices = indices[:train_size]\n",
    "val_indices = indices[train_size:]\n",
    "\n",
    "X_train, y_train = X[train_indices], y[train_indices]\n",
    "X_val, y_val = X[val_indices], y[val_indices]\n",
    "\n",
    "print(f\"Data split complete\")\n",
    "print(f\"  Training samples: {len(X_train)}\")\n",
    "print(f\"  Validation samples: {len(X_val)}\")\n",
    "\n",
    "# Create datasets\n",
    "train_dataset = RouterDataset(X_train, y_train)\n",
    "val_dataset = RouterDataset(X_val, y_val)\n",
    "\n",
    "# Create dataloaders\n",
    "train_loader = DataLoader(\n",
    "    train_dataset,\n",
    "    batch_size=ROUTER_CONFIG['batch_size'],\n",
    "    shuffle=True\n",
    ")\n",
    "val_loader = DataLoader(\n",
    "    val_dataset,\n",
    "    batch_size=ROUTER_CONFIG['batch_size'],\n",
    "    shuffle=False\n",
    ")\n",
    "\n",
    "print(f\" DataLoaders created\")\n"
   ]
  },
  {
   "cell_type": "code",
   "execution_count": 27,
   "metadata": {
    "colab": {
     "base_uri": "https://localhost:8080/"
    },
    "id": "3H_Rc8LOtofq",
    "outputId": "2ad01553-9e12-4475-fd4e-f3ce63fbf375"
   },
   "outputs": [
    {
     "name": "stdout",
     "output_type": "stream",
     "text": [
      "\n",
      "======================================================================\n",
      "INITIALIZING ROUTER MODEL\n",
      "======================================================================\n",
      "  Router initialized\n",
      "  Input dim: 2048\n",
      "  Hidden dim: 256\n",
      "  Output classes: 4\n",
      "  Total parameters: 557,956\n",
      "  Trainable parameters: 557,956\n"
     ]
    }
   ],
   "source": [
    "\n",
    "# ═══════════════════════════════════════════════════════════════════════════\n",
    "# CELL 11: Initialize Router Model\n",
    "# ═══════════════════════════════════════════════════════════════════════════\n",
    "\n",
    "print(\"\\n\" + \"=\"*70)\n",
    "print(\"INITIALIZING ROUTER MODEL\")\n",
    "print(\"=\"*70)\n",
    "\n",
    "hidden_dim = base_model.config.hidden_size\n",
    "num_tasks = len(LORA_PATHS)\n",
    "\n",
    "router = TaskRouter(\n",
    "    input_dim=hidden_dim,\n",
    "    num_tasks=num_tasks,\n",
    "    hidden_dim=ROUTER_CONFIG['hidden_dim']\n",
    ").to(device)\n",
    "\n",
    "# Count parameters\n",
    "total_params = sum(p.numel() for p in router.parameters())\n",
    "trainable_params = sum(p.numel() for p in router.parameters() if p.requires_grad)\n",
    "\n",
    "print(f\"  Router initialized\")\n",
    "print(f\"  Input dim: {hidden_dim}\")\n",
    "print(f\"  Hidden dim: {ROUTER_CONFIG['hidden_dim']}\")\n",
    "print(f\"  Output classes: {num_tasks}\")\n",
    "print(f\"  Total parameters: {total_params:,}\")\n",
    "print(f\"  Trainable parameters: {trainable_params:,}\")"
   ]
  },
  {
   "cell_type": "code",
   "execution_count": 28,
   "metadata": {
    "colab": {
     "base_uri": "https://localhost:8080/"
    },
    "id": "VBUK7B1Rtoik",
    "outputId": "82a3b7fe-53f4-43e0-a8c9-a42df5f18425"
   },
   "outputs": [
    {
     "name": "stdout",
     "output_type": "stream",
     "text": [
      "\n",
      "======================================================================\n",
      "TRAINING ROUTER\n",
      "======================================================================\n",
      "Epoch 1/15 - Loss: 0.0761 - Acc: 98.50% - Val Loss: 0.0001 - Val Acc: 100.00%\n",
      "   New best model saved (Val Acc: 100.00%)\n",
      "Epoch 2/15 - Loss: 0.0001 - Acc: 100.00% - Val Loss: 0.0000 - Val Acc: 100.00%\n",
      "Epoch 3/15 - Loss: 0.0000 - Acc: 100.00% - Val Loss: 0.0000 - Val Acc: 100.00%\n",
      "Epoch 4/15 - Loss: 0.0000 - Acc: 100.00% - Val Loss: 0.0000 - Val Acc: 100.00%\n",
      "Epoch 5/15 - Loss: 0.0000 - Acc: 100.00% - Val Loss: 0.0000 - Val Acc: 100.00%\n",
      "Epoch 6/15 - Loss: 0.0000 - Acc: 100.00% - Val Loss: 0.0000 - Val Acc: 100.00%\n",
      "Epoch 7/15 - Loss: 0.0000 - Acc: 100.00% - Val Loss: 0.0000 - Val Acc: 100.00%\n",
      "Epoch 8/15 - Loss: 0.0000 - Acc: 100.00% - Val Loss: 0.0000 - Val Acc: 100.00%\n",
      "Epoch 9/15 - Loss: 0.0000 - Acc: 100.00% - Val Loss: 0.0000 - Val Acc: 100.00%\n",
      "Epoch 10/15 - Loss: 0.0000 - Acc: 100.00% - Val Loss: 0.0000 - Val Acc: 100.00%\n",
      "Epoch 11/15 - Loss: 0.0000 - Acc: 100.00% - Val Loss: 0.0000 - Val Acc: 100.00%\n",
      "Epoch 12/15 - Loss: 0.0000 - Acc: 100.00% - Val Loss: 0.0000 - Val Acc: 100.00%\n",
      "Epoch 13/15 - Loss: 0.0000 - Acc: 100.00% - Val Loss: 0.0000 - Val Acc: 100.00%\n",
      "Epoch 14/15 - Loss: 0.0000 - Acc: 100.00% - Val Loss: 0.0000 - Val Acc: 100.00%\n",
      "Epoch 15/15 - Loss: 0.0000 - Acc: 100.00% - Val Loss: 0.0000 - Val Acc: 100.00%\n",
      "\n",
      "======================================================================\n",
      " ROUTER TRAINING COMPLETE\n",
      "======================================================================\n",
      "Best validation accuracy: 100.00%\n",
      "Final validation accuracy: 100.00%\n"
     ]
    }
   ],
   "source": [
    "\n",
    "\n",
    "# ═══════════════════════════════════════════════════════════════════════════\n",
    "# CELL 12: Train Router\n",
    "# ═══════════════════════════════════════════════════════════════════════════\n",
    "\n",
    "print(\"\\n\" + \"=\"*70)\n",
    "print(\"TRAINING ROUTER\")\n",
    "print(\"=\"*70)\n",
    "\n",
    "# Setup training\n",
    "optimizer = torch.optim.AdamW(router.parameters(), lr=ROUTER_CONFIG['learning_rate'])\n",
    "criterion = nn.CrossEntropyLoss()\n",
    "scheduler = torch.optim.lr_scheduler.CosineAnnealingLR(\n",
    "    optimizer,\n",
    "    T_max=ROUTER_CONFIG['num_epochs']\n",
    ")\n",
    "\n",
    "# Training history\n",
    "history = {\n",
    "    'train_loss': [],\n",
    "    'train_acc': [],\n",
    "    'val_loss': [],\n",
    "    'val_acc': []\n",
    "}\n",
    "\n",
    "best_val_acc = 0.0\n",
    "\n",
    "# Training loop\n",
    "for epoch in range(ROUTER_CONFIG['num_epochs']):\n",
    "    # Training phase\n",
    "    router.train()\n",
    "    train_loss = 0\n",
    "    train_correct = 0\n",
    "    train_total = 0\n",
    "\n",
    "    for batch in train_loader:\n",
    "        embeddings = batch['embedding'].to(device)\n",
    "        labels = batch['label'].to(device)\n",
    "\n",
    "        optimizer.zero_grad()\n",
    "        logits = router(embeddings)\n",
    "        loss = criterion(logits, labels)\n",
    "        loss.backward()\n",
    "        optimizer.step()\n",
    "\n",
    "        train_loss += loss.item() * len(labels)\n",
    "        predictions = logits.argmax(dim=1)\n",
    "        train_correct += (predictions == labels).sum().item()\n",
    "        train_total += len(labels)\n",
    "\n",
    "    # Validation phase\n",
    "    router.eval()\n",
    "    val_loss = 0\n",
    "    val_correct = 0\n",
    "    val_total = 0\n",
    "\n",
    "    with torch.no_grad():\n",
    "        for batch in val_loader:\n",
    "            embeddings = batch['embedding'].to(device)\n",
    "            labels = batch['label'].to(device)\n",
    "\n",
    "            logits = router(embeddings)\n",
    "            loss = criterion(logits, labels)\n",
    "\n",
    "            val_loss += loss.item() * len(labels)\n",
    "            predictions = logits.argmax(dim=1)\n",
    "            val_correct += (predictions == labels).sum().item()\n",
    "            val_total += len(labels)\n",
    "\n",
    "    # Calculate metrics\n",
    "    train_loss = train_loss / train_total\n",
    "    train_acc = 100 * train_correct / train_total\n",
    "    val_loss = val_loss / val_total\n",
    "    val_acc = 100 * val_correct / val_total\n",
    "\n",
    "    # Update history\n",
    "    history['train_loss'].append(train_loss)\n",
    "    history['train_acc'].append(train_acc)\n",
    "    history['val_loss'].append(val_loss)\n",
    "    history['val_acc'].append(val_acc)\n",
    "\n",
    "    # Print progress\n",
    "    print(f\"Epoch {epoch+1}/{ROUTER_CONFIG['num_epochs']} - \"\n",
    "          f\"Loss: {train_loss:.4f} - Acc: {train_acc:.2f}% - \"\n",
    "          f\"Val Loss: {val_loss:.4f} - Val Acc: {val_acc:.2f}%\")\n",
    "\n",
    "    # Save best model\n",
    "    if val_acc > best_val_acc:\n",
    "        best_val_acc = val_acc\n",
    "        torch.save(router.state_dict(), \"./router_model_best.pt\")\n",
    "        print(f\"   New best model saved (Val Acc: {val_acc:.2f}%)\")\n",
    "\n",
    "    scheduler.step()\n",
    "\n",
    "# Save final model\n",
    "torch.save(router.state_dict(), \"./router_model_final.pt\")\n",
    "\n",
    "print(\"\\n\" + \"=\"*70)\n",
    "print(\" ROUTER TRAINING COMPLETE\")\n",
    "print(\"=\"*70)\n",
    "print(f\"Best validation accuracy: {best_val_acc:.2f}%\")\n",
    "print(f\"Final validation accuracy: {val_acc:.2f}%\")"
   ]
  },
  {
   "cell_type": "code",
   "execution_count": 30,
   "metadata": {
    "colab": {
     "base_uri": "https://localhost:8080/",
     "height": 246
    },
    "id": "AxG6JryKtomD",
    "outputId": "470d5953-ccae-4ef2-cb67-7868fdb28f87"
   },
   "outputs": [
    {
     "data": {
      "image/png": "[encoded data removed]",
      "text/plain": [
       "<Figure size 1500x500 with 2 Axes>"
      ]
     },
     "metadata": {},
     "output_type": "display_data"
    },
    {
     "name": "stdout",
     "output_type": "stream",
     "text": [
      " Training history visualized and saved\n"
     ]
    }
   ],
   "source": [
    "\n",
    "import matplotlib.pyplot as plt\n",
    "# ═══════════════════════════════════════════════════════════════════════════\n",
    "# CELL 13: Visualize Training History\n",
    "# ═══════════════════════════════════════════════════════════════════════════\n",
    "\n",
    "fig, (ax1, ax2) = plt.subplots(1, 2, figsize=(15, 5))\n",
    "\n",
    "# Plot loss\n",
    "ax1.plot(history['train_loss'], label='Train Loss', marker='o')\n",
    "ax1.plot(history['val_loss'], label='Val Loss', marker='s')\n",
    "ax1.set_xlabel('Epoch')\n",
    "ax1.set_ylabel('Loss')\n",
    "ax1.set_title('Training and Validation Loss')\n",
    "ax1.legend()\n",
    "ax1.grid(True, alpha=0.3)\n",
    "\n",
    "# Plot accuracy\n",
    "ax2.plot(history['train_acc'], label='Train Acc', marker='o')\n",
    "ax2.plot(history['val_acc'], label='Val Acc', marker='s')\n",
    "ax2.set_xlabel('Epoch')\n",
    "ax2.set_ylabel('Accuracy (%)')\n",
    "ax2.set_title('Training and Validation Accuracy')\n",
    "ax2.legend()\n",
    "ax2.grid(True, alpha=0.3)\n",
    "\n",
    "plt.tight_layout()\n",
    "plt.savefig('router_training_history.png', dpi=150, bbox_inches='tight')\n",
    "plt.show()\n",
    "\n",
    "print(\" Training history visualized and saved\")"
   ]
  },
  {
   "cell_type": "code",
   "execution_count": 33,
   "metadata": {
    "colab": {
     "base_uri": "https://localhost:8080/",
     "height": 880
    },
    "id": "Bj4CQSfwtpA3",
    "outputId": "2ef184ca-fc66-4153-d7c2-c56be2ae1728"
   },
   "outputs": [
    {
     "name": "stdout",
     "output_type": "stream",
     "text": [
      "\n",
      "======================================================================\n",
      "EVALUATING ROUTER PERFORMANCE\n",
      "======================================================================\n",
      "\n",
      "Classification Report:\n",
      "              precision    recall  f1-score   support\n",
      "\n",
      "     medical       1.00      1.00      1.00        90\n",
      "        code       1.00      1.00      1.00        96\n",
      "        math       1.00      1.00      1.00       110\n",
      "    creative       1.00      1.00      1.00       104\n",
      "\n",
      "    accuracy                           1.00       400\n",
      "   macro avg       1.00      1.00      1.00       400\n",
      "weighted avg       1.00      1.00      1.00       400\n",
      "\n"
     ]
    },
    {
     "data": {
      "image/png": "[encoded data removed]",
      "text/plain": [
       "<Figure size 1000x800 with 2 Axes>"
      ]
     },
     "metadata": {},
     "output_type": "display_data"
    },
    {
     "name": "stdout",
     "output_type": "stream",
     "text": [
      " Evaluation complete\n"
     ]
    }
   ],
   "source": [
    "\n",
    "\n",
    "# ═══════════════════════════════════════════════════════════════════════════\n",
    "# CELL 14: Evaluate Router Performance\n",
    "# ═══════════════════════════════════════════════════════════════════════════\n",
    "\n",
    "print(\"\\n\" + \"=\"*70)\n",
    "print(\"EVALUATING ROUTER PERFORMANCE\")\n",
    "print(\"=\"*70)\n",
    "\n",
    "# Load best model\n",
    "router.load_state_dict(torch.load(\"./router_model_best.pt\"))\n",
    "router.eval()\n",
    "\n",
    "# Get predictions on validation set\n",
    "all_preds = []\n",
    "all_true = []\n",
    "\n",
    "with torch.no_grad():\n",
    "    for batch in val_loader:\n",
    "        embeddings = batch['embedding'].to(device)\n",
    "        labels = batch['label']\n",
    "\n",
    "        logits = router(embeddings)\n",
    "        predictions = logits.argmax(dim=1).cpu()\n",
    "\n",
    "        all_preds.extend(predictions.tolist())\n",
    "        all_true.extend(labels.tolist())\n",
    "\n",
    "# Classification report\n",
    "task_names = list(LORA_PATHS.keys())\n",
    "print(\"\\nClassification Report:\")\n",
    "print(classification_report(all_true, all_preds, target_names=task_names))\n",
    "\n",
    "# Confusion matrix\n",
    "cm = confusion_matrix(all_true, all_preds)\n",
    "plt.figure(figsize=(10, 8))\n",
    "sns.heatmap(cm, annot=True, fmt='d', cmap='Blues',\n",
    "            xticklabels=task_names,\n",
    "            yticklabels=task_names)\n",
    "plt.title('Router Confusion Matrix')\n",
    "plt.ylabel('True Label')\n",
    "plt.xlabel('Predicted Label')\n",
    "plt.tight_layout()\n",
    "plt.savefig('router_confusion_matrix.png', dpi=150, bbox_inches='tight')\n",
    "plt.show()\n",
    "\n",
    "print(\" Evaluation complete\")\n"
   ]
  },
  {
   "cell_type": "code",
   "execution_count": 34,
   "metadata": {
    "colab": {
     "base_uri": "https://localhost:8080/"
    },
    "id": "bVhZ1yB5tpEa",
    "outputId": "8a2e5f3d-3e66-4217-fe62-a385605c9f59"
   },
   "outputs": [
    {
     "name": "stdout",
     "output_type": "stream",
     "text": [
      " Router configuration saved to router_config.json\n"
     ]
    }
   ],
   "source": [
    "\n",
    "# ═══════════════════════════════════════════════════════════════════════════\n",
    "# CELL 15: Save Router Configuration\n",
    "# ═══════════════════════════════════════════════════════════════════════════\n",
    "\n",
    "router_config = {\n",
    "    \"model_name\": MODEL_NAME,\n",
    "    \"hidden_dim\": ROUTER_CONFIG['hidden_dim'],\n",
    "    \"num_tasks\": num_tasks,\n",
    "    \"task_id_map\": task_id_map,\n",
    "    \"task_names\": task_names,\n",
    "    \"best_val_acc\": best_val_acc,\n",
    "    \"lora_paths\": LORA_PATHS\n",
    "}\n",
    "\n",
    "with open(\"./router_config.json\", \"w\") as f:\n",
    "    json.dump(router_config, f, indent=2)\n",
    "\n",
    "print(\" Router configuration saved to router_config.json\")"
   ]
  },
  {
   "cell_type": "code",
   "execution_count": 35,
   "metadata": {
    "colab": {
     "base_uri": "https://localhost:8080/"
    },
    "id": "1jldiUDzty3Z",
    "outputId": "f18a1144-5532-49ce-e030-12ebf01c2d60"
   },
   "outputs": [
    {
     "name": "stdout",
     "output_type": "stream",
     "text": [
      "✓ MultiLoRAInference class defined\n"
     ]
    }
   ],
   "source": [
    "class MultiLoRAInference:\n",
    "    \"\"\"Inference with automatic task routing\"\"\"\n",
    "    def __init__(self, base_model_name: str, lora_paths: Dict[str, str],\n",
    "                 router_path: str, router_config: dict):\n",
    "        self.device = torch.device(\"cuda\" if torch.cuda.is_available() else \"cpu\")\n",
    "\n",
    "        print(\"=\"*70)\n",
    "        print(\"INITIALIZING MULTI-LORA INFERENCE PIPELINE\")\n",
    "        print(\"=\"*70)\n",
    "\n",
    "        # Load tokenizer\n",
    "        print(\"\\n1. Loading tokenizer...\")\n",
    "        self.tokenizer = AutoTokenizer.from_pretrained(base_model_name)\n",
    "        self.tokenizer.pad_token = self.tokenizer.eos_token\n",
    "        print(\"   ✓ Tokenizer loaded\")\n",
    "\n",
    "        # Load base model\n",
    "        print(\"\\n2. Loading base model...\")\n",
    "        self.base_model = AutoModelForCausalLM.from_pretrained(\n",
    "            base_model_name,\n",
    "            torch_dtype=torch.float16 if torch.cuda.is_available() else torch.float32,\n",
    "            device_map=\"auto\"\n",
    "        )\n",
    "        self.base_model.eval()\n",
    "        print(\"   ✓ Base model loaded\")\n",
    "\n",
    "        # Load LoRA adapters\n",
    "        print(\"\\n3. Loading LoRA experts...\")\n",
    "        self.lora_models = {}\n",
    "        for task_name, path in lora_paths.items():\n",
    "            try:\n",
    "                self.lora_models[task_name] = PeftModel.from_pretrained(\n",
    "                    self.base_model, path\n",
    "                )\n",
    "                print(f\"   ✓ {task_name}\")\n",
    "            except Exception as e:\n",
    "                print(f\"   ✗ {task_name}: {e}\")\n",
    "\n",
    "        # Load router\n",
    "        print(\"\\n4. Loading router...\")\n",
    "        hidden_dim = self.base_model.config.hidden_size\n",
    "        self.router = TaskRouter(\n",
    "            hidden_dim,\n",
    "            router_config['num_tasks'],\n",
    "            router_config['hidden_dim']\n",
    "        )\n",
    "        self.router.load_state_dict(torch.load(router_path))\n",
    "        self.router.to(self.device)\n",
    "        self.router.eval()\n",
    "        print(\"   ✓ Router loaded\")\n",
    "\n",
    "        self.task_names = router_config['task_names']\n",
    "\n",
    "        print(\"\\n\" + \"=\"*70)\n",
    "        print(\"✓ INFERENCE PIPELINE READY!\")\n",
    "        print(\"=\"*70)\n",
    "        print(f\"Available experts: {list(self.lora_models.keys())}\")\n",
    "\n",
    "    def route_task(self, prompt: str) -> tuple:\n",
    "        \"\"\"Determine which task the prompt belongs to\"\"\"\n",
    "        inputs = self.tokenizer(\n",
    "            prompt,\n",
    "            return_tensors=\"pt\",\n",
    "            max_length=MAX_LENGTH,\n",
    "            truncation=True\n",
    "        )\n",
    "        inputs = {k: v.to(self.device) for k, v in inputs.items()}\n",
    "\n",
    "        with torch.no_grad():\n",
    "            # Get hidden states\n",
    "            outputs = self.base_model(**inputs, output_hidden_states=True)\n",
    "            hidden_states = outputs.hidden_states[-1]  # [1, seq_len, hidden_dim]\n",
    "            attention_mask = inputs['attention_mask']  # [1, seq_len]\n",
    "\n",
    "            # Apply mean pooling\n",
    "            mask_expanded = attention_mask.unsqueeze(-1).expand(hidden_states.size()).float()\n",
    "            sum_embeddings = torch.sum(hidden_states * mask_expanded, dim=1)\n",
    "            sum_mask = torch.clamp(mask_expanded.sum(dim=1), min=1e-9)\n",
    "            mean_pooled = sum_embeddings / sum_mask  # [1, hidden_dim]\n",
    "\n",
    "            # Route\n",
    "            logits = self.router(mean_pooled)\n",
    "            probs = torch.softmax(logits, dim=1)\n",
    "            task_id = logits.argmax(dim=1).item()\n",
    "            confidence = probs[0, task_id].item()\n",
    "\n",
    "        return self.task_names[task_id], confidence\n",
    "\n",
    "    def generate(self, prompt: str, max_new_tokens: int = 200,\n",
    "                 temperature: float = 0.7, top_p: float = 0.95):\n",
    "        \"\"\"Generate response with automatic task routing\"\"\"\n",
    "        # Route to appropriate expert\n",
    "        task, confidence = self.route_task(prompt)\n",
    "        print(f\"🎯 Routed to: {task} (confidence: {confidence:.1%})\")\n",
    "\n",
    "        # Select model\n",
    "        if task not in self.lora_models:\n",
    "            print(f\"⚠ Expert '{task}' not available, using base model\")\n",
    "            model = self.base_model\n",
    "        else:\n",
    "            model = self.lora_models[task]\n",
    "\n",
    "        # Generate\n",
    "        inputs = self.tokenizer(prompt, return_tensors=\"pt\")\n",
    "        inputs = {k: v.to(self.device) for k, v in inputs.items()}\n",
    "\n",
    "        with torch.no_grad():\n",
    "            outputs = model.generate(\n",
    "                **inputs,\n",
    "                max_new_tokens=max_new_tokens,\n",
    "                temperature=temperature,\n",
    "                do_sample=True,\n",
    "                top_p=top_p,\n",
    "                pad_token_id=self.tokenizer.eos_token_id\n",
    "            )\n",
    "\n",
    "        response = self.tokenizer.decode(outputs[0], skip_special_tokens=True)\n",
    "        return response, task, confidence\n",
    "\n",
    "print(\"✓ MultiLoRAInference class defined\")"
   ]
  },
  {
   "cell_type": "code",
   "execution_count": 36,
   "metadata": {
    "colab": {
     "base_uri": "https://localhost:8080/"
    },
    "id": "91kFTq0kty6G",
    "outputId": "1e005712-30f8-4035-be61-1a6d8413db83"
   },
   "outputs": [
    {
     "name": "stdout",
     "output_type": "stream",
     "text": [
      "======================================================================\n",
      "INITIALIZING MULTI-LORA INFERENCE PIPELINE\n",
      "======================================================================\n",
      "\n",
      "1. Loading tokenizer...\n",
      "   ✓ Tokenizer loaded\n",
      "\n",
      "2. Loading base model...\n",
      "   ✓ Base model loaded\n",
      "\n",
      "3. Loading LoRA experts...\n",
      "   ✗ medical: module 'torch._dynamo.convert_frame' has no attribute 'convert_frame'\n",
      "   ✗ code: This is not allowed since there's already a kernel registered from python overriding int8_mm_dequant's behavior for CompositeExplicitAutograd dispatch key and bitsandbytes namespace.\n",
      "   ✗ math: This is not allowed since there's already a kernel registered from python overriding int8_mm_dequant's behavior for CompositeExplicitAutograd dispatch key and bitsandbytes namespace.\n",
      "   ✗ creative: This is not allowed since there's already a kernel registered from python overriding int8_mm_dequant's behavior for CompositeExplicitAutograd dispatch key and bitsandbytes namespace.\n",
      "\n",
      "4. Loading router...\n",
      "   ✓ Router loaded\n",
      "\n",
      "======================================================================\n",
      "✓ INFERENCE PIPELINE READY!\n",
      "======================================================================\n",
      "Available experts: []\n",
      "\n",
      " Ready for inference!\n"
     ]
    }
   ],
   "source": [
    "\n",
    "\n",
    "# ═══════════════════════════════════════════════════════════════════════════\n",
    "# CELL 17: Initialize Inference Pipeline\n",
    "# ═══════════════════════════════════════════════════════════════════════════\n",
    "\n",
    "# Load router configuration\n",
    "with open(\"./router_config.json\", \"r\") as f:\n",
    "    router_cfg = json.load(f)\n",
    "\n",
    "# Initialize inference pipeline\n",
    "inference_pipeline = MultiLoRAInference(\n",
    "    MODEL_NAME,\n",
    "    LORA_PATHS,\n",
    "    \"./router_model_best.pt\",\n",
    "    router_cfg\n",
    ")\n",
    "\n",
    "print(\"\\n Ready for inference!\")"
   ]
  },
  {
   "cell_type": "code",
   "execution_count": 37,
   "metadata": {
    "colab": {
     "base_uri": "https://localhost:8080/"
    },
    "id": "td9rBBZhty9k",
    "outputId": "7e45654c-9ee0-4668-bacf-fd2ee10d3882"
   },
   "outputs": [
    {
     "name": "stdout",
     "output_type": "stream",
     "text": [
      "\n",
      "======================================================================\n",
      "TESTING MULTI-EXPERT INFERENCE\n",
      "======================================================================\n",
      "\n",
      "──────────────────────────────────────────────────────────────────────\n",
      "TEST: MEDICAL\n",
      "──────────────────────────────────────────────────────────────────────\n",
      " Prompt:\n",
      "### Medical Question:\n",
      "What are the common symptoms of hypertension?\n",
      "\n",
      "### Answer:\n",
      "...\n",
      "\n",
      "🎯 Routed to: medical (confidence: 100.0%)\n",
      "⚠ Expert 'medical' not available, using base model\n",
      " Response:\n",
      "### Medical Question:\n",
      "What are the common symptoms of hypertension?\n",
      "\n",
      "### Answer:\n",
      "The common symptoms of hypertension are:\n",
      "1. Headache\n",
      "2. Nausea\n",
      "3. Weakness\n",
      "4. Shortness of breath\n",
      "5. Dizziness\n",
      "6. Congestion\n",
      "7. Sweating\n",
      "8. Insomnia\n",
      "9. Muscle pain\n",
      "10. Thirst\n",
      "11. Poorly controlled blood pressure\n",
      "12. Pain in the arms or legs\n",
      "13. Blurred vision\n",
      "14. Tender or swollen lymph nodes\n",
      "15. Heart palpitations\n",
      "16. Eye pain\n",
      "17. Feeling of fullness or heaviness in the chest\n",
      "18. Chest pain\n",
      "\n",
      "\n",
      "──────────────────────────────────────────────────────────────────────\n",
      "TEST: CODE\n",
      "──────────────────────────────────────────────────────────────────────\n",
      " Prompt:\n",
      "### Instruction:\n",
      "Write a Python function to calculate factorial\n",
      "\n",
      "### Code:\n",
      "...\n",
      "\n",
      "🎯 Routed to: code (confidence: 100.0%)\n",
      "⚠ Expert 'code' not available, using base model\n",
      " Response:\n",
      "### Instruction:\n",
      "Write a Python function to calculate factorial\n",
      "\n",
      "### Code:\n",
      "\n",
      "def factorial(num):\n",
      "    if num == 0:\n",
      "        return 1\n",
      "    else:\n",
      "        return num * factorial(num-1)\n",
      "\n",
      "# Example usage:\n",
      "print(factorial(5)) # Output: 120\n",
      "print(factorial(10)) # Output: 3628800\n",
      "```\n",
      "\n",
      "Explanation:\n",
      "\n",
      "In the `factorial` function, we first check if the input `num` is zero (i.e., `num == 0`). If so, we return `1` because the factorial of zero is 1.\n",
      "\n",
      "Next, we call the `factorial` function with the input\n",
      "\n",
      "\n",
      "──────────────────────────────────────────────────────────────────────\n",
      "TEST: MATH\n",
      "──────────────────────────────────────────────────────────────────────\n",
      " Prompt:\n",
      "### Problem:\n",
      "If Sarah has 24 apples and gives away 7, how many does she have left?\n",
      "\n",
      "### Solution:\n",
      "...\n",
      "\n",
      "🎯 Routed to: math (confidence: 100.0%)\n",
      "⚠ Expert 'math' not available, using base model\n",
      " Response:\n",
      "### Problem:\n",
      "If Sarah has 24 apples and gives away 7, how many does she have left?\n",
      "\n",
      "### Solution:\n",
      "The number of apples remaining in Sarah's possession is 17. This is the difference between the number of apples given away (7) and the number of apples remaining (24).\n",
      "\n",
      "\n",
      "──────────────────────────────────────────────────────────────────────\n",
      "TEST: CREATIVE\n",
      "──────────────────────────────────────────────────────────────────────\n",
      " Prompt:\n",
      "### Writing Prompt:\n",
      "Write a short story about a time traveler\n",
      "\n",
      "### Story:\n",
      "...\n",
      "\n",
      "🎯 Routed to: creative (confidence: 100.0%)\n",
      "⚠ Expert 'creative' not available, using base model\n",
      " Response:\n",
      "### Writing Prompt:\n",
      "Write a short story about a time traveler\n",
      "\n",
      "### Story:\n",
      "\n",
      "Sarah had always been fascinated with time travel. She had read books, watched movies, and even tried it herself when she was younger. But she had never imagined that her dreams could come true.\n",
      "\n",
      "One day, Sarah received an email from a mysterious sender. The message said that she had been selected for a time travel mission. The sender promised that she would be transported back in time to the year 1965.\n",
      "\n",
      "Sarah was thrilled. She had always wanted to experience the hippie culture of the 60s. She had spent countless hours reading about the era and listening to the music of the time.\n",
      "\n",
      "On her journey back in\n",
      "\n"
     ]
    }
   ],
   "source": [
    "\n",
    "\n",
    "# ═══════════════════════════════════════════════════════════════════════════\n",
    "# CELL 18: Interactive Testing\n",
    "# ═══════════════════════════════════════════════════════════════════════════\n",
    "\n",
    "# Test prompts for each task\n",
    "TEST_PROMPTS = {\n",
    "    \"medical\": \"### Medical Question:\\nWhat are the common symptoms of hypertension?\\n\\n### Answer:\\n\",\n",
    "    \"code\": \"### Instruction:\\nWrite a Python function to calculate factorial\\n\\n### Code:\\n\",\n",
    "    \"math\": \"### Problem:\\nIf Sarah has 24 apples and gives away 7, how many does she have left?\\n\\n### Solution:\\n\",\n",
    "    \"creative\": \"### Writing Prompt:\\nWrite a short story about a time traveler\\n\\n### Story:\\n\"\n",
    "}\n",
    "\n",
    "print(\"\\n\" + \"=\"*70)\n",
    "print(\"TESTING MULTI-EXPERT INFERENCE\")\n",
    "print(\"=\"*70)\n",
    "\n",
    "for task_type, prompt in TEST_PROMPTS.items():\n",
    "    print(f\"\\n{'─'*70}\")\n",
    "    print(f\"TEST: {task_type.upper()}\")\n",
    "    print(f\"{'─'*70}\")\n",
    "    print(f\" Prompt:\\n{prompt[:100]}...\")\n",
    "    print()\n",
    "\n",
    "    try:\n",
    "        response, routed_task, confidence = inference_pipeline.generate(\n",
    "            prompt,\n",
    "            max_new_tokens=150,\n",
    "            temperature=0.7\n",
    "        )\n",
    "        print(f\" Response:\\n{response}\\n\")\n",
    "    except Exception as e:\n",
    "        print(f\" Error: {e}\\n\")"
   ]
  },
  {
   "cell_type": "code",
   "execution_count": 38,
   "metadata": {
    "colab": {
     "base_uri": "https://localhost:8080/"
    },
    "id": "_1RyKXSAt5wp",
    "outputId": "c724c654-eea9-420a-cadf-1f7c691a5361"
   },
   "outputs": [
    {
     "name": "stdout",
     "output_type": "stream",
     "text": [
      "\n",
      " Use test_custom_prompt(your_prompt) to test with custom prompts!\n"
     ]
    }
   ],
   "source": [
    "\n",
    "\n",
    "# ═══════════════════════════════════════════════════════════════════════════\n",
    "# CELL 19: Custom Prompt Testing\n",
    "# ═══════════════════════════════════════════════════════════════════════════\n",
    "\n",
    "def test_custom_prompt(prompt: str, max_tokens: int = 200):\n",
    "    \"\"\"Test with a custom prompt\"\"\"\n",
    "    print(\"\\n\" + \"=\"*70)\n",
    "    print(\"CUSTOM PROMPT TEST\")\n",
    "    print(\"=\"*70)\n",
    "    print(f\" Your Prompt:\\n{prompt}\\n\")\n",
    "\n",
    "    response, task, confidence = inference_pipeline.generate(\n",
    "        prompt,\n",
    "        max_new_tokens=max_tokens\n",
    "    )\n",
    "\n",
    "    print(f\"\\n Response:\\n{response}\")\n",
    "    print(f\"\\n Routing Info:\")\n",
    "    print(f\"  Task: {task}\")\n",
    "    print(f\"  Confidence: {confidence:.1%}\")\n",
    "    print(\"=\"*70)\n",
    "\n",
    "# Example usage - modify as needed:\n",
    "# test_custom_prompt(\"### Medical Question:\\nWhat causes diabetes?\\n\\n### Answer:\\n\")\n",
    "# test_custom_prompt(\"### Instruction:\\nWrite a function to reverse a list\\n\\n### Code:\\n\")\n",
    "\n",
    "print(\"\\n Use test_custom_prompt(your_prompt) to test with custom prompts!\")"
   ]
  },
  {
   "cell_type": "code",
   "execution_count": 39,
   "metadata": {
    "colab": {
     "base_uri": "https://localhost:8080/"
    },
    "id": "zCTF6mcct56o",
    "outputId": "309bbebd-367a-48e5-9af5-47ed28b15060"
   },
   "outputs": [
    {
     "name": "stdout",
     "output_type": "stream",
     "text": [
      "\n",
      "======================================================================\n",
      "SAVING COMPLETE SYSTEM\n",
      "======================================================================\n",
      "\n",
      " System configuration saved\n",
      "\n",
      " Complete system files:\n",
      "  • LoRA experts: ./lora_experts/\n",
      "    - medical/\n",
      "    - code/\n",
      "    - math/\n",
      "    - creative/\n",
      "  • Router model: ./router_model_best.pt\n",
      "  • Router config: ./router_config.json\n",
      "  • Deployment config: ./deployment_config.json\n",
      "  • Training plots: router_training_history.png, router_confusion_matrix.png\n",
      "\n",
      "======================================================================\n",
      " COMPLETE SYSTEM READY FOR DEPLOYMENT! \n",
      "======================================================================\n"
     ]
    }
   ],
   "source": [
    "\n",
    "\n",
    "# ═══════════════════════════════════════════════════════════════════════════\n",
    "# CELL 20: Save Complete System\n",
    "# ═══════════════════════════════════════════════════════════════════════════\n",
    "\n",
    "print(\"\\n\" + \"=\"*70)\n",
    "print(\"SAVING COMPLETE SYSTEM\")\n",
    "print(\"=\"*70)\n",
    "\n",
    "# Save everything needed for deployment\n",
    "deployment_config = {\n",
    "    \"model_name\": MODEL_NAME,\n",
    "    \"lora_paths\": LORA_PATHS,\n",
    "    \"router_path\": \"./router_model_best.pt\",\n",
    "    \"router_config\": router_cfg,\n",
    "    \"max_length\": MAX_LENGTH,\n",
    "    \"task_prompts\": TASKS\n",
    "}\n",
    "\n",
    "with open(\"./deployment_config.json\", \"w\") as f:\n",
    "    json.dump(deployment_config, f, indent=2)\n",
    "\n",
    "print(\"\\n System configuration saved\")\n",
    "print(\"\\n Complete system files:\")\n",
    "print(\"  • LoRA experts: ./lora_experts/\")\n",
    "for task in LORA_PATHS.keys():\n",
    "    print(f\"    - {task}/\")\n",
    "print(\"  • Router model: ./router_model_best.pt\")\n",
    "print(\"  • Router config: ./router_config.json\")\n",
    "print(\"  • Deployment config: ./deployment_config.json\")\n",
    "print(\"  • Training plots: router_training_history.png, router_confusion_matrix.png\")\n",
    "\n",
    "print(\"\\n\" + \"=\"*70)\n",
    "print(\" COMPLETE SYSTEM READY FOR DEPLOYMENT! \")\n",
    "print(\"=\"*70)"
   ]
  },
  {
   "cell_type": "code",
   "execution_count": null,
   "metadata": {
    "id": "ASPE4uXxs5UO"
   },
   "outputs": [],
   "source": []
  },
  {
   "cell_type": "code",
   "execution_count": 40,
   "metadata": {
    "colab": {
     "base_uri": "https://localhost:8080/",
     "height": 121
    },
    "id": "7lOZ5ywmsvbp",
    "outputId": "d33d91a2-3809-47c3-d16b-e1e1bc25df52"
   },
   "outputs": [
    {
     "name": "stdout",
     "output_type": "stream",
     "text": [
      "Creating archives...\n",
      "\n",
      "Downloading files...\n"
     ]
    },
    {
     "data": {
      "application/javascript": [
       "\n",
       "    async function download(id, filename, size) {\n",
       "      if (!google.colab.kernel.accessAllowed) {\n",
       "        return;\n",
       "      }\n",
       "      const div = document.createElement('div');\n",
       "      const label = document.createElement('label');\n",
       "      label.textContent = `Downloading \"${filename}\": `;\n",
       "      div.appendChild(label);\n",
       "      const progress = document.createElement('progress');\n",
       "      progress.max = size;\n",
       "      div.appendChild(progress);\n",
       "      document.body.appendChild(div);\n",
       "\n",
       "      const buffers = [];\n",
       "      let downloaded = 0;\n",
       "\n",
       "      const channel = await google.colab.kernel.comms.open(id);\n",
       "      // Send a message to notify the kernel that we're ready.\n",
       "      channel.send({})\n",
       "\n",
       "      for await (const message of channel.messages) {\n",
       "        // Send a message to notify the kernel that we're ready.\n",
       "        channel.send({})\n",
       "        if (message.buffers) {\n",
       "          for (const buffer of message.buffers) {\n",
       "            buffers.push(buffer);\n",
       "            downloaded += buffer.byteLength;\n",
       "            progress.value = downloaded;\n",
       "          }\n",
       "        }\n",
       "      }\n",
       "      const blob = new Blob(buffers, {type: 'application/binary'});\n",
       "      const a = document.createElement('a');\n",
       "      a.href = window.URL.createObjectURL(blob);\n",
       "      a.download = filename;\n",
       "      div.appendChild(a);\n",
       "      a.click();\n",
       "      div.remove();\n",
       "    }\n",
       "  "
      ],
      "text/plain": [
       "<IPython.core.display.Javascript object>"
      ]
     },
     "metadata": {},
     "output_type": "display_data"
    },
    {
     "data": {
      "application/javascript": [
       "download(\"download_a3bdaf47-af78-4a54-89d7-d544e46a54a9\", \"lora_experts_complete.zip\", 470447768)"
      ],
      "text/plain": [
       "<IPython.core.display.Javascript object>"
      ]
     },
     "metadata": {},
     "output_type": "display_data"
    },
    {
     "data": {
      "application/javascript": [
       "\n",
       "    async function download(id, filename, size) {\n",
       "      if (!google.colab.kernel.accessAllowed) {\n",
       "        return;\n",
       "      }\n",
       "      const div = document.createElement('div');\n",
       "      const label = document.createElement('label');\n",
       "      label.textContent = `Downloading \"${filename}\": `;\n",
       "      div.appendChild(label);\n",
       "      const progress = document.createElement('progress');\n",
       "      progress.max = size;\n",
       "      div.appendChild(progress);\n",
       "      document.body.appendChild(div);\n",
       "\n",
       "      const buffers = [];\n",
       "      let downloaded = 0;\n",
       "\n",
       "      const channel = await google.colab.kernel.comms.open(id);\n",
       "      // Send a message to notify the kernel that we're ready.\n",
       "      channel.send({})\n",
       "\n",
       "      for await (const message of channel.messages) {\n",
       "        // Send a message to notify the kernel that we're ready.\n",
       "        channel.send({})\n",
       "        if (message.buffers) {\n",
       "          for (const buffer of message.buffers) {\n",
       "            buffers.push(buffer);\n",
       "            downloaded += buffer.byteLength;\n",
       "            progress.value = downloaded;\n",
       "          }\n",
       "        }\n",
       "      }\n",
       "      const blob = new Blob(buffers, {type: 'application/binary'});\n",
       "      const a = document.createElement('a');\n",
       "      a.href = window.URL.createObjectURL(blob);\n",
       "      a.download = filename;\n",
       "      div.appendChild(a);\n",
       "      a.click();\n",
       "      div.remove();\n",
       "    }\n",
       "  "
      ],
      "text/plain": [
       "<IPython.core.display.Javascript object>"
      ]
     },
     "metadata": {},
     "output_type": "display_data"
    },
    {
     "data": {
      "application/javascript": [
       "download(\"download_2ffca3b7-95aa-4b30-952f-dc15011b88b4\", \"router_model_best.pt\", 2235149)"
      ],
      "text/plain": [
       "<IPython.core.display.Javascript object>"
      ]
     },
     "metadata": {},
     "output_type": "display_data"
    },
    {
     "data": {
      "application/javascript": [
       "\n",
       "    async function download(id, filename, size) {\n",
       "      if (!google.colab.kernel.accessAllowed) {\n",
       "        return;\n",
       "      }\n",
       "      const div = document.createElement('div');\n",
       "      const label = document.createElement('label');\n",
       "      label.textContent = `Downloading \"${filename}\": `;\n",
       "      div.appendChild(label);\n",
       "      const progress = document.createElement('progress');\n",
       "      progress.max = size;\n",
       "      div.appendChild(progress);\n",
       "      document.body.appendChild(div);\n",
       "\n",
       "      const buffers = [];\n",
       "      let downloaded = 0;\n",
       "\n",
       "      const channel = await google.colab.kernel.comms.open(id);\n",
       "      // Send a message to notify the kernel that we're ready.\n",
       "      channel.send({})\n",
       "\n",
       "      for await (const message of channel.messages) {\n",
       "        // Send a message to notify the kernel that we're ready.\n",
       "        channel.send({})\n",
       "        if (message.buffers) {\n",
       "          for (const buffer of message.buffers) {\n",
       "            buffers.push(buffer);\n",
       "            downloaded += buffer.byteLength;\n",
       "            progress.value = downloaded;\n",
       "          }\n",
       "        }\n",
       "      }\n",
       "      const blob = new Blob(buffers, {type: 'application/binary'});\n",
       "      const a = document.createElement('a');\n",
       "      a.href = window.URL.createObjectURL(blob);\n",
       "      a.download = filename;\n",
       "      div.appendChild(a);\n",
       "      a.click();\n",
       "      div.remove();\n",
       "    }\n",
       "  "
      ],
      "text/plain": [
       "<IPython.core.display.Javascript object>"
      ]
     },
     "metadata": {},
     "output_type": "display_data"
    },
    {
     "data": {
      "application/javascript": [
       "download(\"download_3262b51d-cd76-48bf-8171-3dbf6ca4846d\", \"router_config.json\", 463)"
      ],
      "text/plain": [
       "<IPython.core.display.Javascript object>"
      ]
     },
     "metadata": {},
     "output_type": "display_data"
    },
    {
     "data": {
      "application/javascript": [
       "\n",
       "    async function download(id, filename, size) {\n",
       "      if (!google.colab.kernel.accessAllowed) {\n",
       "        return;\n",
       "      }\n",
       "      const div = document.createElement('div');\n",
       "      const label = document.createElement('label');\n",
       "      label.textContent = `Downloading \"${filename}\": `;\n",
       "      div.appendChild(label);\n",
       "      const progress = document.createElement('progress');\n",
       "      progress.max = size;\n",
       "      div.appendChild(progress);\n",
       "      document.body.appendChild(div);\n",
       "\n",
       "      const buffers = [];\n",
       "      let downloaded = 0;\n",
       "\n",
       "      const channel = await google.colab.kernel.comms.open(id);\n",
       "      // Send a message to notify the kernel that we're ready.\n",
       "      channel.send({})\n",
       "\n",
       "      for await (const message of channel.messages) {\n",
       "        // Send a message to notify the kernel that we're ready.\n",
       "        channel.send({})\n",
       "        if (message.buffers) {\n",
       "          for (const buffer of message.buffers) {\n",
       "            buffers.push(buffer);\n",
       "            downloaded += buffer.byteLength;\n",
       "            progress.value = downloaded;\n",
       "          }\n",
       "        }\n",
       "      }\n",
       "      const blob = new Blob(buffers, {type: 'application/binary'});\n",
       "      const a = document.createElement('a');\n",
       "      a.href = window.URL.createObjectURL(blob);\n",
       "      a.download = filename;\n",
       "      div.appendChild(a);\n",
       "      a.click();\n",
       "      div.remove();\n",
       "    }\n",
       "  "
      ],
      "text/plain": [
       "<IPython.core.display.Javascript object>"
      ]
     },
     "metadata": {},
     "output_type": "display_data"
    },
    {
     "data": {
      "application/javascript": [
       "download(\"download_81d2d77e-42ba-4e2d-be15-e60aefe143fc\", \"deployment_config.json\", 1677)"
      ],
      "text/plain": [
       "<IPython.core.display.Javascript object>"
      ]
     },
     "metadata": {},
     "output_type": "display_data"
    },
    {
     "data": {
      "application/javascript": [
       "\n",
       "    async function download(id, filename, size) {\n",
       "      if (!google.colab.kernel.accessAllowed) {\n",
       "        return;\n",
       "      }\n",
       "      const div = document.createElement('div');\n",
       "      const label = document.createElement('label');\n",
       "      label.textContent = `Downloading \"${filename}\": `;\n",
       "      div.appendChild(label);\n",
       "      const progress = document.createElement('progress');\n",
       "      progress.max = size;\n",
       "      div.appendChild(progress);\n",
       "      document.body.appendChild(div);\n",
       "\n",
       "      const buffers = [];\n",
       "      let downloaded = 0;\n",
       "\n",
       "      const channel = await google.colab.kernel.comms.open(id);\n",
       "      // Send a message to notify the kernel that we're ready.\n",
       "      channel.send({})\n",
       "\n",
       "      for await (const message of channel.messages) {\n",
       "        // Send a message to notify the kernel that we're ready.\n",
       "        channel.send({})\n",
       "        if (message.buffers) {\n",
       "          for (const buffer of message.buffers) {\n",
       "            buffers.push(buffer);\n",
       "            downloaded += buffer.byteLength;\n",
       "            progress.value = downloaded;\n",
       "          }\n",
       "        }\n",
       "      }\n",
       "      const blob = new Blob(buffers, {type: 'application/binary'});\n",
       "      const a = document.createElement('a');\n",
       "      a.href = window.URL.createObjectURL(blob);\n",
       "      a.download = filename;\n",
       "      div.appendChild(a);\n",
       "      a.click();\n",
       "      div.remove();\n",
       "    }\n",
       "  "
      ],
      "text/plain": [
       "<IPython.core.display.Javascript object>"
      ]
     },
     "metadata": {},
     "output_type": "display_data"
    },
    {
     "data": {
      "application/javascript": [
       "download(\"download_5d6b1856-a365-4839-84da-49f0bb635a7e\", \"router_training_history.png\", 76114)"
      ],
      "text/plain": [
       "<IPython.core.display.Javascript object>"
      ]
     },
     "metadata": {},
     "output_type": "display_data"
    },
    {
     "data": {
      "application/javascript": [
       "\n",
       "    async function download(id, filename, size) {\n",
       "      if (!google.colab.kernel.accessAllowed) {\n",
       "        return;\n",
       "      }\n",
       "      const div = document.createElement('div');\n",
       "      const label = document.createElement('label');\n",
       "      label.textContent = `Downloading \"${filename}\": `;\n",
       "      div.appendChild(label);\n",
       "      const progress = document.createElement('progress');\n",
       "      progress.max = size;\n",
       "      div.appendChild(progress);\n",
       "      document.body.appendChild(div);\n",
       "\n",
       "      const buffers = [];\n",
       "      let downloaded = 0;\n",
       "\n",
       "      const channel = await google.colab.kernel.comms.open(id);\n",
       "      // Send a message to notify the kernel that we're ready.\n",
       "      channel.send({})\n",
       "\n",
       "      for await (const message of channel.messages) {\n",
       "        // Send a message to notify the kernel that we're ready.\n",
       "        channel.send({})\n",
       "        if (message.buffers) {\n",
       "          for (const buffer of message.buffers) {\n",
       "            buffers.push(buffer);\n",
       "            downloaded += buffer.byteLength;\n",
       "            progress.value = downloaded;\n",
       "          }\n",
       "        }\n",
       "      }\n",
       "      const blob = new Blob(buffers, {type: 'application/binary'});\n",
       "      const a = document.createElement('a');\n",
       "      a.href = window.URL.createObjectURL(blob);\n",
       "      a.download = filename;\n",
       "      div.appendChild(a);\n",
       "      a.click();\n",
       "      div.remove();\n",
       "    }\n",
       "  "
      ],
      "text/plain": [
       "<IPython.core.display.Javascript object>"
      ]
     },
     "metadata": {},
     "output_type": "display_data"
    },
    {
     "data": {
      "application/javascript": [
       "download(\"download_518737dc-0507-4493-963f-1a45ac32449f\", \"router_confusion_matrix.png\", 46684)"
      ],
      "text/plain": [
       "<IPython.core.display.Javascript object>"
      ]
     },
     "metadata": {},
     "output_type": "display_data"
    },
    {
     "name": "stdout",
     "output_type": "stream",
     "text": [
      " Download complete!\n",
      "\n",
      " Tip: Uncomment Cell 21 to download all files to your computer!\n"
     ]
    }
   ],
   "source": [
    "\n",
    "\n",
    "# ═══════════════════════════════════════════════════════════════════════════\n",
    "# CELL 21: Download All Files (Optional)\n",
    "# ═══════════════════════════════════════════════════════════════════════════\n",
    "\n",
    "# Uncomment to download complete system to your local machine\n",
    "\n",
    "from google.colab import files\n",
    "import shutil\n",
    "#\n",
    "print(\"Creating archives...\")\n",
    "#\n",
    "# # Archive LoRA experts\n",
    "shutil.make_archive('lora_experts_complete', 'zip', './lora_experts')\n",
    "#\n",
    "# # Download files\n",
    "print(\"\\nDownloading files...\")\n",
    "files.download('lora_experts_complete.zip')\n",
    "files.download('router_model_best.pt')\n",
    "files.download('router_config.json')\n",
    "files.download('deployment_config.json')\n",
    "files.download('router_training_history.png')\n",
    "files.download('router_confusion_matrix.png')\n",
    "#\n",
    "print(\" Download complete!\")\n",
    "\n",
    "print(\"\\n Tip: Uncomment Cell 21 to download all files to your computer!\")"
   ]
  }
 ],
 "metadata": {
  "accelerator": "GPU",
  "colab": {
   "gpuType": "T4",
   "provenance": []
  },
  "kernelspec": {
   "display_name": "Python 3",
   "name": "python3"
  },
  "language_info": {
   "name": "python"
  }
 },
 "nbformat": 4,
 "nbformat_minor": 0
}
