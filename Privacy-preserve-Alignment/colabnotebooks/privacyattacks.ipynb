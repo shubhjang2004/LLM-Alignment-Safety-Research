{
 "cells": [
  {
   "cell_type": "markdown",
   "metadata": {
    "id": "vljl2mTg1P5d"
   },
   "source": [
    "# notebooks/4_privacy_attacks.ipynb\n",
    "\n",
    "\"\"\"\n",
    "Project 4: Privacy-Preserving Alignment\n",
    "Notebook 4: Privacy Attacks & Verification\n",
    "\n",
    "Purpose: Test privacy guarantees via membership inference attacks\n",
    "Models: All DPO and RLHF variants (baseline + DP)\n",
    "Time: ~45 minutes on T4\n",
    "\"\"\""
   ]
  },
  {
   "cell_type": "code",
   "execution_count": 1,
   "metadata": {
    "colab": {
     "base_uri": "https://localhost:8080/"
    },
    "id": "1uJKrCIV1Rvg",
    "outputId": "6153c8c0-599f-465e-abd8-9a6062aa2eb2"
   },
   "outputs": [
    {
     "name": "stdout",
     "output_type": "stream",
     "text": [
      "Mounted at /content/drive\n",
      "Google Drive mounted successfully\n"
     ]
    }
   ],
   "source": [
    "\n",
    "# CELL 1: Mount Google Drive\n",
    "from google.colab import drive\n",
    "import os\n",
    "\n",
    "drive.mount('/content/drive')\n",
    "\n",
    "if os.path.exists('/content/drive/MyDrive'):\n",
    "    print(\"Google Drive mounted successfully\")\n",
    "else:\n",
    "    print(\"Drive mount failed\")"
   ]
  },
  {
   "cell_type": "code",
   "execution_count": 2,
   "metadata": {
    "colab": {
     "base_uri": "https://localhost:8080/"
    },
    "id": "D6WvFqcR1UfF",
    "outputId": "59714eb5-be67-4133-add5-5104b3c1786d"
   },
   "outputs": [
    {
     "name": "stdout",
     "output_type": "stream",
     "text": [
      "Imports complete\n"
     ]
    }
   ],
   "source": [
    "# CELL 2: Setup\n",
    "import sys\n",
    "import torch\n",
    "import json\n",
    "import numpy as np\n",
    "import pandas as pd\n",
    "from pathlib import Path\n",
    "from datasets import load_from_disk\n",
    "from transformers import (\n",
    "    AutoTokenizer,\n",
    "    AutoModelForCausalLM,\n",
    ")\n",
    "from tqdm.auto import tqdm\n",
    "import matplotlib.pyplot as plt\n",
    "import seaborn as sns\n",
    "from sklearn.metrics import roc_auc_score, roc_curve, precision_recall_curve\n",
    "from sklearn.linear_model import LogisticRegression\n",
    "from collections import defaultdict\n",
    "import shutil\n",
    "\n",
    "print(\"Imports complete\")"
   ]
  },
  {
   "cell_type": "code",
   "execution_count": 3,
   "metadata": {
    "colab": {
     "base_uri": "https://localhost:8080/"
    },
    "id": "rjwlkBkx1Uhr",
    "outputId": "13db9ec2-230c-43e8-ea36-f8d5009ce718"
   },
   "outputs": [
    {
     "name": "stdout",
     "output_type": "stream",
     "text": [
      "Directories configured\n",
      "Models will load from: /content/drive/MyDrive/Project4_Privacy_Alignment/models\n",
      "Results will save to: /content/drive/MyDrive/Project4_Privacy_Alignment/results\n"
     ]
    }
   ],
   "source": [
    "\n",
    "# CELL 3: Configure Paths\n",
    "DRIVE_BASE = Path(\"/content/drive/MyDrive/Project4_Privacy_Alignment\")\n",
    "DRIVE_DATA_DIR = DRIVE_BASE / \"data\"\n",
    "DRIVE_MODELS_DIR = DRIVE_BASE / \"models\"\n",
    "DRIVE_RESULTS_DIR = DRIVE_BASE / \"results\"\n",
    "\n",
    "LOCAL_BASE = Path(\"/content\")\n",
    "LOCAL_DATA_DIR = LOCAL_BASE / \"data\"\n",
    "LOCAL_RESULTS_DIR = LOCAL_BASE / \"results\"\n",
    "\n",
    "for dir_path in [LOCAL_DATA_DIR, LOCAL_RESULTS_DIR, DRIVE_RESULTS_DIR]:\n",
    "    dir_path.mkdir(exist_ok=True, parents=True)\n",
    "\n",
    "print(\"Directories configured\")\n",
    "print(f\"Models will load from: {DRIVE_MODELS_DIR}\")\n",
    "print(f\"Results will save to: {DRIVE_RESULTS_DIR}\")"
   ]
  },
  {
   "cell_type": "code",
   "execution_count": 4,
   "metadata": {
    "colab": {
     "base_uri": "https://localhost:8080/"
    },
    "id": "1LPxe86y1UkY",
    "outputId": "1643f82e-f7a0-4b33-c135-53dbc162efc6"
   },
   "outputs": [
    {
     "name": "stdout",
     "output_type": "stream",
     "text": [
      "\n",
      "Loading data from Drive...\n",
      "   Copying from Drive to local...\n",
      "Data loaded\n",
      "   Train: 18000 samples (members)\n",
      "   Test: 2000 samples (non-members)\n",
      "   Device: Tesla T4\n"
     ]
    }
   ],
   "source": [
    "\n",
    "\n",
    "# CELL 4: Load Data\n",
    "print(\"\\nLoading data from Drive...\")\n",
    "\n",
    "drive_dataset_path = DRIVE_DATA_DIR / \"hh_rlhf_processed\"\n",
    "local_dataset_path = LOCAL_DATA_DIR / \"hh_rlhf_processed\"\n",
    "\n",
    "if not drive_dataset_path.exists():\n",
    "    raise FileNotFoundError(\n",
    "        f\"Data not found in Drive at {drive_dataset_path}\\n\"\n",
    "        f\"Please run Notebook 0 first to prepare data.\"\n",
    "    )\n",
    "\n",
    "if local_dataset_path.exists():\n",
    "    shutil.rmtree(local_dataset_path)\n",
    "\n",
    "print(\"   Copying from Drive to local...\")\n",
    "shutil.copytree(drive_dataset_path, local_dataset_path)\n",
    "\n",
    "shutil.copy2(\n",
    "    DRIVE_DATA_DIR / \"config.json\",\n",
    "    LOCAL_DATA_DIR / \"config.json\"\n",
    ")\n",
    "\n",
    "dataset = load_from_disk(str(local_dataset_path))\n",
    "train_dataset = dataset['train']\n",
    "test_dataset = dataset['test']\n",
    "\n",
    "with open(LOCAL_DATA_DIR / \"config.json\") as f:\n",
    "    config = json.load(f)\n",
    "\n",
    "print(f\"Data loaded\")\n",
    "print(f\"   Train: {len(train_dataset)} samples (members)\")\n",
    "print(f\"   Test: {len(test_dataset)} samples (non-members)\")\n",
    "print(f\"   Device: {torch.cuda.get_device_name(0) if torch.cuda.is_available() else 'CPU'}\")"
   ]
  },
  {
   "cell_type": "code",
   "execution_count": 5,
   "metadata": {
    "colab": {
     "base_uri": "https://localhost:8080/",
     "height": 371,
     "referenced_widgets": [
      "d91e988778bf46019cc960c6ca36d9f9",
      "e14a12fc5916475286425fa70f28a651",
      "47f1306e66cd49e1ae85c80541f9cad8",
      "4778442a10314235a82bf7bd836cd153",
      "7b9a6b9c814d42a5a3e7948e005dc1b2",
      "71fbda1fa9db4c089a4cc27f7f0e797e",
      "1e530050a7ec40738f42331fa20b7b02",
      "1dc1b6f89d0e42989b32a4f87561607f",
      "3fd93b387a0f4a5d87e330d2e4240458",
      "35b6845fe5db415b8c66a5bab6d706a6",
      "e84ba542d4f9496f92dd1d7e1c9abe0d",
      "1cf9c0b953504ed3be490b3e6518c3a7",
      "b14991c3d3574d0393ab320bf5590bff",
      "2c006654081246e5babd06d473a607bf",
      "52a3afdd16d541aa8861e187b909c80c",
      "c7c1e46bbcb74972b7ff43337cacfd2f",
      "ca9005193c974233bd68274de5ea05e2",
      "beb35b7009c445eea30dd40cd3e3bce3",
      "1953eea315e2417794f5cf0898509a53",
      "ceb938fc97ff48ee8119d2b0e8d3e420",
      "02a968a1de904319990506097923b306",
      "ecec47c4d454487d94015854d3878fe7",
      "068550925f0a40018a84ae3489123f64",
      "b27a2594d1204b19a9a00fa3da06eaba",
      "4c8cbbff9b934ac28b04fe26d68c99b3",
      "9828704956b747e485d1325fd9e9b7bc",
      "85462f8517b041c39b3899afbb59d410",
      "69ab2365b536489a96b8c04f249505c4",
      "058e3e5bfa304c8daff630b5026c881f",
      "6f9f1b2ae17649b88bf367568a86d5a2",
      "42470cd68d114a838393e4b1fbe773f4",
      "5ccd39142d0f41f9b6bdd7797bae5b7c",
      "9130c6eff93e43d99cf456a49e1843e2",
      "a221cdc4e78e4c48bbc967a737ce2d81",
      "8e91807a151543a4969dacbfe635b56f",
      "920c4fd866ce4de7b971463581849e6a",
      "6b868668bc644a9f9739e035fc408e2b",
      "aed8a6d992bc488481f7111a9bb582dc",
      "b2a1a3bcbbb949238c1d86dfb4109328",
      "8a49a9e739094c0d8d8ec7de3ba91522",
      "d43eebaf3faa4ab7a1599c65b9c94e25",
      "d7b8c6d696ba429eac5196813b6e473a",
      "d66f1fbbdd984cf08899420538556e7e",
      "0d25b14f24744ad5a07b032a328c87ac",
      "8a41de10367743e5be4854079b464789",
      "1c4143b1876149b2bf0bc3d807c401fc",
      "b6429dad7a924da1823f46a6b8ae83e2",
      "7d0887481d0e4a29ad2fc872af384967",
      "d7981bfd7091457ba566230056968ef9",
      "a7e37870ce864073a03b3949493c89e1",
      "977405b1a87d489797a87b096312b878",
      "4c2e509ef9dc4b0dbcb6052154e836e0",
      "d31909987c284371b274e0b44db5bae0",
      "cde0a437cd5e4457b3b98792b76eb3e9",
      "21a776ba7a0745a38eb8ab36cb92f6d8"
     ]
    },
    "id": "jMmsD7Tu1Umx",
    "outputId": "85b00651-2933-4e51-865c-8be72f6fd1b4"
   },
   "outputs": [
    {
     "name": "stdout",
     "output_type": "stream",
     "text": [
      "\n",
      "Loading tokenizers...\n"
     ]
    },
    {
     "name": "stderr",
     "output_type": "stream",
     "text": [
      "/usr/local/lib/python3.12/dist-packages/huggingface_hub/utils/_auth.py:94: UserWarning: \n",
      "The secret `HF_TOKEN` does not exist in your Colab secrets.\n",
      "To authenticate with the Hugging Face Hub, create a token in your settings tab (https://huggingface.co/settings/tokens), set it as secret in your Google Colab and restart your session.\n",
      "You will be able to reuse this secret in all of your notebooks.\n",
      "Please note that authentication is recommended but still optional to access public models or datasets.\n",
      "  warnings.warn(\n"
     ]
    },
    {
     "data": {
      "application/vnd.jupyter.widget-view+json": {
       "model_id": "d91e988778bf46019cc960c6ca36d9f9",
       "version_major": 2,
       "version_minor": 0
      },
      "text/plain": [
       "tokenizer_config.json:   0%|          | 0.00/26.0 [00:00<?, ?B/s]"
      ]
     },
     "metadata": {},
     "output_type": "display_data"
    },
    {
     "data": {
      "application/vnd.jupyter.widget-view+json": {
       "model_id": "1cf9c0b953504ed3be490b3e6518c3a7",
       "version_major": 2,
       "version_minor": 0
      },
      "text/plain": [
       "config.json:   0%|          | 0.00/665 [00:00<?, ?B/s]"
      ]
     },
     "metadata": {},
     "output_type": "display_data"
    },
    {
     "data": {
      "application/vnd.jupyter.widget-view+json": {
       "model_id": "068550925f0a40018a84ae3489123f64",
       "version_major": 2,
       "version_minor": 0
      },
      "text/plain": [
       "vocab.json:   0%|          | 0.00/1.04M [00:00<?, ?B/s]"
      ]
     },
     "metadata": {},
     "output_type": "display_data"
    },
    {
     "data": {
      "application/vnd.jupyter.widget-view+json": {
       "model_id": "a221cdc4e78e4c48bbc967a737ce2d81",
       "version_major": 2,
       "version_minor": 0
      },
      "text/plain": [
       "merges.txt:   0%|          | 0.00/456k [00:00<?, ?B/s]"
      ]
     },
     "metadata": {},
     "output_type": "display_data"
    },
    {
     "data": {
      "application/vnd.jupyter.widget-view+json": {
       "model_id": "8a41de10367743e5be4854079b464789",
       "version_major": 2,
       "version_minor": 0
      },
      "text/plain": [
       "tokenizer.json:   0%|          | 0.00/1.36M [00:00<?, ?B/s]"
      ]
     },
     "metadata": {},
     "output_type": "display_data"
    },
    {
     "name": "stdout",
     "output_type": "stream",
     "text": [
      "Tokenizer loaded: gpt2\n",
      "MAX_LENGTH: 512\n"
     ]
    }
   ],
   "source": [
    "# CELL 5: Initialize Tokenizers\n",
    "print(\"\\nLoading tokenizers...\")\n",
    "\n",
    "tokenizer = AutoTokenizer.from_pretrained(config['policy_model'])\n",
    "tokenizer.pad_token = tokenizer.eos_token\n",
    "tokenizer.padding_side = 'left'\n",
    "\n",
    "MAX_LENGTH = config.get('max_length', 224)\n",
    "\n",
    "print(f\"Tokenizer loaded: {config['policy_model']}\")\n",
    "print(f\"MAX_LENGTH: {MAX_LENGTH}\")"
   ]
  },
  {
   "cell_type": "code",
   "execution_count": 6,
   "metadata": {
    "colab": {
     "base_uri": "https://localhost:8080/"
    },
    "id": "rDC27psY1UqS",
    "outputId": "13e75fb6-794b-4b1b-c80a-14e1cc0e6ad2"
   },
   "outputs": [
    {
     "name": "stdout",
     "output_type": "stream",
     "text": [
      "Privacy attack functions loaded\n"
     ]
    }
   ],
   "source": [
    "\n",
    "\n",
    "# CELL 6: Privacy Attack Functions\n",
    "def compute_loss_on_sample(model, tokenizer, text, max_length=224):\n",
    "    \"\"\"Compute loss on a single sample\"\"\"\n",
    "    model.eval()\n",
    "\n",
    "    inputs = tokenizer(\n",
    "        text,\n",
    "        return_tensors='pt',\n",
    "        truncation=True,\n",
    "        max_length=max_length,\n",
    "        padding='max_length'\n",
    "    ).to(model.device)\n",
    "\n",
    "    with torch.no_grad():\n",
    "        outputs = model(**inputs, labels=inputs['input_ids'])\n",
    "        loss = outputs.loss.item()\n",
    "\n",
    "    return loss\n",
    "\n",
    "def membership_inference_attack(model, tokenizer, train_samples, test_samples,\n",
    "                                max_samples=500):\n",
    "    \"\"\"\n",
    "    Perform membership inference attack using loss threshold\n",
    "\n",
    "    Intuition: Training samples should have lower loss than test samples\n",
    "    \"\"\"\n",
    "    print(f\"   Running membership inference attack...\")\n",
    "    print(f\"   Using {max_samples} samples from each set\")\n",
    "\n",
    "    # Compute losses on training samples (members)\n",
    "    train_losses = []\n",
    "    for i, example in enumerate(tqdm(train_samples.select(range(min(max_samples, len(train_samples)))),\n",
    "                                     desc=\"   Computing member losses\")):\n",
    "        text = f\"Human: {example['prompt']}\\n\\nAssistant: {example['chosen']}\"\n",
    "        loss = compute_loss_on_sample(model, tokenizer, text, MAX_LENGTH)\n",
    "        train_losses.append(loss)\n",
    "\n",
    "    # Compute losses on test samples (non-members)\n",
    "    test_losses = []\n",
    "    for i, example in enumerate(tqdm(test_samples.select(range(min(max_samples, len(test_samples)))),\n",
    "                                     desc=\"   Computing non-member losses\")):\n",
    "        text = f\"Human: {example['prompt']}\\n\\nAssistant: {example['chosen']}\"\n",
    "        loss = compute_loss_on_sample(model, tokenizer, text, MAX_LENGTH)\n",
    "        test_losses.append(loss)\n",
    "\n",
    "    # Create labels (1 = member, 0 = non-member)\n",
    "    losses = np.array(train_losses + test_losses)\n",
    "    labels = np.array([1] * len(train_losses) + [0] * len(test_losses))\n",
    "\n",
    "    # Simple threshold attack: lower loss = member\n",
    "    # Invert losses so higher score = member\n",
    "    scores = -losses\n",
    "\n",
    "    # Compute metrics\n",
    "    auc = roc_auc_score(labels, scores)\n",
    "\n",
    "    # Find optimal threshold\n",
    "    fpr, tpr, thresholds = roc_curve(labels, scores)\n",
    "    optimal_idx = np.argmax(tpr - fpr)\n",
    "    optimal_threshold = thresholds[optimal_idx]\n",
    "\n",
    "    predictions = (scores > optimal_threshold).astype(int)\n",
    "    accuracy = (predictions == labels).mean()\n",
    "\n",
    "    # True positive rate and false positive rate at optimal threshold\n",
    "    tpr_opt = tpr[optimal_idx]\n",
    "    fpr_opt = fpr[optimal_idx]\n",
    "\n",
    "    results = {\n",
    "        'auc': auc,\n",
    "        'accuracy': accuracy,\n",
    "        'tpr': tpr_opt,\n",
    "        'fpr': fpr_opt,\n",
    "        'train_loss_mean': np.mean(train_losses),\n",
    "        'train_loss_std': np.std(train_losses),\n",
    "        'test_loss_mean': np.mean(test_losses),\n",
    "        'test_loss_std': np.std(test_losses),\n",
    "        'loss_separation': np.mean(test_losses) - np.mean(train_losses),\n",
    "        'train_losses': train_losses,\n",
    "        'test_losses': test_losses,\n",
    "        'labels': labels,\n",
    "        'scores': scores,\n",
    "        'fpr': fpr,\n",
    "        'tpr': tpr,\n",
    "    }\n",
    "\n",
    "    print(f\"   Attack AUC: {auc:.4f}\")\n",
    "    print(f\"   Attack Accuracy: {accuracy:.4f}\")\n",
    "    print(f\"   Member loss: {np.mean(train_losses):.4f} ± {np.std(train_losses):.4f}\")\n",
    "    print(f\"   Non-member loss: {np.mean(test_losses):.4f} ± {np.std(test_losses):.4f}\")\n",
    "\n",
    "    return results\n",
    "\n",
    "def advanced_membership_attack(model, tokenizer, train_samples, test_samples,\n",
    "                              max_samples=500):\n",
    "    \"\"\"\n",
    "    Advanced attack using multiple features + ML classifier\n",
    "    \"\"\"\n",
    "    print(f\"   Running advanced membership inference attack...\")\n",
    "\n",
    "    def extract_features(examples, is_member):\n",
    "        features = []\n",
    "        labels = []\n",
    "\n",
    "        for example in tqdm(examples, desc=f\"   Extracting {'member' if is_member else 'non-member'} features\"):\n",
    "            text = f\"Human: {example['prompt']}\\n\\nAssistant: {example['chosen']}\"\n",
    "\n",
    "            # Feature 1: Loss\n",
    "            loss = compute_loss_on_sample(model, tokenizer, text, MAX_LENGTH)\n",
    "\n",
    "            # Feature 2: Perplexity\n",
    "            perplexity = np.exp(loss)\n",
    "\n",
    "            # Feature 3: Text length\n",
    "            text_len = len(text.split())\n",
    "\n",
    "            features.append([loss, perplexity, text_len])\n",
    "            labels.append(1 if is_member else 0)\n",
    "\n",
    "        return features, labels\n",
    "\n",
    "    # Extract features\n",
    "    train_features, train_labels = extract_features(\n",
    "        train_samples.select(range(min(max_samples, len(train_samples)))),\n",
    "        is_member=True\n",
    "    )\n",
    "    test_features, test_labels = extract_features(\n",
    "        test_samples.select(range(min(max_samples, len(test_samples)))),\n",
    "        is_member=False\n",
    "    )\n",
    "\n",
    "    # Combine\n",
    "    X = np.array(train_features + test_features)\n",
    "    y = np.array(train_labels + test_labels)\n",
    "\n",
    "    # Train classifier (use first 70% for training classifier)\n",
    "    split_idx = int(0.7 * len(X))\n",
    "    X_train, X_test = X[:split_idx], X[split_idx:]\n",
    "    y_train, y_test = y[:split_idx], y[split_idx:]\n",
    "\n",
    "    clf = LogisticRegression(random_state=42, max_iter=1000)\n",
    "    clf.fit(X_train, y_train)\n",
    "\n",
    "    # Predict\n",
    "    y_pred_proba = clf.predict_proba(X_test)[:, 1]\n",
    "\n",
    "    # Metrics\n",
    "    auc = roc_auc_score(y_test, y_pred_proba)\n",
    "    accuracy = clf.score(X_test, y_test)\n",
    "\n",
    "    results = {\n",
    "        'auc': auc,\n",
    "        'accuracy': accuracy,\n",
    "        'feature_importance': clf.coef_[0].tolist(),\n",
    "    }\n",
    "\n",
    "    print(f\"   Advanced attack AUC: {auc:.4f}\")\n",
    "    print(f\"   Advanced attack Accuracy: {accuracy:.4f}\")\n",
    "\n",
    "    return results\n",
    "\n",
    "print(\"Privacy attack functions loaded\")"
   ]
  },
  {
   "cell_type": "code",
   "execution_count": 7,
   "metadata": {
    "colab": {
     "base_uri": "https://localhost:8080/"
    },
    "id": "OdJFfHxu1R14",
    "outputId": "5cf8180d-f32a-4e57-fb0d-ffe6702e4c10"
   },
   "outputs": [
    {
     "name": "stdout",
     "output_type": "stream",
     "text": [
      "Model loader ready\n"
     ]
    }
   ],
   "source": [
    "\n",
    "\n",
    "# CELL 7: Load Model Function\n",
    "def load_model(model_name):\n",
    "    \"\"\"Load a trained model from Drive\"\"\"\n",
    "    model_path = DRIVE_MODELS_DIR / model_name\n",
    "\n",
    "    if not model_path.exists():\n",
    "        print(f\"   WARNING: Model not found: {model_name}\")\n",
    "        return None\n",
    "\n",
    "    try:\n",
    "        model = AutoModelForCausalLM.from_pretrained(\n",
    "            model_path,\n",
    "            device_map='auto',\n",
    "            torch_dtype=torch.float16\n",
    "        )\n",
    "        model.eval()\n",
    "        return model\n",
    "    except Exception as e:\n",
    "        print(f\"   ERROR loading {model_name}: {e}\")\n",
    "        return None\n",
    "\n",
    "print(\"Model loader ready\")"
   ]
  },
  {
   "cell_type": "code",
   "execution_count": 8,
   "metadata": {
    "colab": {
     "base_uri": "https://localhost:8080/",
     "height": 1000,
     "referenced_widgets": [
      "2f7416919d314dfa964b5a1fbd736d40",
      "7741a350b105492a86cfa603f4c8eb8a",
      "b9903af9fbe74798a47cea4ffb77fabd",
      "39fc446ee21a46b2bb788962a145cc7c",
      "0b77613e758b4b49ad5446b90246d3b4",
      "a7e9c91a47a64d75b7928e8435efb0a4",
      "c98ed7fbd87743668e459eef77eced5d",
      "b89af1eeb3344f73aa83f5a147235686",
      "ce4f1b48e5664635b066988a6e5082de",
      "e788c31b0b464683af232379c885ffe7",
      "e25cbba9b62148d9b26d9f05c7c58226",
      "60a7cfdf7dc5451ab0e21709c0a120f0",
      "d4268cb9bd25401f953fa33297b6a0f2",
      "e4d92dbee201498a9f42428c3efef039",
      "69829c3cdea24098ad0119a76b659c8c",
      "853701c53e7e44d9b6648f4dc9a3179c",
      "75a89a7107a541f594e22c6ce34eae60",
      "cf34285837f54da3ba4c587e377d5fc7",
      "42ca27ea18a1415d9752db57541d3468",
      "31b215b8d33641768e69f45a9f97bd48",
      "88bb2cd7212042b8b2bf20817370801c",
      "176e8091389b433ea7db94e4d42b395b",
      "b84581f88d03475aa3adb9c05a9b9b75",
      "a9231d0ec1c6445585930219331012f6",
      "67d2ac6a795b43bea082663652c444fb",
      "901db7b599ce46af8947aa9a223b8efe",
      "c89a01c6e1c74640b26a9bf02365524d",
      "35fe19e1132242838696d5f0b6130f8d",
      "9e8aad79c9834c80a8a5d5a2cd12d93e",
      "b989e69d97d84d3eb910ceb58b812bd6",
      "7931f18f839b4aa4a852b3f07dac5edb",
      "a4ae8e62905142a48fb159108dbc348e",
      "832c87999f004e7f9ae3ca840386a70e",
      "c843ceb7eec548759d96a8ba1f30c181",
      "6de1f84ed9304d608a1f0c6f180a3947",
      "621374bf4963451080ce460cda854034",
      "2defb6cbcdb74c4e9d3e63e9cd504aa9",
      "e0f82896d1e64fd08f29a0769c068792",
      "9f032308b28240068d4aa043872a56be",
      "779a814faff64e1598cdb2cdc94652de",
      "808e37a63c1044fdb297056a685a2013",
      "dc6652058d8c4870a60848200fc73fb9",
      "3334b8ffe9734bc3972cdd530de82110",
      "3d4e3e81a5ed4492be93538e8f27a90d",
      "f761be3f0d514c6eb9c81acdfbb76e19",
      "499fa82352824d608a377c3ba3cfb0d9",
      "2c8197c7221d4619af4444583ef3a225",
      "7c5d8050fffd4014bd7eb7da4600650f",
      "7bbe5fec819a4bb8a6a98f4a038bf661",
      "610bf66b6db547d49d9e7138da3b1fd5",
      "c8f12aff02c04bc9a86361d50ec47955",
      "7c9ef86844664b499cb8ed90efdeb150",
      "dbea63ca72494b20a5625d1ff093a4eb",
      "7d94659272da474b8c016ecb048d7224",
      "e7f989f7cc0c422393eeb6db416d9990",
      "4c36d8f414d642738f5d1d15ecc8c23e",
      "4e80d2f23a3b4c5ca003914a55284a99",
      "37f77df8d5674c78968abc9f9ae9a028",
      "9276ce1e495d4e05a59374138eead072",
      "29d00d9b48244c41a1148525ae88f643",
      "9b1d62a875014dd7b13cb7a4e165297f",
      "7fd4f9f475364b5e8768314d404693de",
      "96f7ac9b897a4ec29ef7aa01ed4b7420",
      "8827408f780d4e1faa407c25aa978f82",
      "052b97036836404fb80d9f0bc16b5138",
      "a3e5b8a275aa4ecda7f8067662d8f3f0",
      "bde2313c669e4307ac492a5cce7c4836",
      "9b0800022ca14f4c913ed38034f0d0ba",
      "35ac6314b14246b1b8d045396ffda221",
      "5b60ee074db747f5b2c384b7d7adcbcb",
      "3beff6bcff064f3596990eacc1d0cca7",
      "80d785cda5614b09b9f6284b768590d2",
      "6a626f37078c439fabac0ddd93f3b2de",
      "b0654cf2bfa84ab0bfb03a5b4a58ed81",
      "8dce51f9d69e4c9484d67f51365f15fa",
      "9b6f0557e78643e0bdf6eb3139adc1c7",
      "680ed52db1204418bbfb9638c6fc25b4",
      "2968dd112112434ba8cd4bbfb7481444",
      "11c15147d3dc412d9f8bbd86cd3acf8b",
      "339cc85bd2264f2bad117f00e78910a2",
      "c855a2567e894c3d9689f9311d4ed8b4",
      "cacde161d70b4b5886b7c331cd54e0f4",
      "a4e2b57e1027443190156cca646c665a",
      "32c26caf59f84f89b92ace8c119c9e0d",
      "432dbcfae49a47f4adc45898e8bcb4d5",
      "2cf615a944ce41f0b821357c30cda651",
      "ce6858b2eea04d7eaa0a25d392960f35",
      "25f2472102e84590be961d6986810297",
      "c062472a1b3741a9bea434e16bfa12d7",
      "f8b542e669034baf9b3e794932bf33a8",
      "a47ad5e7e0ab49efa66d71c9f74f6bd0",
      "d6d958804d894d86bf42591e76e01171",
      "73c5e5cb27a448f8a053a3f84ef20135",
      "954e32fadea14ad7b1a5c5cb52eff1f3",
      "c196b7f09f4344eb8a3d0af47d22da25",
      "1384b29672db486c8ed847a462bd4d5e",
      "cc3d1259c05f4321b5716ddbdeaff09e",
      "aa68c56eb1af478598a708472c33e24f",
      "184a699e7b984aaa823fd2e56a24934b",
      "c9453e1875ba4c15b4e54224f9a52eb8",
      "6e665f5d540b45d3aa8263f60934fbf1",
      "7260dba3582249eb9eca63cf41779ce5",
      "f4dbad6d55414cf39bd18d1703b2f7e5",
      "ed214ffaa82f46f7b561cede092dcebc",
      "d49765bb8e4046e9a2bb76fcdefa5c0e",
      "50af25528b294e4baad4dd1f4c44f00b",
      "f31464a843494629b08608d0d55c1c59",
      "4be7a091afc049d89c4061bd8f16144a",
      "00ff33f3522a4f388ab297920dd6493a",
      "40610409620d4c6ab36d3c0e1e44dffa",
      "03b5df2169fd4fb4b0f7e3b9d08d04ad",
      "dcf41a6ce2984b42986772a86365339e",
      "77b2f6b13208473b9a727629754ea9ca",
      "cf125eadff2a457bba4cbfc18d8c2155",
      "18acef027b66415c8aa39c723baf3291",
      "e31d91aa0f094e6f96131611d48532e8",
      "1a15639fe32d42a5808f87ecb3c7ccb7",
      "79e99b563c154990a84b16c73a40e423",
      "abb1292bfae646ad97b822462a978560",
      "2813b8d414d945db9a7c4ac9f1f13073",
      "8bb4c53421dc472a92e9705b3d59149a",
      "f4dfb989e4be4f37b4bbd8ea4a47270e",
      "08f4ba1ca22247898cbf2e956d82c2ef",
      "73f4f75f090a422fb53ee78613525330",
      "9fa1a615bfc948119f020a9160bf0373",
      "d18782c4f6b44e5b9b6b8953edf6c7f3",
      "0d81434430b741e48713ebaccb2ca27b",
      "3f4efaf2c9744019a196ed8b58cdecfc",
      "a56bc123cd0f4498ac5e96cdb36541d2",
      "9a78757324de43909c4660c2af2d8560",
      "495a64c445df4d10958a20214a81306e",
      "4d75b4b051c04b2293ce734c83422d16",
      "b9ef83eb73344c81aab09d7a8869c732",
      "3c30bc2bf6694af6a9f5d381660f759b",
      "9bb156c956ff44b1ab8e44e8fe63b575",
      "a4babf33d22a4faeaf1969a38730e486",
      "21eac7e6051d415d9938db55d9f34da7",
      "a0aca86889a24c758c17d1442842c4d8",
      "ad2c1284df32428c90d7c0c33789dea6",
      "4af5aa71aba543b98eb9140f459e3c91",
      "5b2e2994502d4650abbc96132f85ddb2",
      "11cace2b004d42878ff0f14aaf3bfc43",
      "7fdfd5668a93497fa1e53cf9b3d8cb99",
      "0bcb8094464641efb22a9253f394f6bd",
      "7f754722386d4f7b888b4a32a40faa23",
      "2b48b05592b84db99ee81dd11f7a00dd",
      "2415f5df878c40d1bfb9ad13cf5f881a",
      "885f56192d484c5dabf5ff9134d6dd66",
      "62fe57b2f62e4efeb2b3a7b9950a33b0",
      "ad4ade91c5fd468380c66f8c5443773e",
      "0ea1cf2d3b8c4400992a71a3e77a47df",
      "8afdf7183093498fbd8fe82727ae38a2",
      "06a9e0d5f1d24815be289aefd4bf8dd7",
      "bc8b5a8dde0d4dd88f628023e4292b4f",
      "a7b9797c28df41a7ad3ae24006c94bc7",
      "2c5f334b756146d69ef894c68c453181",
      "275eefa49b6f4abe959fde2ee07884db",
      "39ac3e3f4e80493c8347a1af89d07a3d",
      "6cfebd3e687e4fce9cd236116e6f9f9d",
      "77d8114f05164b5d948b627a66fc0c61",
      "51b7cae867f14e04b31d843738434985",
      "7df2188afdc5483dba2da31eb713e06f",
      "cafde0ab4f7443f7990e20a1dde835d1",
      "d39d31a7e3634e59883b7c515fc78070",
      "c6c201d69b9f46918cd8ab50a34bb7c2",
      "873ee327574041098a7f5e3acca5c505",
      "627a7dc30b28472da3ce099efb63b825",
      "b84f1c6391e24d1ca11d60e07d3c0be1",
      "36b2b47fe6124e81b07af70dd38bbbd8",
      "43e3c3838d4f473fa77532d25081927f",
      "261dab1a645946beb7dec22cf558e0bb",
      "661f30e511fb4bd089c5fd21acc120cc",
      "3470ed3e8c6c4b4b8d4a126444cb4627",
      "ce0772988ba24241a7f7b2842e825838",
      "06482819468e4657ba3471f42f2dca6b",
      "d1c9b928807f4db4b44d5f960f882a3b",
      "dddf5dbf311a4fca892bc87e12b92c62",
      "064ee219aabc40b79d7f410668b1c2eb",
      "0264485d08a24b2e820f21699472a072",
      "60d230a822a445df9fe8ecd31377268f",
      "87b1917a8711454ca6787bc93a0c45fa",
      "920b714b56314b359ed01a7f399897e2",
      "2ff0d9dea0a14e0c9f96c2ce74ead7a5",
      "a94cc580eab6434493c127c7bf23271c",
      "9d259886551b43f99e9918ebb194e641",
      "e7af01c84ca2413b9a4320f4ca06e7cb",
      "246eb8ff2777440999402a8f932af1c5",
      "3e676a5864f04b71b5fce3fac63ce347",
      "8c26350a2f544d79871d6c858b17a605",
      "0750717e7302410fac13e92fdd7638c1",
      "4dd211e31cb042b497db5fed07b42a11",
      "376b468c03994a93b280f940c49e5d2c",
      "58a78e47848b4b68b5999f0ea8d7f503",
      "3342fe2fde2847b68a8a41b8e8fdfeb2",
      "e8ab1b75943c42708af27f2f9814f427",
      "389cf544c38a4ab29ea77c6e82269d13",
      "4d8373f6c31e4559bc1e51596a239021",
      "8630473f79d84f0c880a93bd638ed09b",
      "eef3b87b019a4ccdbad62b312f2ab59c",
      "9eac63991206487794caff7e811a93bc",
      "67f6c1c8aea248f59f8ca6e7b504af3d",
      "864d2cc7ae1746218a446e59899bf34c",
      "b6587651d9b74ccc9dfcf2a1520a153c",
      "0ad84a13493042cd81f29bfd6001adad",
      "c8cfa50fa8a34f6f9ea377557f3e78df",
      "1b426ff0ab4b4b3bb5cbad273c2cc879",
      "ece4f1947ddb4718b8766993fe7854fa",
      "5770413db8314aa9818f67fcbd79b801",
      "656842819c4f44f4a71cfd49e70f78d2",
      "13563df007914e0e862042e771307f3c",
      "7bb23b7e803145a0802cd098f775f156",
      "24d2a8b48e334772a0af41da6e8b784f",
      "ceafff12a11e478aa2049a4b64e1555b",
      "1072d52c360c48d38a6e600b5f4d8510",
      "34e92ce9dd674d8f9e0af3f7a948edab",
      "bd3915fbf8bd4f5f81b1ec74747d8238",
      "2222e6fed4cf4d6db47f9d0690544205",
      "7aa33f43e85045f28c038956b7548860",
      "74ac768233144797a5f3e7f2f8247319",
      "8882b8de6e224f478d704a3897584e57",
      "3155b920891445f8b38d8b222dec1e5b",
      "dc7aa443267c4b11942c050b949c3b82",
      "6f8e22cfd7354a399f1e49c3e75d53d2",
      "aa3709757fb74e1fb366846b85c44d4b",
      "49290b0f027543018eaf3c24ae2c1ed7",
      "a9cbdf46fd464d839ef41be46357e44d",
      "e0731fec9181483499b31d2293580ed7",
      "6185b46db0e54059b82537a76167d937",
      "3082b3e9c9d84f1d8b0c7182dacd4774",
      "54231987ae374286b24958ec4490a7fe",
      "d490153f54bc475e8b47a3c05c0f3363",
      "c681d1b2d7154edd8e6160d0b47f91a6",
      "a725bfef22c74a3a83d688d19096bab3",
      "860577c238894f12916b80d57d3e5d62",
      "c333e4eda84c48429484202957565c05",
      "ccfe5429c263422fb7b1062d75ed9b9f",
      "93d899260ba345a5a9a695163101994f",
      "619b4e1f068e40e09e4c37792fd2744c",
      "bd3804bd1b1140b2a63cde76dcb99696",
      "bd8438ec4d3b4868bef8de5c19a7b98f",
      "0c250fc77f4643f79d2afad349d19e50",
      "6475acf5a8024c60adf748f6e1a0fdec",
      "88c037a8ad2645ba88270b7d0de23169",
      "4e2e82f0b0794f508bf133387db35c2c",
      "28472b908610407095e254d06e4edebf",
      "40632b93f05a443fa342bd2a355c11bf",
      "85c0089d416240479d94b36cad0859a5",
      "94f791dfe1bc44c1bba107114513b5fd",
      "5ffe557cdbe244a188c640779605a61a",
      "744151e31f7146dcbd04880c800c4bf0",
      "8ffe7c3dc2a04dbe818b0b53cafc05e2",
      "d89dff8a510c415fbde8b99410e826b3",
      "599c5fab7f82478aabb1b9eae7eb5e95",
      "aa20785c3b304751b598532d34e09ad7",
      "2dada254d0074f98bf5c37a7fbe12017",
      "3dffa8b4bbd44b6da29c58155115555a",
      "32da8a9f39d945d8a0f6c6f50378a46a",
      "05997ecb101a4583a57eb95ecee6d871",
      "ab6eac587afc43ea8072b8583541d7e8",
      "5e5b221e73fd4a64b769f9971271c36d",
      "800a39ea7f604c9f92a00456d24d8bb8",
      "726f96cd47d74a4d9b3a0ca44edea102",
      "6e6f7b259332432bb1d358a31c9498cd",
      "efa979cdd7bd49c79a9d415013ef9653",
      "a8c3669021d04c35a07b19dd60c69f36",
      "3833f01085fa48cf8f19892b6bdf570b",
      "9f2d4c3b8daf436da6d6c78dadfe2b21",
      "b8eac35425634ef2ab15e87c5d3523be",
      "c023ab99a96e4b238e80419dec1bfb0f",
      "598f233da38144a1a693362407a95814",
      "8b0cfe82234d477095abbd395153060d",
      "7ca2c89494774172a14710a2ae19ae40",
      "67d8f19a419e4e7c9e4df0a875122c3f",
      "acf65c9e518646758a649e242714f8db",
      "e430b6e87d2b45bf9f45169d609f6c14",
      "16114830545d46cdbb5abe1fc01b21bc",
      "29249547a6b84c62b3f79b4014a58707",
      "0f5fc2c6f3114147ad31d2078a0b8d7f",
      "3becc752e7a340e68af5e8f35472808c",
      "21bb6f178f104ff6aec40173db0835e3",
      "602489d415af4e0296265338486d52bb",
      "52b220f2603d46a9b80b60792dbfc116",
      "6ec49c7a7a734f928639a1d1b859655a",
      "3c5c22f0a3734ffdad325e98c5d2d9f8",
      "159a7b8eed6f4c208770fe57e9953b5d",
      "c6d0edbf05d240c382b7df705e6e84ad",
      "914b043a4056495aae40b4f533e59906",
      "dbb7f4fc6c9e413f86c09972b82e5fc6",
      "dcc819f0d50149e5bbbe146c2b37d2df",
      "930c30a9707045f6961a7882c8db423d",
      "d3c9d15bc12b4faaaffdcda3468281d9",
      "c368a56079ee4cf993de3f382db8e493",
      "94a81e05cf9a428f8d67f915159474dc",
      "9197f6e3ca124b2ebeee3dbe11087c43",
      "959c8adbe88844219c8bf8274ff9cf02",
      "2d6928ae86a24494a81acfc236e14f06",
      "35ecf41355a24ca58639c3abf9323a41",
      "2deb880801424368a06510b25b4d0ed8",
      "b4d28860dd2141c8b5ed1c0be4bf0d2e",
      "daee4d9327b94a47abd12ce3767d08dd",
      "bdf02ee8780849b2b8cce62f137296d7",
      "c58d2d6259c945b39b9fc585d5ec3db7",
      "ed6c20dd55f5445b9314bee0e3b43fee",
      "f840e024dd374446b90220be0d5ef9e1",
      "55fe50d1183e4f71bb672a660107a469",
      "7e840b6e30204abf8afe4b2fd6857b25",
      "df5951e275f442ef89a2f0f726e676e1",
      "e371a564dbbf450fb6de55d8851f0bff",
      "cca2d53b3f3d40ee9e830845b08d4147",
      "f2765386a67242709332a646f4739297",
      "73bcc633c7054f9b8ca19986fd77a4ed",
      "e5da1dd2ef40473da00c4fa8b1f13506",
      "baffda8167cd473d980dc55fb77e98e2",
      "ea2de121369e48feb8e35d197f87f0c0",
      "c6acccee85f741c3890b1f0d79eea62c",
      "88f5d08befe749d6a9debc67a66ffcb8",
      "4ba8eff1f7404079bf0dc0fd7683e346",
      "e3db7c19ab6b4a6093bafc0a8461b2e4",
      "1f45030ed5904ef787d8d5f2cabdf209",
      "08cd24d3aaca42b08ea0869464ae9d57",
      "413914336367451ba867e01f4cb09be1",
      "a291e40c10d643ad8f870302c06efb67",
      "f084df40a2b44e16b82aedd042257c70",
      "74121d829fc5415ab596e4ce00ba84db",
      "c5cd7b68720d483591463f7ee4ff1a4d",
      "fa34b23ef6f649469a4b5c949bf640de",
      "894bba847e6b49e2886310c0eaef3a35",
      "fef57746e9b74539aa89467ea47a756d",
      "17f9a18cd84541fa9083ff937ed246da",
      "8192dde425bc4400806935d17aab4bc7",
      "cd5f36a6137c4e8e99e521559dc6094b",
      "c47eaf9a7fd04dd5bbc4736e60fd19ee",
      "a322eb11f8dc4938bf6131d5625641c7",
      "c68fbbf318d84df9a38ed19139f61e8e",
      "3353fe7df1e14700b642e2c401e6e3bc",
      "0a61fe193cf6477385864a5f28c7dcbd",
      "ea3631d53ee04ab48c9064ad81eaee49",
      "d7f54df521114ae189f775eb2aa7aca1",
      "72274ec8df0a4e2187ea0c01d253c664",
      "7ecf36d960034fa0a0947ed0f5d3ea07",
      "2baed8fb07f348798fac4eb663d10bc9",
      "e70204cb70024a63b6a96a604b511780",
      "d7ff81bbb498421d8f1c7022ba9f9520",
      "4495c4c1bb7f41dfa7246ab1288b2fa2",
      "fdb577319234463f85a9021d3f20ea8a",
      "67e0cb7311da437e981459f4e68fc347",
      "bd285d3e1d7443c0a0601e89b17f5179",
      "cdbf62b4636c4736a117cd5ecafee253",
      "a708ef9447b343ada7d2f02b6557987e",
      "8fcb110892d4405c8c558cdb92095b23",
      "5af89ecf40ec4de0839cf9a29a1c696a",
      "771416dde37f492ebde156ec299cae8c",
      "4ae58cc390f640828a58434f30159604",
      "1207dc6ad64743f1a7b0e1a0455c10d2",
      "1cc3de549efe4003bc5298b994cac88d",
      "ec2f4860934a40cf9641f05b71bb192f",
      "cab4cddd4e9c426299628822640ce252",
      "015912a9f2f8403b84c594f6acc5de8e",
      "6b1135e3beb14c33b5b11623a4676131",
      "147a3032db2d4ad4b92db4c1c0e8ecfb",
      "889ad925608740e490871e4213f80ed0",
      "b31c2be672e1491d8b753d03d9108695",
      "4b211eba12f749a8befa3e6d52b9f191",
      "e09b1c22dbc74a6d8ceabdd49a35ebe9",
      "ed1537202f1f4433add9a82578a94389",
      "4dfe0a2bf6764eb18d348ceb9b3e88c7",
      "eabb31d07dfe45f2be8b391c59e1ae72",
      "77b19adcd683497c977665e42c7903cb",
      "10c4c2ebd278495e92cd57821bbc110b",
      "d506e0b8590c4671a3468b42d7a9230a",
      "5024e2938b5a4f8cb9ec0aee71ab1aa0",
      "1a7b988275e9472eabb5134334c73daa",
      "dc8082e4b4a544a4a8beab2d5fa6847e",
      "2d3d986fd6fb489b8482255dec9d968a"
     ]
    },
    "id": "_jwmoF1B1R4m",
    "outputId": "3e4102b2-6248-4428-d284-048df5daf98a"
   },
   "outputs": [
    {
     "name": "stdout",
     "output_type": "stream",
     "text": [
      "\n",
      "============================================================\n",
      "RUNNING MEMBERSHIP INFERENCE ATTACKS\n",
      "============================================================\n",
      "\n",
      "============================================================\n",
      "Attacking: sft_baseline\n",
      "============================================================\n"
     ]
    },
    {
     "name": "stderr",
     "output_type": "stream",
     "text": [
      "`torch_dtype` is deprecated! Use `dtype` instead!\n"
     ]
    },
    {
     "data": {
      "application/vnd.jupyter.widget-view+json": {
       "model_id": "2f7416919d314dfa964b5a1fbd736d40",
       "version_major": 2,
       "version_minor": 0
      },
      "text/plain": [
       "model.safetensors:   0%|          | 0.00/548M [00:00<?, ?B/s]"
      ]
     },
     "metadata": {},
     "output_type": "display_data"
    },
    {
     "data": {
      "application/vnd.jupyter.widget-view+json": {
       "model_id": "60a7cfdf7dc5451ab0e21709c0a120f0",
       "version_major": 2,
       "version_minor": 0
      },
      "text/plain": [
       "generation_config.json:   0%|          | 0.00/124 [00:00<?, ?B/s]"
      ]
     },
     "metadata": {},
     "output_type": "display_data"
    },
    {
     "name": "stdout",
     "output_type": "stream",
     "text": [
      "\n",
      "1. Basic Loss-based Attack:\n",
      "   Running membership inference attack...\n",
      "   Using 500 samples from each set\n"
     ]
    },
    {
     "data": {
      "application/vnd.jupyter.widget-view+json": {
       "model_id": "b84581f88d03475aa3adb9c05a9b9b75",
       "version_major": 2,
       "version_minor": 0
      },
      "text/plain": [
       "   Computing member losses:   0%|          | 0/500 [00:00<?, ?it/s]"
      ]
     },
     "metadata": {},
     "output_type": "display_data"
    },
    {
     "name": "stderr",
     "output_type": "stream",
     "text": [
      "`loss_type=None` was set in the config but it is unrecognized. Using the default loss: `ForCausalLMLoss`.\n"
     ]
    },
    {
     "data": {
      "application/vnd.jupyter.widget-view+json": {
       "model_id": "c843ceb7eec548759d96a8ba1f30c181",
       "version_major": 2,
       "version_minor": 0
      },
      "text/plain": [
       "   Computing non-member losses:   0%|          | 0/500 [00:00<?, ?it/s]"
      ]
     },
     "metadata": {},
     "output_type": "display_data"
    },
    {
     "name": "stdout",
     "output_type": "stream",
     "text": [
      "   Attack AUC: 0.4866\n",
      "   Attack Accuracy: 0.5090\n",
      "   Member loss: 0.6517 ± 0.4664\n",
      "   Non-member loss: 0.6178 ± 0.4175\n",
      "\n",
      "2. Advanced ML-based Attack:\n",
      "   Running advanced membership inference attack...\n"
     ]
    },
    {
     "data": {
      "application/vnd.jupyter.widget-view+json": {
       "model_id": "f761be3f0d514c6eb9c81acdfbb76e19",
       "version_major": 2,
       "version_minor": 0
      },
      "text/plain": [
       "   Extracting member features:   0%|          | 0/200 [00:00<?, ?it/s]"
      ]
     },
     "metadata": {},
     "output_type": "display_data"
    },
    {
     "data": {
      "application/vnd.jupyter.widget-view+json": {
       "model_id": "4c36d8f414d642738f5d1d15ecc8c23e",
       "version_major": 2,
       "version_minor": 0
      },
      "text/plain": [
       "   Extracting non-member features:   0%|          | 0/200 [00:00<?, ?it/s]"
      ]
     },
     "metadata": {},
     "output_type": "display_data"
    },
    {
     "name": "stderr",
     "output_type": "stream",
     "text": [
      "/usr/local/lib/python3.12/dist-packages/sklearn/metrics/_ranking.py:379: UndefinedMetricWarning: Only one class is present in y_true. ROC AUC score is not defined in that case.\n",
      "  warnings.warn(\n"
     ]
    },
    {
     "name": "stdout",
     "output_type": "stream",
     "text": [
      "   Advanced attack AUC: nan\n",
      "   Advanced attack Accuracy: 0.0000\n",
      "\n",
      "============================================================\n",
      "Attacking: dpo_baseline\n",
      "============================================================\n",
      "\n",
      "1. Basic Loss-based Attack:\n",
      "   Running membership inference attack...\n",
      "   Using 500 samples from each set\n"
     ]
    },
    {
     "data": {
      "application/vnd.jupyter.widget-view+json": {
       "model_id": "bde2313c669e4307ac492a5cce7c4836",
       "version_major": 2,
       "version_minor": 0
      },
      "text/plain": [
       "   Computing member losses:   0%|          | 0/500 [00:00<?, ?it/s]"
      ]
     },
     "metadata": {},
     "output_type": "display_data"
    },
    {
     "data": {
      "application/vnd.jupyter.widget-view+json": {
       "model_id": "2968dd112112434ba8cd4bbfb7481444",
       "version_major": 2,
       "version_minor": 0
      },
      "text/plain": [
       "   Computing non-member losses:   0%|          | 0/500 [00:00<?, ?it/s]"
      ]
     },
     "metadata": {},
     "output_type": "display_data"
    },
    {
     "name": "stdout",
     "output_type": "stream",
     "text": [
      "   Attack AUC: 0.5123\n",
      "   Attack Accuracy: 0.5210\n",
      "   Member loss: 9.1442 ± 0.7182\n",
      "   Non-member loss: 9.2202 ± 0.4326\n",
      "\n",
      "2. Advanced ML-based Attack:\n",
      "   Running advanced membership inference attack...\n"
     ]
    },
    {
     "data": {
      "application/vnd.jupyter.widget-view+json": {
       "model_id": "c062472a1b3741a9bea434e16bfa12d7",
       "version_major": 2,
       "version_minor": 0
      },
      "text/plain": [
       "   Extracting member features:   0%|          | 0/200 [00:00<?, ?it/s]"
      ]
     },
     "metadata": {},
     "output_type": "display_data"
    },
    {
     "data": {
      "application/vnd.jupyter.widget-view+json": {
       "model_id": "c9453e1875ba4c15b4e54224f9a52eb8",
       "version_major": 2,
       "version_minor": 0
      },
      "text/plain": [
       "   Extracting non-member features:   0%|          | 0/200 [00:00<?, ?it/s]"
      ]
     },
     "metadata": {},
     "output_type": "display_data"
    },
    {
     "name": "stderr",
     "output_type": "stream",
     "text": [
      "/usr/local/lib/python3.12/dist-packages/sklearn/metrics/_ranking.py:379: UndefinedMetricWarning: Only one class is present in y_true. ROC AUC score is not defined in that case.\n",
      "  warnings.warn(\n"
     ]
    },
    {
     "name": "stdout",
     "output_type": "stream",
     "text": [
      "   Advanced attack AUC: nan\n",
      "   Advanced attack Accuracy: 0.0000\n",
      "\n",
      "============================================================\n",
      "Attacking: dp_dpo_eps8.0\n",
      "============================================================\n",
      "\n",
      "1. Basic Loss-based Attack:\n",
      "   Running membership inference attack...\n",
      "   Using 500 samples from each set\n"
     ]
    },
    {
     "data": {
      "application/vnd.jupyter.widget-view+json": {
       "model_id": "03b5df2169fd4fb4b0f7e3b9d08d04ad",
       "version_major": 2,
       "version_minor": 0
      },
      "text/plain": [
       "   Computing member losses:   0%|          | 0/500 [00:00<?, ?it/s]"
      ]
     },
     "metadata": {},
     "output_type": "display_data"
    },
    {
     "data": {
      "application/vnd.jupyter.widget-view+json": {
       "model_id": "f4dfb989e4be4f37b4bbd8ea4a47270e",
       "version_major": 2,
       "version_minor": 0
      },
      "text/plain": [
       "   Computing non-member losses:   0%|          | 0/500 [00:00<?, ?it/s]"
      ]
     },
     "metadata": {},
     "output_type": "display_data"
    },
    {
     "name": "stdout",
     "output_type": "stream",
     "text": [
      "   Attack AUC: 0.5119\n",
      "   Attack Accuracy: 0.5220\n",
      "   Member loss: 9.1604 ± 0.7233\n",
      "   Non-member loss: 9.2363 ± 0.4381\n",
      "\n",
      "2. Advanced ML-based Attack:\n",
      "   Running advanced membership inference attack...\n"
     ]
    },
    {
     "data": {
      "application/vnd.jupyter.widget-view+json": {
       "model_id": "b9ef83eb73344c81aab09d7a8869c732",
       "version_major": 2,
       "version_minor": 0
      },
      "text/plain": [
       "   Extracting member features:   0%|          | 0/200 [00:00<?, ?it/s]"
      ]
     },
     "metadata": {},
     "output_type": "display_data"
    },
    {
     "data": {
      "application/vnd.jupyter.widget-view+json": {
       "model_id": "0bcb8094464641efb22a9253f394f6bd",
       "version_major": 2,
       "version_minor": 0
      },
      "text/plain": [
       "   Extracting non-member features:   0%|          | 0/200 [00:00<?, ?it/s]"
      ]
     },
     "metadata": {},
     "output_type": "display_data"
    },
    {
     "name": "stderr",
     "output_type": "stream",
     "text": [
      "/usr/local/lib/python3.12/dist-packages/sklearn/metrics/_ranking.py:379: UndefinedMetricWarning: Only one class is present in y_true. ROC AUC score is not defined in that case.\n",
      "  warnings.warn(\n"
     ]
    },
    {
     "name": "stdout",
     "output_type": "stream",
     "text": [
      "   Advanced attack AUC: nan\n",
      "   Advanced attack Accuracy: 0.0000\n",
      "\n",
      "============================================================\n",
      "Attacking: dp_dpo_eps4.0\n",
      "============================================================\n",
      "\n",
      "1. Basic Loss-based Attack:\n",
      "   Running membership inference attack...\n",
      "   Using 500 samples from each set\n"
     ]
    },
    {
     "data": {
      "application/vnd.jupyter.widget-view+json": {
       "model_id": "a7b9797c28df41a7ad3ae24006c94bc7",
       "version_major": 2,
       "version_minor": 0
      },
      "text/plain": [
       "   Computing member losses:   0%|          | 0/500 [00:00<?, ?it/s]"
      ]
     },
     "metadata": {},
     "output_type": "display_data"
    },
    {
     "data": {
      "application/vnd.jupyter.widget-view+json": {
       "model_id": "873ee327574041098a7f5e3acca5c505",
       "version_major": 2,
       "version_minor": 0
      },
      "text/plain": [
       "   Computing non-member losses:   0%|          | 0/500 [00:00<?, ?it/s]"
      ]
     },
     "metadata": {},
     "output_type": "display_data"
    },
    {
     "name": "stdout",
     "output_type": "stream",
     "text": [
      "   Attack AUC: 0.5108\n",
      "   Attack Accuracy: 0.5200\n",
      "   Member loss: 9.1408 ± 0.7258\n",
      "   Non-member loss: 9.2166 ± 0.4420\n",
      "\n",
      "2. Advanced ML-based Attack:\n",
      "   Running advanced membership inference attack...\n"
     ]
    },
    {
     "data": {
      "application/vnd.jupyter.widget-view+json": {
       "model_id": "dddf5dbf311a4fca892bc87e12b92c62",
       "version_major": 2,
       "version_minor": 0
      },
      "text/plain": [
       "   Extracting member features:   0%|          | 0/200 [00:00<?, ?it/s]"
      ]
     },
     "metadata": {},
     "output_type": "display_data"
    },
    {
     "data": {
      "application/vnd.jupyter.widget-view+json": {
       "model_id": "3e676a5864f04b71b5fce3fac63ce347",
       "version_major": 2,
       "version_minor": 0
      },
      "text/plain": [
       "   Extracting non-member features:   0%|          | 0/200 [00:00<?, ?it/s]"
      ]
     },
     "metadata": {},
     "output_type": "display_data"
    },
    {
     "name": "stderr",
     "output_type": "stream",
     "text": [
      "/usr/local/lib/python3.12/dist-packages/sklearn/metrics/_ranking.py:379: UndefinedMetricWarning: Only one class is present in y_true. ROC AUC score is not defined in that case.\n",
      "  warnings.warn(\n"
     ]
    },
    {
     "name": "stdout",
     "output_type": "stream",
     "text": [
      "   Advanced attack AUC: nan\n",
      "   Advanced attack Accuracy: 0.0000\n",
      "\n",
      "============================================================\n",
      "Attacking: dp_dpo_eps1.0\n",
      "============================================================\n",
      "\n",
      "1. Basic Loss-based Attack:\n",
      "   Running membership inference attack...\n",
      "   Using 500 samples from each set\n"
     ]
    },
    {
     "data": {
      "application/vnd.jupyter.widget-view+json": {
       "model_id": "eef3b87b019a4ccdbad62b312f2ab59c",
       "version_major": 2,
       "version_minor": 0
      },
      "text/plain": [
       "   Computing member losses:   0%|          | 0/500 [00:00<?, ?it/s]"
      ]
     },
     "metadata": {},
     "output_type": "display_data"
    },
    {
     "data": {
      "application/vnd.jupyter.widget-view+json": {
       "model_id": "13563df007914e0e862042e771307f3c",
       "version_major": 2,
       "version_minor": 0
      },
      "text/plain": [
       "   Computing non-member losses:   0%|          | 0/500 [00:00<?, ?it/s]"
      ]
     },
     "metadata": {},
     "output_type": "display_data"
    },
    {
     "name": "stdout",
     "output_type": "stream",
     "text": [
      "   Attack AUC: 0.5114\n",
      "   Attack Accuracy: 0.5220\n",
      "   Member loss: 9.1512 ± 0.7208\n",
      "   Non-member loss: 9.2267 ± 0.4360\n",
      "\n",
      "2. Advanced ML-based Attack:\n",
      "   Running advanced membership inference attack...\n"
     ]
    },
    {
     "data": {
      "application/vnd.jupyter.widget-view+json": {
       "model_id": "3155b920891445f8b38d8b222dec1e5b",
       "version_major": 2,
       "version_minor": 0
      },
      "text/plain": [
       "   Extracting member features:   0%|          | 0/200 [00:00<?, ?it/s]"
      ]
     },
     "metadata": {},
     "output_type": "display_data"
    },
    {
     "data": {
      "application/vnd.jupyter.widget-view+json": {
       "model_id": "c681d1b2d7154edd8e6160d0b47f91a6",
       "version_major": 2,
       "version_minor": 0
      },
      "text/plain": [
       "   Extracting non-member features:   0%|          | 0/200 [00:00<?, ?it/s]"
      ]
     },
     "metadata": {},
     "output_type": "display_data"
    },
    {
     "name": "stderr",
     "output_type": "stream",
     "text": [
      "/usr/local/lib/python3.12/dist-packages/sklearn/metrics/_ranking.py:379: UndefinedMetricWarning: Only one class is present in y_true. ROC AUC score is not defined in that case.\n",
      "  warnings.warn(\n"
     ]
    },
    {
     "name": "stdout",
     "output_type": "stream",
     "text": [
      "   Advanced attack AUC: nan\n",
      "   Advanced attack Accuracy: 0.0000\n",
      "\n",
      "============================================================\n",
      "Attacking: rlhf_baseline\n",
      "============================================================\n",
      "\n",
      "1. Basic Loss-based Attack:\n",
      "   Running membership inference attack...\n",
      "   Using 500 samples from each set\n"
     ]
    },
    {
     "data": {
      "application/vnd.jupyter.widget-view+json": {
       "model_id": "88c037a8ad2645ba88270b7d0de23169",
       "version_major": 2,
       "version_minor": 0
      },
      "text/plain": [
       "   Computing member losses:   0%|          | 0/500 [00:00<?, ?it/s]"
      ]
     },
     "metadata": {},
     "output_type": "display_data"
    },
    {
     "data": {
      "application/vnd.jupyter.widget-view+json": {
       "model_id": "aa20785c3b304751b598532d34e09ad7",
       "version_major": 2,
       "version_minor": 0
      },
      "text/plain": [
       "   Computing non-member losses:   0%|          | 0/500 [00:00<?, ?it/s]"
      ]
     },
     "metadata": {},
     "output_type": "display_data"
    },
    {
     "name": "stdout",
     "output_type": "stream",
     "text": [
      "   Attack AUC: 0.5054\n",
      "   Attack Accuracy: 0.5220\n",
      "   Member loss: 8.5214 ± 0.7170\n",
      "   Non-member loss: 8.6004 ± 0.4538\n",
      "\n",
      "2. Advanced ML-based Attack:\n",
      "   Running advanced membership inference attack...\n"
     ]
    },
    {
     "data": {
      "application/vnd.jupyter.widget-view+json": {
       "model_id": "a8c3669021d04c35a07b19dd60c69f36",
       "version_major": 2,
       "version_minor": 0
      },
      "text/plain": [
       "   Extracting member features:   0%|          | 0/200 [00:00<?, ?it/s]"
      ]
     },
     "metadata": {},
     "output_type": "display_data"
    },
    {
     "data": {
      "application/vnd.jupyter.widget-view+json": {
       "model_id": "16114830545d46cdbb5abe1fc01b21bc",
       "version_major": 2,
       "version_minor": 0
      },
      "text/plain": [
       "   Extracting non-member features:   0%|          | 0/200 [00:00<?, ?it/s]"
      ]
     },
     "metadata": {},
     "output_type": "display_data"
    },
    {
     "name": "stderr",
     "output_type": "stream",
     "text": [
      "/usr/local/lib/python3.12/dist-packages/sklearn/metrics/_ranking.py:379: UndefinedMetricWarning: Only one class is present in y_true. ROC AUC score is not defined in that case.\n",
      "  warnings.warn(\n"
     ]
    },
    {
     "name": "stdout",
     "output_type": "stream",
     "text": [
      "   Advanced attack AUC: nan\n",
      "   Advanced attack Accuracy: 0.0000\n",
      "\n",
      "============================================================\n",
      "Attacking: dp_rlhf_eps8.0\n",
      "============================================================\n",
      "\n",
      "1. Basic Loss-based Attack:\n",
      "   Running membership inference attack...\n",
      "   Using 500 samples from each set\n"
     ]
    },
    {
     "data": {
      "application/vnd.jupyter.widget-view+json": {
       "model_id": "914b043a4056495aae40b4f533e59906",
       "version_major": 2,
       "version_minor": 0
      },
      "text/plain": [
       "   Computing member losses:   0%|          | 0/500 [00:00<?, ?it/s]"
      ]
     },
     "metadata": {},
     "output_type": "display_data"
    },
    {
     "data": {
      "application/vnd.jupyter.widget-view+json": {
       "model_id": "2deb880801424368a06510b25b4d0ed8",
       "version_major": 2,
       "version_minor": 0
      },
      "text/plain": [
       "   Computing non-member losses:   0%|          | 0/500 [00:00<?, ?it/s]"
      ]
     },
     "metadata": {},
     "output_type": "display_data"
    },
    {
     "name": "stdout",
     "output_type": "stream",
     "text": [
      "   Attack AUC: 0.5118\n",
      "   Attack Accuracy: 0.5220\n",
      "   Member loss: 9.0107 ± 0.7137\n",
      "   Non-member loss: 9.0879 ± 0.4302\n",
      "\n",
      "2. Advanced ML-based Attack:\n",
      "   Running advanced membership inference attack...\n"
     ]
    },
    {
     "data": {
      "application/vnd.jupyter.widget-view+json": {
       "model_id": "cca2d53b3f3d40ee9e830845b08d4147",
       "version_major": 2,
       "version_minor": 0
      },
      "text/plain": [
       "   Extracting member features:   0%|          | 0/200 [00:00<?, ?it/s]"
      ]
     },
     "metadata": {},
     "output_type": "display_data"
    },
    {
     "data": {
      "application/vnd.jupyter.widget-view+json": {
       "model_id": "08cd24d3aaca42b08ea0869464ae9d57",
       "version_major": 2,
       "version_minor": 0
      },
      "text/plain": [
       "   Extracting non-member features:   0%|          | 0/200 [00:00<?, ?it/s]"
      ]
     },
     "metadata": {},
     "output_type": "display_data"
    },
    {
     "name": "stderr",
     "output_type": "stream",
     "text": [
      "/usr/local/lib/python3.12/dist-packages/sklearn/metrics/_ranking.py:379: UndefinedMetricWarning: Only one class is present in y_true. ROC AUC score is not defined in that case.\n",
      "  warnings.warn(\n"
     ]
    },
    {
     "name": "stdout",
     "output_type": "stream",
     "text": [
      "   Advanced attack AUC: nan\n",
      "   Advanced attack Accuracy: 0.0000\n",
      "\n",
      "============================================================\n",
      "Attacking: dp_rlhf_eps1.0\n",
      "============================================================\n",
      "\n",
      "1. Basic Loss-based Attack:\n",
      "   Running membership inference attack...\n",
      "   Using 500 samples from each set\n"
     ]
    },
    {
     "data": {
      "application/vnd.jupyter.widget-view+json": {
       "model_id": "cd5f36a6137c4e8e99e521559dc6094b",
       "version_major": 2,
       "version_minor": 0
      },
      "text/plain": [
       "   Computing member losses:   0%|          | 0/500 [00:00<?, ?it/s]"
      ]
     },
     "metadata": {},
     "output_type": "display_data"
    },
    {
     "data": {
      "application/vnd.jupyter.widget-view+json": {
       "model_id": "e70204cb70024a63b6a96a604b511780",
       "version_major": 2,
       "version_minor": 0
      },
      "text/plain": [
       "   Computing non-member losses:   0%|          | 0/500 [00:00<?, ?it/s]"
      ]
     },
     "metadata": {},
     "output_type": "display_data"
    },
    {
     "name": "stdout",
     "output_type": "stream",
     "text": [
      "   Attack AUC: 0.5118\n",
      "   Attack Accuracy: 0.5220\n",
      "   Member loss: 9.0107 ± 0.7137\n",
      "   Non-member loss: 9.0879 ± 0.4302\n",
      "\n",
      "2. Advanced ML-based Attack:\n",
      "   Running advanced membership inference attack...\n"
     ]
    },
    {
     "data": {
      "application/vnd.jupyter.widget-view+json": {
       "model_id": "4ae58cc390f640828a58434f30159604",
       "version_major": 2,
       "version_minor": 0
      },
      "text/plain": [
       "   Extracting member features:   0%|          | 0/200 [00:00<?, ?it/s]"
      ]
     },
     "metadata": {},
     "output_type": "display_data"
    },
    {
     "data": {
      "application/vnd.jupyter.widget-view+json": {
       "model_id": "e09b1c22dbc74a6d8ceabdd49a35ebe9",
       "version_major": 2,
       "version_minor": 0
      },
      "text/plain": [
       "   Extracting non-member features:   0%|          | 0/200 [00:00<?, ?it/s]"
      ]
     },
     "metadata": {},
     "output_type": "display_data"
    },
    {
     "name": "stdout",
     "output_type": "stream",
     "text": [
      "   Advanced attack AUC: nan\n",
      "   Advanced attack Accuracy: 0.0000\n",
      "\n",
      "============================================================\n",
      "ATTACKS COMPLETE\n",
      "============================================================\n"
     ]
    },
    {
     "name": "stderr",
     "output_type": "stream",
     "text": [
      "/usr/local/lib/python3.12/dist-packages/sklearn/metrics/_ranking.py:379: UndefinedMetricWarning: Only one class is present in y_true. ROC AUC score is not defined in that case.\n",
      "  warnings.warn(\n"
     ]
    }
   ],
   "source": [
    "\n",
    "# CELL 8: Run Attacks on All Models\n",
    "print(\"\\n\" + \"=\"*60)\n",
    "print(\"RUNNING MEMBERSHIP INFERENCE ATTACKS\")\n",
    "print(\"=\"*60)\n",
    "\n",
    "attack_results = {}\n",
    "\n",
    "# Models to attack\n",
    "models_to_attack = [\n",
    "    'sft_baseline',\n",
    "    'dpo_baseline',\n",
    "    'dp_dpo_eps8.0',\n",
    "    'dp_dpo_eps4.0',\n",
    "    'dp_dpo_eps1.0',\n",
    "    'rlhf_baseline',\n",
    "    'dp_rlhf_eps8.0',\n",
    "    'dp_rlhf_eps1.0',\n",
    "]\n",
    "\n",
    "for model_name in models_to_attack:\n",
    "    print(f\"\\n{'='*60}\")\n",
    "    print(f\"Attacking: {model_name}\")\n",
    "    print(f\"{'='*60}\")\n",
    "\n",
    "    # Load model\n",
    "    model = load_model(model_name)\n",
    "    if model is None:\n",
    "        continue\n",
    "\n",
    "    # Basic attack\n",
    "    print(\"\\n1. Basic Loss-based Attack:\")\n",
    "    basic_results = membership_inference_attack(\n",
    "        model, tokenizer, train_dataset, test_dataset, max_samples=500\n",
    "    )\n",
    "\n",
    "    # Advanced attack\n",
    "    print(\"\\n2. Advanced ML-based Attack:\")\n",
    "    advanced_results = advanced_membership_attack(\n",
    "        model, tokenizer, train_dataset, test_dataset, max_samples=200\n",
    "    )\n",
    "\n",
    "    # Store results\n",
    "    attack_results[model_name] = {\n",
    "        'basic_attack': {k: v for k, v in basic_results.items()\n",
    "                        if k not in ['train_losses', 'test_losses', 'labels', 'scores', 'fpr', 'tpr']},\n",
    "        'advanced_attack': advanced_results,\n",
    "        'basic_attack_curves': {\n",
    "            'fpr': basic_results['fpr'].tolist(),\n",
    "            'tpr': basic_results['tpr'].tolist(),\n",
    "        }\n",
    "    }\n",
    "\n",
    "    # Cleanup\n",
    "    del model\n",
    "    torch.cuda.empty_cache()\n",
    "\n",
    "print(\"\\n\" + \"=\"*60)\n",
    "print(\"ATTACKS COMPLETE\")\n",
    "print(\"=\"*60)"
   ]
  },
  {
   "cell_type": "code",
   "execution_count": 9,
   "metadata": {
    "colab": {
     "base_uri": "https://localhost:8080/"
    },
    "id": "shxW5hpx1R8C",
    "outputId": "fdff0ca8-78ce-416a-98d7-36cecd6cfb08"
   },
   "outputs": [
    {
     "name": "stdout",
     "output_type": "stream",
     "text": [
      "\n",
      "============================================================\n",
      "ATTACK RESULTS SUMMARY\n",
      "============================================================\n",
      "\n",
      "Basic Loss-based Attack Results:\n",
      "                     auc  accuracy  loss_separation\n",
      "sft_baseline    0.486626     0.509        -0.033937\n",
      "dpo_baseline    0.512286     0.521         0.076028\n",
      "dp_dpo_eps8.0   0.511886     0.522         0.075825\n",
      "dp_dpo_eps4.0   0.510782     0.520         0.075809\n",
      "dp_dpo_eps1.0   0.511430     0.522         0.075525\n",
      "rlhf_baseline   0.505366     0.522         0.079092\n",
      "dp_rlhf_eps8.0  0.511802     0.522         0.077240\n",
      "dp_rlhf_eps1.0  0.511802     0.522         0.077240\n",
      "\n",
      "\n",
      "Advanced ML-based Attack Results:\n",
      "                auc accuracy\n",
      "sft_baseline    NaN      0.0\n",
      "dpo_baseline    NaN      0.0\n",
      "dp_dpo_eps8.0   NaN      0.0\n",
      "dp_dpo_eps4.0   NaN      0.0\n",
      "dp_dpo_eps1.0   NaN      0.0\n",
      "rlhf_baseline   NaN      0.0\n",
      "dp_rlhf_eps8.0  NaN      0.0\n",
      "dp_rlhf_eps1.0  NaN      0.0\n",
      "\n",
      "Results saved to: /content/drive/MyDrive/Project4_Privacy_Alignment/results/privacy_attack_results.csv\n"
     ]
    }
   ],
   "source": [
    "\n",
    "\n",
    "\n",
    "# CELL 9: Create Results Summary\n",
    "print(\"\\n\" + \"=\"*60)\n",
    "print(\"ATTACK RESULTS SUMMARY\")\n",
    "print(\"=\"*60)\n",
    "\n",
    "# Create DataFrame for basic attacks\n",
    "basic_df = pd.DataFrame({\n",
    "    model: results['basic_attack']\n",
    "    for model, results in attack_results.items()\n",
    "}).T\n",
    "\n",
    "print(\"\\nBasic Loss-based Attack Results:\")\n",
    "print(basic_df[['auc', 'accuracy', 'loss_separation']].to_string())\n",
    "\n",
    "# Create DataFrame for advanced attacks\n",
    "advanced_df = pd.DataFrame({\n",
    "    model: results['advanced_attack']\n",
    "    for model, results in attack_results.items()\n",
    "}).T\n",
    "\n",
    "print(\"\\n\\nAdvanced ML-based Attack Results:\")\n",
    "print(advanced_df[['auc', 'accuracy']].to_string())\n",
    "\n",
    "# Save results\n",
    "results_path = DRIVE_RESULTS_DIR / \"privacy_attack_results.csv\"\n",
    "basic_df.to_csv(results_path)\n",
    "print(f\"\\nResults saved to: {results_path}\")"
   ]
  },
  {
   "cell_type": "code",
   "execution_count": 10,
   "metadata": {
    "colab": {
     "base_uri": "https://localhost:8080/",
     "height": 1000
    },
    "id": "GAmF3no51tee",
    "outputId": "637fffc3-5954-4883-ec86-f3296384f4c1"
   },
   "outputs": [
    {
     "name": "stdout",
     "output_type": "stream",
     "text": [
      "\n",
      "============================================================\n",
      "CREATING VISUALIZATIONS\n",
      "============================================================\n"
     ]
    },
    {
     "data": {
      "image/png": "[encoded data removed]",
      "text/plain": [
       "<Figure size 1600x600 with 2 Axes>"
      ]
     },
     "metadata": {},
     "output_type": "display_data"
    },
    {
     "name": "stdout",
     "output_type": "stream",
     "text": [
      "Attack comparison plot saved\n"
     ]
    },
    {
     "data": {
      "image/png": "[encoded data removed]",
      "text/plain": [
       "<Figure size 1600x600 with 2 Axes>"
      ]
     },
     "metadata": {},
     "output_type": "display_data"
    },
    {
     "name": "stdout",
     "output_type": "stream",
     "text": [
      "ROC curves saved\n"
     ]
    },
    {
     "data": {
      "image/png": "[encoded data removed]",
      "text/plain": [
       "<Figure size 1000x600 with 1 Axes>"
      ]
     },
     "metadata": {},
     "output_type": "display_data"
    },
    {
     "name": "stdout",
     "output_type": "stream",
     "text": [
      "DPO privacy-attack plot saved\n"
     ]
    },
    {
     "data": {
      "image/png": "[encoded data removed]",
      "text/plain": [
       "<Figure size 1000x600 with 1 Axes>"
      ]
     },
     "metadata": {},
     "output_type": "display_data"
    },
    {
     "name": "stdout",
     "output_type": "stream",
     "text": [
      "RLHF privacy-attack plot saved\n",
      "\n",
      "All visualizations saved to: /content/drive/MyDrive/Project4_Privacy_Alignment/results\n"
     ]
    }
   ],
   "source": [
    "\n",
    "\n",
    "\n",
    "\n",
    "# CELL 10: Visualizations\n",
    "print(\"\\n\" + \"=\"*60)\n",
    "print(\"CREATING VISUALIZATIONS\")\n",
    "print(\"=\"*60)\n",
    "\n",
    "plt.style.use('seaborn-v0_8-darkgrid')\n",
    "sns.set_palette(\"husl\")\n",
    "\n",
    "# Figure 1: Attack AUC Comparison\n",
    "fig, (ax1, ax2) = plt.subplots(1, 2, figsize=(16, 6))\n",
    "\n",
    "models = list(attack_results.keys())\n",
    "basic_aucs = [attack_results[m]['basic_attack']['auc'] for m in models]\n",
    "advanced_aucs = [attack_results[m]['advanced_attack']['auc'] for m in models]\n",
    "\n",
    "x = np.arange(len(models))\n",
    "width = 0.35\n",
    "\n",
    "ax1.bar(x - width/2, basic_aucs, width, label='Basic Attack', alpha=0.8)\n",
    "ax1.bar(x + width/2, advanced_aucs, width, label='Advanced Attack', alpha=0.8)\n",
    "ax1.axhline(y=0.5, color='red', linestyle='--', label='Random Guess', alpha=0.5)\n",
    "ax1.set_xticks(x)\n",
    "ax1.set_xticklabels(models, rotation=45, ha='right')\n",
    "ax1.set_ylabel('Attack AUC')\n",
    "ax1.set_title('Membership Inference Attack Success')\n",
    "ax1.legend()\n",
    "ax1.grid(axis='y', alpha=0.3)\n",
    "\n",
    "# Figure 1b: Loss Separation\n",
    "loss_seps = [attack_results[m]['basic_attack']['loss_separation'] for m in models]\n",
    "colors = ['blue' if 'baseline' in m else 'orange' if 'dpo' in m else 'green'\n",
    "          for m in models]\n",
    "\n",
    "ax2.bar(range(len(models)), loss_seps, color=colors, alpha=0.8)\n",
    "ax2.axhline(y=0, color='red', linestyle='--', alpha=0.5)\n",
    "ax2.set_xticks(range(len(models)))\n",
    "ax2.set_xticklabels(models, rotation=45, ha='right')\n",
    "ax2.set_ylabel('Loss Separation (Test - Train)')\n",
    "ax2.set_title('Member vs Non-Member Loss Separation')\n",
    "ax2.grid(axis='y', alpha=0.3)\n",
    "\n",
    "plt.tight_layout()\n",
    "plt.savefig(DRIVE_RESULTS_DIR / 'attack_success_comparison.png', dpi=300, bbox_inches='tight')\n",
    "plt.show()\n",
    "\n",
    "print(\"Attack comparison plot saved\")\n",
    "\n",
    "# Figure 2: ROC Curves\n",
    "fig, (ax1, ax2) = plt.subplots(1, 2, figsize=(16, 6))\n",
    "\n",
    "# DPO models\n",
    "dpo_models = [m for m in models if 'dpo' in m]\n",
    "for model in dpo_models:\n",
    "    fpr = attack_results[model]['basic_attack_curves']['fpr']\n",
    "    tpr = attack_results[model]['basic_attack_curves']['tpr']\n",
    "    auc = attack_results[model]['basic_attack']['auc']\n",
    "    label = model.replace('dp_dpo_eps', 'DP ε=').replace('dpo_baseline', 'No DP')\n",
    "    ax1.plot(fpr, tpr, label=f'{label} (AUC={auc:.3f})', linewidth=2)\n",
    "\n",
    "ax1.plot([0, 1], [0, 1], 'k--', label='Random Guess', alpha=0.5)\n",
    "ax1.set_xlabel('False Positive Rate')\n",
    "ax1.set_ylabel('True Positive Rate')\n",
    "ax1.set_title('ROC Curves: DPO Models')\n",
    "ax1.legend()\n",
    "ax1.grid(True, alpha=0.3)\n",
    "\n",
    "# RLHF models\n",
    "rlhf_models = [m for m in models if 'rlhf' in m]\n",
    "for model in rlhf_models:\n",
    "    fpr = attack_results[model]['basic_attack_curves']['fpr']\n",
    "    tpr = attack_results[model]['basic_attack_curves']['tpr']\n",
    "    auc = attack_results[model]['basic_attack']['auc']\n",
    "    label = model.replace('dp_rlhf_eps', 'DP ε=').replace('rlhf_baseline', 'No DP')\n",
    "    ax2.plot(fpr, tpr, label=f'{label} (AUC={auc:.3f})', linewidth=2)\n",
    "\n",
    "ax2.plot([0, 1], [0, 1], 'k--', label='Random Guess', alpha=0.5)\n",
    "ax2.set_xlabel('False Positive Rate')\n",
    "ax2.set_ylabel('True Positive Rate')\n",
    "ax2.set_title('ROC Curves: RLHF Models')\n",
    "ax2.legend()\n",
    "ax2.grid(True, alpha=0.3)\n",
    "\n",
    "plt.tight_layout()\n",
    "plt.savefig(DRIVE_RESULTS_DIR / 'roc_curves.png', dpi=300, bbox_inches='tight')\n",
    "plt.show()\n",
    "\n",
    "print(\"ROC curves saved\")\n",
    "\n",
    "# Figure 3: Privacy Budget vs Attack Success (DPO)\n",
    "if len(dpo_models) > 0:\n",
    "    fig, ax = plt.subplots(figsize=(10, 6))\n",
    "\n",
    "    epsilon_map = {\n",
    "        'dpo_baseline': float('inf'),\n",
    "        'dp_dpo_eps1.0': 1.0,\n",
    "        'dp_dpo_eps4.0': 4.0,\n",
    "        'dp_dpo_eps8.0': 8.0,\n",
    "    }\n",
    "\n",
    "    epsilons = [epsilon_map.get(m, 0) for m in dpo_models]\n",
    "    aucs = [attack_results[m]['basic_attack']['auc'] for m in dpo_models]\n",
    "\n",
    "    # Sort by epsilon\n",
    "    sorted_data = sorted(zip(epsilons, aucs, dpo_models))\n",
    "    epsilons, aucs, labels = zip(*sorted_data)\n",
    "\n",
    "    ax.plot(epsilons, aucs, marker='o', linewidth=2, markersize=10, color='orange')\n",
    "    ax.axhline(y=0.5, color='red', linestyle='--', label='Random Guess', alpha=0.5)\n",
    "\n",
    "    for i, (eps, auc, label) in enumerate(zip(epsilons, aucs, labels)):\n",
    "        ax.annotate(f'{auc:.3f}', (eps, auc), textcoords=\"offset points\",\n",
    "                   xytext=(0,10), ha='center')\n",
    "\n",
    "    ax.set_xlabel('Privacy Budget (ε)')\n",
    "    ax.set_ylabel('Attack AUC')\n",
    "    ax.set_title('Privacy Budget vs Attack Success: DPO')\n",
    "    ax.set_xscale('log')\n",
    "    ax.legend()\n",
    "    ax.grid(True, alpha=0.3)\n",
    "\n",
    "    plt.tight_layout()\n",
    "    plt.savefig(DRIVE_RESULTS_DIR / 'privacy_vs_attack_dpo.png', dpi=300, bbox_inches='tight')\n",
    "    plt.show()\n",
    "\n",
    "    print(\"DPO privacy-attack plot saved\")\n",
    "\n",
    "# Figure 4: Privacy Budget vs Attack Success (RLHF)\n",
    "if len(rlhf_models) > 0:\n",
    "    fig, ax = plt.subplots(figsize=(10, 6))\n",
    "\n",
    "    epsilon_map = {\n",
    "        'rlhf_baseline': float('inf'),\n",
    "        'dp_rlhf_eps1.0': 1.0,\n",
    "        'dp_rlhf_eps8.0': 8.0,\n",
    "    }\n",
    "\n",
    "    epsilons = [epsilon_map.get(m, 0) for m in rlhf_models]\n",
    "    aucs = [attack_results[m]['basic_attack']['auc'] for m in rlhf_models]\n",
    "\n",
    "    # Sort by epsilon\n",
    "    sorted_data = sorted(zip(epsilons, aucs, rlhf_models))\n",
    "    epsilons, aucs, labels = zip(*sorted_data)\n",
    "\n",
    "    ax.plot(epsilons, aucs, marker='s', linewidth=2, markersize=10, color='green')\n",
    "    ax.axhline(y=0.5, color='red', linestyle='--', label='Random Guess', alpha=0.5)\n",
    "\n",
    "    for i, (eps, auc, label) in enumerate(zip(epsilons, aucs, labels)):\n",
    "        ax.annotate(f'{auc:.3f}', (eps, auc), textcoords=\"offset points\",\n",
    "                   xytext=(0,10), ha='center')\n",
    "\n",
    "    ax.set_xlabel('Privacy Budget (ε)')\n",
    "    ax.set_ylabel('Attack AUC')\n",
    "    ax.set_title('Privacy Budget vs Attack Success: RLHF')\n",
    "    ax.set_xscale('log')\n",
    "    ax.legend()\n",
    "    ax.grid(True, alpha=0.3)\n",
    "\n",
    "    plt.tight_layout()\n",
    "    plt.savefig(DRIVE_RESULTS_DIR / 'privacy_vs_attack_rlhf.png', dpi=300, bbox_inches='tight')\n",
    "    plt.show()\n",
    "\n",
    "    print(\"RLHF privacy-attack plot saved\")\n",
    "\n",
    "print(\"\\nAll visualizations saved to:\", DRIVE_RESULTS_DIR)"
   ]
  },
  {
   "cell_type": "code",
   "execution_count": 11,
   "metadata": {
    "colab": {
     "base_uri": "https://localhost:8080/"
    },
    "id": "Ti7I__f-1tg8",
    "outputId": "abfd6769-1eb8-45b2-d486-1fbb916b11ee"
   },
   "outputs": [
    {
     "name": "stdout",
     "output_type": "stream",
     "text": [
      "\n",
      "============================================================\n",
      "PRIVACY ANALYSIS\n",
      "============================================================\n",
      "\n",
      "1. Privacy Protection Effectiveness:\n",
      "\n",
      "DPO Track:\n",
      "   Baseline attack AUC: 0.5123\n",
      "   DP (ε=8) attack AUC: 0.5119\n",
      "   Privacy improvement: 3.3%\n",
      "\n",
      "RLHF Track:\n",
      "   Baseline attack AUC: 0.5054\n",
      "   DP (ε=8) attack AUC: 0.5118\n",
      "   Privacy improvement: -119.9%\n",
      "\n",
      "2. Epsilon Sensitivity:\n",
      "\n",
      "DPO - Attack AUC by epsilon:\n",
      "   ε=inf: 0.5123\n",
      "   ε=8.0: 0.5119\n",
      "   ε=4.0: 0.5108\n",
      "   ε=1.0: 0.5114\n",
      "\n",
      "RLHF - Attack AUC by epsilon:\n",
      "   ε=inf: 0.5054\n",
      "   ε=8.0: 0.5118\n",
      "   ε=1.0: 0.5118\n"
     ]
    }
   ],
   "source": [
    "\n",
    "\n",
    "\n",
    "\n",
    "\n",
    "\n",
    "# CELL 11: Privacy Analysis\n",
    "print(\"\\n\" + \"=\"*60)\n",
    "print(\"PRIVACY ANALYSIS\")\n",
    "print(\"=\"*60)\n",
    "\n",
    "print(\"\\n1. Privacy Protection Effectiveness:\")\n",
    "print(\"\\nDPO Track:\")\n",
    "if 'dpo_baseline' in attack_results and 'dp_dpo_eps8.0' in attack_results:\n",
    "    baseline_auc = attack_results['dpo_baseline']['basic_attack']['auc']\n",
    "    dp8_auc = attack_results['dp_dpo_eps8.0']['basic_attack']['auc']\n",
    "    reduction = ((baseline_auc - dp8_auc) / (baseline_auc - 0.5)) * 100\n",
    "    print(f\"   Baseline attack AUC: {baseline_auc:.4f}\")\n",
    "    print(f\"   DP (ε=8) attack AUC: {dp8_auc:.4f}\")\n",
    "    print(f\"   Privacy improvement: {reduction:.1f}%\")\n",
    "\n",
    "print(\"\\nRLHF Track:\")\n",
    "if 'rlhf_baseline' in attack_results and 'dp_rlhf_eps8.0' in attack_results:\n",
    "    baseline_auc = attack_results['rlhf_baseline']['basic_attack']['auc']\n",
    "    dp8_auc = attack_results['dp_rlhf_eps8.0']['basic_attack']['auc']\n",
    "    reduction = ((baseline_auc - dp8_auc) / (baseline_auc - 0.5)) * 100\n",
    "    print(f\"   Baseline attack AUC: {baseline_auc:.4f}\")\n",
    "    print(f\"   DP (ε=8) attack AUC: {dp8_auc:.4f}\")\n",
    "    print(f\"   Privacy improvement: {reduction:.1f}%\")\n",
    "\n",
    "print(\"\\n2. Epsilon Sensitivity:\")\n",
    "print(\"\\nDPO - Attack AUC by epsilon:\")\n",
    "for model in ['dpo_baseline', 'dp_dpo_eps8.0', 'dp_dpo_eps4.0', 'dp_dpo_eps1.0']:\n",
    "    if model in attack_results:\n",
    "        auc = attack_results[model]['basic_attack']['auc']\n",
    "        eps = 'inf' if 'baseline' in model else model.split('eps')[1]\n",
    "        print(f\"   ε={eps}: {auc:.4f}\")\n",
    "\n",
    "print(\"\\nRLHF - Attack AUC by epsilon:\")\n",
    "for model in ['rlhf_baseline', 'dp_rlhf_eps8.0', 'dp_rlhf_eps1.0']:\n",
    "    if model in attack_results:\n",
    "        auc = attack_results[model]['basic_attack']['auc']\n",
    "        eps = 'inf' if 'baseline' in model else model.split('eps')[1]\n",
    "        print(f\"   ε={eps}: {auc:.4f}\")\n"
   ]
  },
  {
   "cell_type": "code",
   "execution_count": null,
   "metadata": {
    "id": "JwG-lQXm1tjd"
   },
   "outputs": [],
   "source": []
  },
  {
   "cell_type": "code",
   "execution_count": null,
   "metadata": {
    "id": "PDqCx0YT1tm4"
   },
   "outputs": [],
   "source": []
  },
  {
   "cell_type": "code",
   "execution_count": 12,
   "metadata": {
    "colab": {
     "base_uri": "https://localhost:8080/"
    },
    "id": "B5YWyveB022S",
    "outputId": "7c5867f3-e2a0-405b-bc7d-87ff859d6a40"
   },
   "outputs": [
    {
     "name": "stdout",
     "output_type": "stream",
     "text": [
      "\n",
      "============================================================\n",
      "EXPORTING PRIVACY ATTACK REPORT\n",
      "============================================================\n",
      "Report saved to: /content/drive/MyDrive/Project4_Privacy_Alignment/results/privacy_attack_report.json\n",
      "\n",
      "============================================================\n",
      "PRIVACY ATTACKS COMPLETE\n",
      "============================================================\n",
      "\n",
      "All results saved to: /content/drive/MyDrive/Project4_Privacy_Alignment/results\n",
      "\n",
      "Files created:\n",
      "  - privacy_attack_results.csv\n",
      "  - privacy_attack_report.json\n",
      "  - attack_success_comparison.png\n",
      "  - roc_curves.png\n",
      "  - privacy_vs_attack_dpo.png\n",
      "  - privacy_vs_attack_rlhf.png\n"
     ]
    }
   ],
   "source": [
    "\n",
    "# CELL 12: Export Final Report\n",
    "print(\"\\n\" + \"=\"*60)\n",
    "print(\"EXPORTING PRIVACY ATTACK REPORT\")\n",
    "print(\"=\"*60)\n",
    "\n",
    "report = {\n",
    "    'attack_date': str(pd.Timestamp.now()),\n",
    "    'config': config,\n",
    "    'num_train_samples': len(train_dataset),\n",
    "    'num_test_samples': len(test_dataset),\n",
    "    'models_attacked': list(attack_results.keys()),\n",
    "    'attack_results': attack_results,\n",
    "}\n",
    "\n",
    "report_path = DRIVE_RESULTS_DIR / \"privacy_attack_report.json\"\n",
    "with open(report_path, 'w') as f:\n",
    "    json.dump(report, f, indent=2, default=str)\n",
    "\n",
    "print(f\"Report saved to: {report_path}\")\n",
    "\n",
    "print(\"\\n\" + \"=\"*60)\n",
    "print(\"PRIVACY ATTACKS COMPLETE\")\n",
    "print(\"=\"*60)\n",
    "print(f\"\\nAll results saved to: {DRIVE_RESULTS_DIR}\")\n",
    "print(\"\\nFiles created:\")\n",
    "print(\"  - privacy_attack_results.csv\")\n",
    "print(\"  - privacy_attack_report.json\")\n",
    "print(\"  - attack_success_comparison.png\")\n",
    "print(\"  - roc_curves.png\")\n",
    "print(\"  - privacy_vs_attack_dpo.png\")\n",
    "print(\"  - privacy_vs_attack_rlhf.png\")\n",
    "\n",
    "\n"
   ]
  },
  {
   "cell_type": "code",
   "execution_count": null,
   "metadata": {
    "id": "4l1LmW5A1Mwv"
   },
   "outputs": [],
   "source": []
  }
 ],
 "metadata": {
  "colab": {
   "provenance": []
  },
  "kernelspec": {
   "display_name": "Python 3",
   "name": "python3"
  },
  "language_info": {
   "name": "python"
  }
 },
 "nbformat": 4,
 "nbformat_minor": 0
}
