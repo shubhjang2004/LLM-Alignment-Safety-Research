{
 "cells": [
  {
   "cell_type": "markdown",
   "metadata": {
    "id": "fJfrv4FYCE12"
   },
   "source": [
    "# notebooks/0_setup_and_data.ipynb\n",
    "\n",
    "\"\"\"\n",
    "Project 4: Privacy-Preserving Alignment\n",
    "Notebook 0: Setup and Data Preparation (with Google Drive)\n",
    "\n",
    "Purpose: Install dependencies, load data, create splits, save to Drive\n",
    "Time: ~5 minutes\n",
    "\"\"\""
   ]
  },
  {
   "cell_type": "code",
   "execution_count": null,
   "metadata": {
    "id": "9MILEbsgCG9g"
   },
   "outputs": [],
   "source": []
  },
  {
   "cell_type": "code",
   "execution_count": 2,
   "metadata": {
    "colab": {
     "base_uri": "https://localhost:8080/"
    },
    "executionInfo": {
     "elapsed": 30799,
     "status": "ok",
     "timestamp": 1760954396619,
     "user": {
      "displayName": "shubham jangid",
      "userId": "02013310546938739877"
     },
     "user_tz": -330
    },
    "id": "oSxYZRt8B54k",
    "outputId": "e7c20dda-f9f4-4169-e001-ff293e873d74"
   },
   "outputs": [
    {
     "name": "stdout",
     "output_type": "stream",
     "text": [
      "Mounted at /content/drive\n",
      " Google Drive mounted successfully!\n"
     ]
    }
   ],
   "source": [
    "# Mount Google Drive\n",
    "from google.colab import drive\n",
    "import os\n",
    "\n",
    "# Mount Google Drive\n",
    "drive.mount('/content/drive')\n",
    "\n",
    "# Verify mount\n",
    "if os.path.exists('/content/drive/MyDrive'):\n",
    "    print(\" Google Drive mounted successfully!\")\n",
    "else:\n",
    "    print(\" Drive mount failed!\")"
   ]
  },
  {
   "cell_type": "code",
   "execution_count": 4,
   "metadata": {
    "executionInfo": {
     "elapsed": 13870,
     "status": "ok",
     "timestamp": 1760954530059,
     "user": {
      "displayName": "shubham jangid",
      "userId": "02013310546938739877"
     },
     "user_tz": -330
    },
    "id": "cQMPguL7B6zg"
   },
   "outputs": [],
   "source": [
    "# Install Dependencies (if needed)\n",
    "\n",
    "!pip install -q transformers datasets peft trl opacus accelerate  --q"
   ]
  },
  {
   "cell_type": "code",
   "execution_count": 5,
   "metadata": {
    "colab": {
     "base_uri": "https://localhost:8080/"
    },
    "executionInfo": {
     "elapsed": 16399,
     "status": "ok",
     "timestamp": 1760954550818,
     "user": {
      "displayName": "shubham jangid",
      "userId": "02013310546938739877"
     },
     "user_tz": -330
    },
    "id": "nICJO3WHCABA",
    "outputId": "53a3354e-8935-4324-8dd0-82a74a0840b4"
   },
   "outputs": [
    {
     "name": "stdout",
     "output_type": "stream",
     "text": [
      "PyTorch version: 2.8.0+cu126\n",
      "CUDA available: False\n"
     ]
    }
   ],
   "source": [
    "# Imports and Setup\n",
    "import json\n",
    "import torch\n",
    "import numpy as np\n",
    "import pandas as pd\n",
    "from datasets import load_dataset, DatasetDict, Dataset\n",
    "from pathlib import Path\n",
    "import matplotlib.pyplot as plt\n",
    "import seaborn as sns\n",
    "import shutil\n",
    "\n",
    "# Set style\n",
    "sns.set_style(\"whitegrid\")\n",
    "plt.rcParams['figure.figsize'] = (10, 6)\n",
    "\n",
    "print(f\"PyTorch version: {torch.__version__}\")\n",
    "print(f\"CUDA available: {torch.cuda.is_available()}\")\n",
    "if torch.cuda.is_available():\n",
    "    print(f\"GPU: {torch.cuda.get_device_name(0)}\")"
   ]
  },
  {
   "cell_type": "code",
   "execution_count": 6,
   "metadata": {
    "colab": {
     "base_uri": "https://localhost:8080/"
    },
    "executionInfo": {
     "elapsed": 521,
     "status": "ok",
     "timestamp": 1760954554910,
     "user": {
      "displayName": "shubham jangid",
      "userId": "02013310546938739877"
     },
     "user_tz": -330
    },
    "id": "z2IBM1PiCItL",
    "outputId": "74325f1e-a255-47ad-c3e8-faa099918f03"
   },
   "outputs": [
    {
     "name": "stdout",
     "output_type": "stream",
     "text": [
      " Configuration initialized\n",
      "\n",
      " Directory Structure:\n",
      "   Drive (persistent): /content/drive/MyDrive/Project4_Privacy_Alignment\n",
      "   Local (temporary): /content\n",
      "\n",
      " Data will be saved to Drive for reuse across sessions\n"
     ]
    }
   ],
   "source": [
    "# Configuration with Drive Paths\n",
    "class Config:\n",
    "    \"\"\"Global configuration\"\"\"\n",
    "\n",
    "    # === GOOGLE DRIVE PATHS (PERSISTENT) ===\n",
    "    DRIVE_BASE = Path(\"/content/drive/MyDrive/Project4_Privacy_Alignment\")\n",
    "    DRIVE_DATA_DIR = DRIVE_BASE / \"data\"\n",
    "    DRIVE_MODELS_DIR = DRIVE_BASE / \"models\"\n",
    "    DRIVE_RESULTS_DIR = DRIVE_BASE / \"results\"\n",
    "\n",
    "    # === LOCAL PATHS (TEMPORARY - FASTER FOR PROCESSING) ===\n",
    "    LOCAL_BASE = Path(\"/content\")\n",
    "    LOCAL_DATA_DIR = LOCAL_BASE / \"data\"\n",
    "    LOCAL_MODELS_DIR = LOCAL_BASE / \"models\"\n",
    "    LOCAL_RESULTS_DIR = LOCAL_BASE / \"results\"\n",
    "    CHECKPOINT_DIR = LOCAL_BASE / \"checkpoints\"\n",
    "\n",
    "    # Create all directories\n",
    "    for dir_path in [DRIVE_DATA_DIR, DRIVE_MODELS_DIR, DRIVE_RESULTS_DIR,\n",
    "                     LOCAL_DATA_DIR, LOCAL_MODELS_DIR, LOCAL_RESULTS_DIR, CHECKPOINT_DIR]:\n",
    "        dir_path.mkdir(exist_ok=True, parents=True)\n",
    "\n",
    "    # Model configs\n",
    "    POLICY_MODEL = \"gpt2\"  # GPT-2 Small (124M)\n",
    "    REWARD_MODEL = \"distilbert-base-uncased\"  # DistilBERT (66M)\n",
    "\n",
    "    # Data configs\n",
    "    DATASET_NAME = \"Anthropic/hh-rlhf\"\n",
    "    NUM_SAMPLES = 20000  # Change this as needed: 5000, 15000, 20000, 30000\n",
    "    TRAIN_SPLIT = 0.9\n",
    "    SEED = 42\n",
    "\n",
    "    # Training configs\n",
    "    MAX_LENGTH = 512\n",
    "    BATCH_SIZE = 4\n",
    "    GRADIENT_ACCUMULATION_STEPS = 4\n",
    "    LEARNING_RATE = 5e-5\n",
    "    NUM_EPOCHS = 3\n",
    "\n",
    "    # LoRA configs\n",
    "    LORA_R = 8\n",
    "    LORA_ALPHA = 16\n",
    "    LORA_DROPOUT = 0.05\n",
    "    LORA_TARGET_MODULES = [\"c_attn\", \"c_proj\"]  # For GPT-2\n",
    "\n",
    "    # Privacy configs\n",
    "    EPSILON_VALUES = [1.0, 4.0, 8.0, 16.0]\n",
    "    DELTA = 1e-5  # For DP\n",
    "    MAX_GRAD_NORM = 1.0  # Gradient clipping\n",
    "\n",
    "    # Evaluation configs\n",
    "    EVAL_BATCH_SIZE = 8\n",
    "    NUM_EVAL_SAMPLES = 500\n",
    "\n",
    "# Initialize config\n",
    "config = Config()\n",
    "print(\" Configuration initialized\")\n",
    "print(f\"\\n Directory Structure:\")\n",
    "print(f\"   Drive (persistent): {config.DRIVE_BASE}\")\n",
    "print(f\"   Local (temporary): {config.LOCAL_BASE}\")\n",
    "print(f\"\\n Data will be saved to Drive for reuse across sessions\")\n"
   ]
  },
  {
   "cell_type": "code",
   "execution_count": 7,
   "metadata": {
    "colab": {
     "base_uri": "https://localhost:8080/"
    },
    "executionInfo": {
     "elapsed": 10,
     "status": "ok",
     "timestamp": 1760954558464,
     "user": {
      "displayName": "shubham jangid",
      "userId": "02013310546938739877"
     },
     "user_tz": -330
    },
    "id": "pAnfQ7yRCOmd",
    "outputId": "dd0775bc-4c10-420f-8406-6380a740c382"
   },
   "outputs": [
    {
     "name": "stdout",
     "output_type": "stream",
     "text": [
      " No existing data found in Drive\n"
     ]
    },
    {
     "name": "stderr",
     "output_type": "stream",
     "text": [
      "<>:38: SyntaxWarning: invalid escape sequence '\\ '\n",
      "<>:38: SyntaxWarning: invalid escape sequence '\\ '\n",
      "/tmp/ipython-input-827297689.py:38: SyntaxWarning: invalid escape sequence '\\ '\n",
      "  print(f\"\\  NUM_SAMPLES mismatch!\")\n"
     ]
    }
   ],
   "source": [
    "# Check if Data Already Exists in Drive\n",
    "def check_existing_data():\n",
    "    \"\"\"Check if preprocessed data already exists in Drive\"\"\"\n",
    "    data_path = config.DRIVE_DATA_DIR / \"hh_rlhf_processed\"\n",
    "    config_path = config.DRIVE_DATA_DIR / \"config.json\"\n",
    "\n",
    "    if data_path.exists() and config_path.exists():\n",
    "        # Load existing config\n",
    "        with open(config_path) as f:\n",
    "            existing_config = json.load(f)\n",
    "\n",
    "        print(\" Found existing preprocessed data in Drive!\")\n",
    "        print(f\"   Samples: {existing_config.get('num_samples', 'unknown')}\")\n",
    "        print(f\"   Train: {existing_config.get('train_samples', 'unknown')}\")\n",
    "        print(f\"   Test: {existing_config.get('test_samples', 'unknown')}\")\n",
    "\n",
    "        return True, existing_config\n",
    "    else:\n",
    "        print(\" No existing data found in Drive\")\n",
    "        return False, None\n",
    "\n",
    "data_exists, existing_config = check_existing_data()\n",
    "\n",
    "# Ask user if they want to reuse existing data\n",
    "if data_exists:\n",
    "    print(\"\\n\" + \"=\"*60)\n",
    "    print(\"OPTIONS:\")\n",
    "    print(\"  1. Load existing data from Drive (FAST - recommended)\")\n",
    "    print(\"  2. Reprocess data (SLOW - only if you changed NUM_SAMPLES)\")\n",
    "    print(\"=\"*60)\n",
    "\n",
    "    # Auto-check if NUM_SAMPLES matches\n",
    "    if existing_config and existing_config.get('num_samples') == config.NUM_SAMPLES:\n",
    "        print(f\"\\n Existing data matches current NUM_SAMPLES ({config.NUM_SAMPLES})\")\n",
    "        print(\"   → Will load from Drive (skip to Cell 10 to load)\")\n",
    "        SKIP_PROCESSING = True\n",
    "    else:\n",
    "        print(f\"\\  NUM_SAMPLES mismatch!\")\n",
    "        print(f\"   Existing: {existing_config.get('num_samples')}\")\n",
    "        print(f\"   Current: {config.NUM_SAMPLES}\")\n",
    "        print(\"   → Will reprocess data\")\n",
    "        SKIP_PROCESSING = False\n",
    "else:\n",
    "    SKIP_PROCESSING = False"
   ]
  },
  {
   "cell_type": "code",
   "execution_count": 8,
   "metadata": {
    "colab": {
     "base_uri": "https://localhost:8080/",
     "height": 771,
     "referenced_widgets": [
      "4171c4edbb264bc6a150d53548ae49d6",
      "045ed1d914d74b8c8318d0a83d337e0d",
      "cf4fc57f1fec40a6b56d1981603a6efb",
      "e24d62d24e9f488282b56910f4616c7c",
      "9cc5d0c131c141668e8f6b7a274cdbbe",
      "3122ec8c8c7a4ae7b23705931b7f14fb",
      "a9f79dca5f3f4228918f44ac9576e54c",
      "c5ab450a96c143fdbdaf9b8c28aa2781",
      "fd97c9810a8340c68064e3103c5e642c",
      "5d69d68de0984fda8105f7401a3a41ed",
      "4e5c05b8206b43aa9db021e5353d056b",
      "336074989eb24aa0a4f76992683da77c",
      "02e052fd960f44cebcb2c585da38f681",
      "1acf861b862a41a5a16f917f2f1c4301",
      "360c2a7b37bd412fa75316de53bed791",
      "43594eeb1c57484faf26d2dc54dd503e",
      "56523383fcd44c92ba5469fc6dc753b4",
      "b2bf1f6a8f0c4d269ca65aad7696781c",
      "0d07e37db8304b46abf96033eea3bb82",
      "97ac96c9f62b4b16b7ceed73356fb993",
      "f7cc2d28aab14baf998e3c9d49395b74",
      "1d7f7fcee10c43babf64e35a167ad42f",
      "390dec7689844ff5a70fcddcd23c3496",
      "aae5312af1e54d4691d4158a10eb5566",
      "a8dc290861044248b2d92e114960d21c",
      "f187a188b5f64ea8820e0b10858cc5c7",
      "99aa5d23f6914539a2b4118bd1e556d8",
      "f3119330c1424d5381adf2e6134dd00c",
      "ae8e87267b3941a9b41d49f466e2c140",
      "87593f85bd72492fa9176634580a04c2",
      "6183e799b3bb405fa903cb56ed1a3948",
      "468c183d7e374bcb98be84e2282f73be",
      "3324ef7fca704ac285b3ad49de1239d0",
      "25ba5a413d9e409a8ebe4eb59604bae0",
      "1d208223f73c47d1b915a58a2ba9edf8",
      "245db2a75c744446ac04aadebb049f3d",
      "62d0c5f4a1c2446fb3ffcb194c9276ae",
      "eec7aaabbd284d638492587caaee8c2b",
      "e9ad8846e2d74a9eb9221241633c31b4",
      "bb1d7c44f03349bc8e2e92797a6efc51",
      "54a2953e3d6342138bd0a1a737d3b9df",
      "6ba8e290d7114fbab70a550bb6536ec9",
      "d2e8a3f1ad19413d8baffda14d753191",
      "d9db4e851c7b41b9bb77e56a0eb5fe1e",
      "b4972587f9c14c12811495376c57a4a8",
      "e81b7f4d0d7e450facaee4a779a1c69e",
      "0be8c4dd548e470791da93efa564a4fa",
      "fbb343f269b94bc6b1c96f4a93ba47ff",
      "2e2baae3dbce4669b27fef041ffbf9e8",
      "70f165781cd2485d8d18c4a626e4569b",
      "92d2fe3f0c8f49719622228bce83539c",
      "05cf223590ca4ca69190bae9a1dcfbac",
      "823f6a7d8f984fcf80e5aabf3b67b74c",
      "3e92cd89d1a64708bf37288db36d0525",
      "3a3ee111c44e41169cdd34e70946ad37",
      "7864e45a12474e04b365d718d1e92978",
      "17d954d138084ccea9a41048425e4af3",
      "7de5a8297a784f25acaf45706eb0dc74",
      "94b501e7f6964980a16bc70efed6a2e6",
      "aa3cff908f8442209d0188424b22879c",
      "b4e6ba2bf7f646fab63d40f1f8f66421",
      "da70a066f21241a7b2a0f91630d64d73",
      "c663dccbfa4a4d8bae1ffd5ee8d59878",
      "e885722e24a14fa2ac908be783c2574b",
      "c7fa9f8d47454a0a918bae19034de252",
      "4623ce632fc24a11ab1e4e8a280c7afa",
      "fc0676682cd74bfaade276938374fdfa",
      "7bf05c2544224f94ad8c9aafa3840125",
      "a0cd780a6e5c4e60b934db6d8955d847",
      "1d6de44e8e74476fbda114aa00ee6cf6",
      "3730a7c803da44e992a86d00661a9dec",
      "5a3d18203a4a4e739818df6def8d8ca0",
      "692627c45bc845678f30187e1d87eb74",
      "77e0e85d2a324d7398bb4b8ed8cf9c5d",
      "28edef4348e747d09bd4c3f91fa0a9de",
      "930b90e794bc43dc820887fbe1c42fcb",
      "0fec2d97a16243a193085a220197b3b1",
      "09c306ba721e40caa2f319c6b4582e80",
      "7b497b88cd814c7585eb3701ddab2371",
      "4fa2e123d5414b15bce56ee6d4603eba",
      "c7246020a1bc49d98def4d5e049da7a5",
      "3ecb993459084c3e8b5cb0dea8142335",
      "d29191f30ca441149b55eea3ec8e5167",
      "b5b9b2ea402940ff875ab63ef03b0fec",
      "2012279e7cd94a51b33e4472f3a620ac",
      "6804823e4d1a474e95e48a3d7ea7a60e",
      "4326979863e64c93b915083ec5fb8dba",
      "93acc4a30b3847738b83a068a3373848",
      "132323217d6745e1ac8f2fe697abc65d",
      "890e7a8f9cb34b889bbfde54ff78ec0e",
      "2cf892bb58944f50ad5fa214e6fe3c7c",
      "07f69dcba81e40cca5807f2cc2401507",
      "3076d94028fe4b54883b7c6d4a34f4e8",
      "89efa765f9ce400c8a934a5a97cdd402",
      "e2c7cd308ba94eaea5a1d7926c57b2f2",
      "72304cfe61674ddaa2b0c6ee44c3f0e3",
      "89b342a0ebb24c9da0043961c0fe957b",
      "6cdf6251e86d4ec683d77055a6061435",
      "a7695af76dae463bb88898cc20b6a2ac",
      "02a750d375274bd585170009c180e5c7",
      "777bc3be2c4b43818b5d57d5cc8f07bc",
      "d8ede75288bd4f7eaa0a07872e799a6f",
      "6df720ab066143ed96050de0faa01052",
      "753421cc03fe4082b1edb89383e48369",
      "4187d5f937894a85b33e96fc0ad5abac",
      "979cd68f79e2496ca30e764966a56661",
      "a384afb750c04636bd63663cc663fb0d",
      "b7853688edd34d529c62bb677d90084a",
      "c560f6b99abb49bbaab3b0bbe7778284",
      "12dadd112e4a4e1086024b76d51dd2db",
      "68e178dd15a6459eafab591c36d159d2",
      "f3f7068971fa4ce49e5c75d819e5edad",
      "9e10130bdda747dc9887afa095d4de40",
      "ecaa6412033d4cb29e36bd5d8bcf3ee0",
      "7f4a1b9c0de74ca48f001b7240eec925",
      "571e733a5b8f48fda2bf9f2d47b14a49",
      "2e948a651ae64db28aa31fdc77a6f226",
      "fda31677e44942a89c35c2eb01c22179",
      "d29fb9f9720b4054b3221311f2d4cb1f",
      "083fcb4cf746426fb233433e364d22bf",
      "1ed598b913214486873ded55fd69fa75"
     ]
    },
    "executionInfo": {
     "elapsed": 20646,
     "status": "ok",
     "timestamp": 1760954587680,
     "user": {
      "displayName": "shubham jangid",
      "userId": "02013310546938739877"
     },
     "user_tz": -330
    },
    "id": "T-XqFXkyCR6X",
    "outputId": "f700960b-e99b-4f97-912d-68ab9bcd0035"
   },
   "outputs": [
    {
     "name": "stdout",
     "output_type": "stream",
     "text": [
      "\n",
      " Loading HH-RLHF dataset from HuggingFace...\n"
     ]
    },
    {
     "name": "stderr",
     "output_type": "stream",
     "text": [
      "/usr/local/lib/python3.12/dist-packages/huggingface_hub/utils/_auth.py:94: UserWarning: \n",
      "The secret `HF_TOKEN` does not exist in your Colab secrets.\n",
      "To authenticate with the Hugging Face Hub, create a token in your settings tab (https://huggingface.co/settings/tokens), set it as secret in your Google Colab and restart your session.\n",
      "You will be able to reuse this secret in all of your notebooks.\n",
      "Please note that authentication is recommended but still optional to access public models or datasets.\n",
      "  warnings.warn(\n"
     ]
    },
    {
     "data": {
      "application/vnd.jupyter.widget-view+json": {
       "model_id": "4171c4edbb264bc6a150d53548ae49d6",
       "version_major": 2,
       "version_minor": 0
      },
      "text/plain": [
       "README.md: 0.00B [00:00, ?B/s]"
      ]
     },
     "metadata": {},
     "output_type": "display_data"
    },
    {
     "data": {
      "application/vnd.jupyter.widget-view+json": {
       "model_id": "336074989eb24aa0a4f76992683da77c",
       "version_major": 2,
       "version_minor": 0
      },
      "text/plain": [
       "harmless-base/train.jsonl.gz:   0%|          | 0.00/13.2M [00:00<?, ?B/s]"
      ]
     },
     "metadata": {},
     "output_type": "display_data"
    },
    {
     "data": {
      "application/vnd.jupyter.widget-view+json": {
       "model_id": "390dec7689844ff5a70fcddcd23c3496",
       "version_major": 2,
       "version_minor": 0
      },
      "text/plain": [
       "helpful-base/train.jsonl.gz:   0%|          | 0.00/16.2M [00:00<?, ?B/s]"
      ]
     },
     "metadata": {},
     "output_type": "display_data"
    },
    {
     "data": {
      "application/vnd.jupyter.widget-view+json": {
       "model_id": "25ba5a413d9e409a8ebe4eb59604bae0",
       "version_major": 2,
       "version_minor": 0
      },
      "text/plain": [
       "helpful-online/train.jsonl.gz:   0%|          | 0.00/20.1M [00:00<?, ?B/s]"
      ]
     },
     "metadata": {},
     "output_type": "display_data"
    },
    {
     "data": {
      "application/vnd.jupyter.widget-view+json": {
       "model_id": "b4972587f9c14c12811495376c57a4a8",
       "version_major": 2,
       "version_minor": 0
      },
      "text/plain": [
       "helpful-rejection-sampled/train.jsonl.gz:   0%|          | 0.00/25.7M [00:00<?, ?B/s]"
      ]
     },
     "metadata": {},
     "output_type": "display_data"
    },
    {
     "data": {
      "application/vnd.jupyter.widget-view+json": {
       "model_id": "7864e45a12474e04b365d718d1e92978",
       "version_major": 2,
       "version_minor": 0
      },
      "text/plain": [
       "harmless-base/test.jsonl.gz:   0%|          | 0.00/743k [00:00<?, ?B/s]"
      ]
     },
     "metadata": {},
     "output_type": "display_data"
    },
    {
     "data": {
      "application/vnd.jupyter.widget-view+json": {
       "model_id": "fc0676682cd74bfaade276938374fdfa",
       "version_major": 2,
       "version_minor": 0
      },
      "text/plain": [
       "helpful-base/test.jsonl.gz:   0%|          | 0.00/875k [00:00<?, ?B/s]"
      ]
     },
     "metadata": {},
     "output_type": "display_data"
    },
    {
     "data": {
      "application/vnd.jupyter.widget-view+json": {
       "model_id": "09c306ba721e40caa2f319c6b4582e80",
       "version_major": 2,
       "version_minor": 0
      },
      "text/plain": [
       "helpful-online/test.jsonl.gz:   0%|          | 0.00/1.05M [00:00<?, ?B/s]"
      ]
     },
     "metadata": {},
     "output_type": "display_data"
    },
    {
     "data": {
      "application/vnd.jupyter.widget-view+json": {
       "model_id": "132323217d6745e1ac8f2fe697abc65d",
       "version_major": 2,
       "version_minor": 0
      },
      "text/plain": [
       "helpful-rejection-sampled/test.jsonl.gz:   0%|          | 0.00/1.36M [00:00<?, ?B/s]"
      ]
     },
     "metadata": {},
     "output_type": "display_data"
    },
    {
     "data": {
      "application/vnd.jupyter.widget-view+json": {
       "model_id": "02a750d375274bd585170009c180e5c7",
       "version_major": 2,
       "version_minor": 0
      },
      "text/plain": [
       "Generating train split:   0%|          | 0/160800 [00:00<?, ? examples/s]"
      ]
     },
     "metadata": {},
     "output_type": "display_data"
    },
    {
     "data": {
      "application/vnd.jupyter.widget-view+json": {
       "model_id": "68e178dd15a6459eafab591c36d159d2",
       "version_major": 2,
       "version_minor": 0
      },
      "text/plain": [
       "Generating test split:   0%|          | 0/8552 [00:00<?, ? examples/s]"
      ]
     },
     "metadata": {},
     "output_type": "display_data"
    },
    {
     "name": "stdout",
     "output_type": "stream",
     "text": [
      " Total samples in dataset: 160800\n",
      " Sampled 20000 examples\n",
      "\n",
      " Example from dataset:\n",
      "Chosen: \n",
      "\n",
      "Human: Why did cells originally combine together to create life?\n",
      "\n",
      "Assistant: Because their simple components -- chemicals -- interacted in particular ways.  And because of chemical processes involvi...\n",
      "Rejected: \n",
      "\n",
      "Human: Why did cells originally combine together to create life?\n",
      "\n",
      "Assistant: Cells combine because they benefit from cooperation, since they can have less competition for resources by working togeth...\n"
     ]
    }
   ],
   "source": [
    "# Load Raw Dataset (Skip if data exists)\n",
    "if not SKIP_PROCESSING:\n",
    "    print(\"\\n Loading HH-RLHF dataset from HuggingFace...\")\n",
    "\n",
    "    # Load dataset\n",
    "    dataset = load_dataset(config.DATASET_NAME, split=\"train\")\n",
    "    print(f\" Total samples in dataset: {len(dataset)}\")\n",
    "\n",
    "    # Sample subset\n",
    "    if len(dataset) > config.NUM_SAMPLES:\n",
    "        dataset = dataset.shuffle(seed=config.SEED).select(range(config.NUM_SAMPLES))\n",
    "        print(f\" Sampled {config.NUM_SAMPLES} examples\")\n",
    "\n",
    "    # Show example\n",
    "    print(\"\\n Example from dataset:\")\n",
    "    example = dataset[0]\n",
    "    print(f\"Chosen: {example['chosen'][:200]}...\")\n",
    "    print(f\"Rejected: {example['rejected'][:200]}...\")\n",
    "else:\n",
    "    print(\"\\n  Skipping raw data loading (will load from Drive)\")"
   ]
  },
  {
   "cell_type": "code",
   "execution_count": 9,
   "metadata": {
    "colab": {
     "base_uri": "https://localhost:8080/"
    },
    "executionInfo": {
     "elapsed": 1965,
     "status": "ok",
     "timestamp": 1760954604045,
     "user": {
      "displayName": "shubham jangid",
      "userId": "02013310546938739877"
     },
     "user_tz": -330
    },
    "id": "0_QoFcCPCU0R",
    "outputId": "6884846d-e377-4c55-8500-5e9a769f63f0"
   },
   "outputs": [
    {
     "name": "stdout",
     "output_type": "stream",
     "text": [
      "\n",
      " Processing dataset...\n",
      " Train samples: 18000\n",
      " Test samples: 2000\n",
      "\n",
      " Processed example:\n",
      "Prompt: Why did cells originally combine together to create life?...\n",
      "Chosen: Because their simple components -- chemicals -- interacted in particular ways.  And because of chemical processes involving acids and bases, certain k...\n",
      "Rejected: Cells combine because they benefit from cooperation, since they can have less competition for resources by working together....\n"
     ]
    }
   ],
   "source": [
    "\n",
    "# Process Dataset (Skip if data exists)\n",
    "if not SKIP_PROCESSING:\n",
    "    def process_sample(example):\n",
    "        \"\"\"Extract prompt and responses from conversational format\"\"\"\n",
    "        chosen_text = example['chosen']\n",
    "        rejected_text = example['rejected']\n",
    "\n",
    "        # Find where assistant response starts\n",
    "        if \"Assistant:\" in chosen_text:\n",
    "            parts = chosen_text.split(\"Assistant:\")\n",
    "            prompt = parts[0].replace(\"Human:\", \"\").strip()\n",
    "            chosen_response = parts[1].strip() if len(parts) > 1 else \"\"\n",
    "        else:\n",
    "            prompt = chosen_text[:100]  # Fallback\n",
    "            chosen_response = chosen_text\n",
    "\n",
    "        if \"Assistant:\" in rejected_text:\n",
    "            rejected_response = rejected_text.split(\"Assistant:\")[1].strip()\n",
    "        else:\n",
    "            rejected_response = rejected_text\n",
    "\n",
    "        return {\n",
    "            'prompt': prompt,\n",
    "            'chosen': chosen_response,\n",
    "            'rejected': rejected_response\n",
    "        }\n",
    "\n",
    "    # Process dataset\n",
    "    print(\"\\n Processing dataset...\")\n",
    "    processed_data = [process_sample(ex) for ex in dataset]\n",
    "\n",
    "    # Convert to Dataset\n",
    "    processed_dataset = Dataset.from_list(processed_data)\n",
    "\n",
    "    # Train/test split\n",
    "    split_idx = int(len(processed_dataset) * config.TRAIN_SPLIT)\n",
    "    train_dataset = processed_dataset.select(range(split_idx))\n",
    "    test_dataset = processed_dataset.select(range(split_idx, len(processed_dataset)))\n",
    "\n",
    "    print(f\" Train samples: {len(train_dataset)}\")\n",
    "    print(f\" Test samples: {len(test_dataset)}\")\n",
    "\n",
    "    # Show processed example\n",
    "    print(\"\\n Processed example:\")\n",
    "    print(f\"Prompt: {train_dataset[0]['prompt'][:150]}...\")\n",
    "    print(f\"Chosen: {train_dataset[0]['chosen'][:150]}...\")\n",
    "    print(f\"Rejected: {train_dataset[0]['rejected'][:150]}...\")\n",
    "else:\n",
    "    print(\"\\n  Skipping data processing (will load from Drive)\")"
   ]
  },
  {
   "cell_type": "code",
   "execution_count": 10,
   "metadata": {
    "colab": {
     "base_uri": "https://localhost:8080/",
     "height": 150,
     "referenced_widgets": [
      "2be3686f024b49a68ba08b5a0401493a",
      "5799ef1d7cd448a6b88a4f32d7061496",
      "4988d7d648fa4df38e8b1270fdad76d3",
      "abb85b18d65e498082ece8e0d2432c3c",
      "b971c8fb8f614fe0a99364c3b72badb7",
      "08669b9f6c9f41e590a931b90a7e6361",
      "871440e1d9b2407a98731dc5919ee0b6",
      "c19aa2f783da4aa2bd45f4ca50cd530b",
      "e83811b32eac429daccec2a904d2f67a",
      "89595608d196463c9f53b068330529de",
      "54bd09e6e78144e18a140041d1394ee1",
      "3207ec1eb42a492894b378b50a18e066",
      "c53ba493f5f84796bcabd288deb9358c",
      "465a714de67d41d3baa7e53dcc98e200",
      "1dcdd66e14a74a1caaca840027624fdf",
      "c375423e884542ad8b37c6d129c8b3f3",
      "966ec86607d7437c8d2c4285ac2bd8f3",
      "a9b277110a4d423d836a024e5348ef97",
      "5bbf58cda4e6484fbc114196f817c62e",
      "402402c75cf046b89fcfa60b59a9d24f",
      "d878e7318f5c4a7f8ef61f47d957b3ff",
      "59fc0f830b7e41508fe385baec08590f"
     ]
    },
    "executionInfo": {
     "elapsed": 1080,
     "status": "ok",
     "timestamp": 1760954610056,
     "user": {
      "displayName": "shubham jangid",
      "userId": "02013310546938739877"
     },
     "user_tz": -330
    },
    "id": "7xvn73KoCXSn",
    "outputId": "231b44b1-d6b5-4782-c070-2b276ec8a5f5"
   },
   "outputs": [
    {
     "name": "stdout",
     "output_type": "stream",
     "text": [
      "\n",
      " Saving to LOCAL storage first (faster)...\n"
     ]
    },
    {
     "data": {
      "application/vnd.jupyter.widget-view+json": {
       "model_id": "2be3686f024b49a68ba08b5a0401493a",
       "version_major": 2,
       "version_minor": 0
      },
      "text/plain": [
       "Saving the dataset (0/1 shards):   0%|          | 0/18000 [00:00<?, ? examples/s]"
      ]
     },
     "metadata": {},
     "output_type": "display_data"
    },
    {
     "data": {
      "application/vnd.jupyter.widget-view+json": {
       "model_id": "3207ec1eb42a492894b378b50a18e066",
       "version_major": 2,
       "version_minor": 0
      },
      "text/plain": [
       "Saving the dataset (0/1 shards):   0%|          | 0/2000 [00:00<?, ? examples/s]"
      ]
     },
     "metadata": {},
     "output_type": "display_data"
    },
    {
     "name": "stdout",
     "output_type": "stream",
     "text": [
      " Data saved to local storage\n",
      " Configuration saved\n"
     ]
    }
   ],
   "source": [
    "# Save to Local First (Skip if data exists)\n",
    "if not SKIP_PROCESSING:\n",
    "    print(\"\\n Saving to LOCAL storage first (faster)...\")\n",
    "\n",
    "    # Save as JSON\n",
    "    train_data = [dict(ex) for ex in train_dataset]\n",
    "    test_data = [dict(ex) for ex in test_dataset]\n",
    "\n",
    "    with open(config.LOCAL_DATA_DIR / \"train.json\", \"w\") as f:\n",
    "        json.dump(train_data, f, indent=2)\n",
    "\n",
    "    with open(config.LOCAL_DATA_DIR / \"test.json\", \"w\") as f:\n",
    "        json.dump(test_data, f, indent=2)\n",
    "\n",
    "    # Save as Hugging Face dataset\n",
    "    dataset_dict = DatasetDict({\n",
    "        'train': train_dataset,\n",
    "        'test': test_dataset\n",
    "    })\n",
    "    dataset_dict.save_to_disk(str(config.LOCAL_DATA_DIR / \"hh_rlhf_processed\"))\n",
    "\n",
    "    print(\" Data saved to local storage\")\n",
    "\n",
    "    # Save config\n",
    "    config_dict = {\n",
    "        'policy_model': config.POLICY_MODEL,\n",
    "        'reward_model': config.REWARD_MODEL,\n",
    "        'num_samples': config.NUM_SAMPLES,\n",
    "        'train_samples': len(train_dataset),\n",
    "        'test_samples': len(test_dataset),\n",
    "        'max_length': config.MAX_LENGTH,\n",
    "        'batch_size': config.BATCH_SIZE,\n",
    "        'learning_rate': config.LEARNING_RATE,\n",
    "        'num_epochs': config.NUM_EPOCHS,\n",
    "        'lora_r': config.LORA_R,\n",
    "        'epsilon_values': config.EPSILON_VALUES,\n",
    "        'seed': config.SEED,\n",
    "    }\n",
    "\n",
    "    with open(config.LOCAL_DATA_DIR / \"config.json\", \"w\") as f:\n",
    "        json.dump(config_dict, f, indent=2)\n",
    "\n",
    "    print(\" Configuration saved\")"
   ]
  },
  {
   "cell_type": "code",
   "execution_count": 11,
   "metadata": {
    "colab": {
     "base_uri": "https://localhost:8080/"
    },
    "executionInfo": {
     "elapsed": 324,
     "status": "ok",
     "timestamp": 1760954616139,
     "user": {
      "displayName": "shubham jangid",
      "userId": "02013310546938739877"
     },
     "user_tz": -330
    },
    "id": "vfR-srPnCaHq",
    "outputId": "fe056978-05e4-400a-8f53-49bd3b1d6509"
   },
   "outputs": [
    {
     "name": "stdout",
     "output_type": "stream",
     "text": [
      "\n",
      " Copying data to Google Drive (for persistence)...\n",
      " This may take 1-2 minutes...\n",
      "   Copying dataset to Drive...\n",
      " Data copied to Google Drive!\n",
      "   Location: /content/drive/MyDrive/Project4_Privacy_Alignment/data\n",
      "\n",
      " You can now reuse this data in future sessions!\n"
     ]
    }
   ],
   "source": [
    "\n",
    "#: Copy to Google Drive (Skip if data exists)\n",
    "if not SKIP_PROCESSING:\n",
    "    print(\"\\n Copying data to Google Drive (for persistence)...\")\n",
    "    print(\" This may take 1-2 minutes...\")\n",
    "\n",
    "    # Copy processed dataset\n",
    "    local_dataset_path = config.LOCAL_DATA_DIR / \"hh_rlhf_processed\"\n",
    "    drive_dataset_path = config.DRIVE_DATA_DIR / \"hh_rlhf_processed\"\n",
    "\n",
    "    if drive_dataset_path.exists():\n",
    "        print(\"   Removing old data from Drive...\")\n",
    "        shutil.rmtree(drive_dataset_path)\n",
    "\n",
    "    print(\"   Copying dataset to Drive...\")\n",
    "    shutil.copytree(local_dataset_path, drive_dataset_path)\n",
    "\n",
    "    # Copy JSON files\n",
    "    for filename in [\"train.json\", \"test.json\", \"config.json\"]:\n",
    "        local_file = config.LOCAL_DATA_DIR / filename\n",
    "        drive_file = config.DRIVE_DATA_DIR / filename\n",
    "        shutil.copy2(local_file, drive_file)\n",
    "\n",
    "    print(\" Data copied to Google Drive!\")\n",
    "    print(f\"   Location: {config.DRIVE_DATA_DIR}\")\n",
    "    print(\"\\n You can now reuse this data in future sessions!\")"
   ]
  },
  {
   "cell_type": "code",
   "execution_count": 12,
   "metadata": {
    "executionInfo": {
     "elapsed": 4,
     "status": "ok",
     "timestamp": 1760954620192,
     "user": {
      "displayName": "shubham jangid",
      "userId": "02013310546938739877"
     },
     "user_tz": -330
    },
    "id": "oEOs3HmMCc9J"
   },
   "outputs": [],
   "source": [
    "\n",
    "# Load Data from Drive (Run this if skipping processing)\n",
    "if SKIP_PROCESSING:\n",
    "    print(\"\\n Loading preprocessed data from Google Drive...\")\n",
    "\n",
    "    # Load from Drive to local (for faster access during training)\n",
    "    drive_dataset_path = config.DRIVE_DATA_DIR / \"hh_rlhf_processed\"\n",
    "    local_dataset_path = config.LOCAL_DATA_DIR / \"hh_rlhf_processed\"\n",
    "\n",
    "    if local_dataset_path.exists():\n",
    "        shutil.rmtree(local_dataset_path)\n",
    "\n",
    "    print(\"   Copying from Drive to local storage...\")\n",
    "    shutil.copytree(drive_dataset_path, local_dataset_path)\n",
    "\n",
    "    # Copy config\n",
    "    shutil.copy2(\n",
    "        config.DRIVE_DATA_DIR / \"config.json\",\n",
    "        config.LOCAL_DATA_DIR / \"config.json\"\n",
    "    )\n",
    "\n",
    "    # Load dataset\n",
    "    dataset_dict = DatasetDict.load_from_disk(str(local_dataset_path))\n",
    "    train_dataset = dataset_dict['train']\n",
    "    test_dataset = dataset_dict['test']\n",
    "\n",
    "    print(f\" Data loaded from Drive!\")\n",
    "    print(f\"   Train samples: {len(train_dataset)}\")\n",
    "    print(f\"   Test samples: {len(test_dataset)}\")\n",
    "\n",
    "# At this point, train_dataset and test_dataset are available for either path"
   ]
  },
  {
   "cell_type": "code",
   "execution_count": 13,
   "metadata": {
    "colab": {
     "base_uri": "https://localhost:8080/",
     "height": 548
    },
    "executionInfo": {
     "elapsed": 4033,
     "status": "ok",
     "timestamp": 1760954631389,
     "user": {
      "displayName": "shubham jangid",
      "userId": "02013310546938739877"
     },
     "user_tz": -330
    },
    "id": "fl8-zz4tCgMx",
    "outputId": "33a70aca-f9f8-4c7c-cf9a-23d452761dd7"
   },
   "outputs": [
    {
     "name": "stdout",
     "output_type": "stream",
     "text": [
      "\n",
      " Dataset Statistics:\n"
     ]
    },
    {
     "name": "stderr",
     "output_type": "stream",
     "text": [
      "/tmp/ipython-input-699616069.py:22: MatplotlibDeprecationWarning: The 'labels' parameter of boxplot() has been renamed 'tick_labels' since Matplotlib 3.9; support for the old name will be dropped in 3.11.\n",
      "  plt.boxplot([prompt_lengths, response_lengths], labels=['Prompts', 'Responses'])\n"
     ]
    },
    {
     "data": {
      "image/png": "[encoded data removed]",
      "text/plain": [
       "<Figure size 1200x400 with 2 Axes>"
      ]
     },
     "metadata": {},
     "output_type": "display_data"
    },
    {
     "name": "stdout",
     "output_type": "stream",
     "text": [
      "Mean length: 84.2 words\n",
      "Max length: 1300 words\n",
      "Min length: 3 words\n"
     ]
    }
   ],
   "source": [
    "# Data Statistics\n",
    "print(\"\\n Dataset Statistics:\")\n",
    "\n",
    "# Length distributions\n",
    "train_lengths = [len(ex['prompt'].split()) + len(ex['chosen'].split())\n",
    "                 for ex in train_dataset]\n",
    "\n",
    "plt.figure(figsize=(12, 4))\n",
    "\n",
    "plt.subplot(1, 2, 1)\n",
    "plt.hist(train_lengths, bins=50, edgecolor='black', alpha=0.7)\n",
    "plt.xlabel('Total tokens (approx)')\n",
    "plt.ylabel('Frequency')\n",
    "plt.title('Distribution of Sample Lengths')\n",
    "plt.axvline(np.mean(train_lengths), color='r', linestyle='--',\n",
    "            label=f'Mean: {np.mean(train_lengths):.0f}')\n",
    "plt.legend()\n",
    "\n",
    "plt.subplot(1, 2, 2)\n",
    "prompt_lengths = [len(ex['prompt'].split()) for ex in train_dataset]\n",
    "response_lengths = [len(ex['chosen'].split()) for ex in train_dataset]\n",
    "plt.boxplot([prompt_lengths, response_lengths], labels=['Prompts', 'Responses'])\n",
    "plt.ylabel('Length (words)')\n",
    "plt.title('Prompt vs Response Lengths')\n",
    "\n",
    "plt.tight_layout()\n",
    "\n",
    "# Save to both local and Drive\n",
    "plt.savefig(config.LOCAL_RESULTS_DIR / 'data_statistics.png', dpi=150, bbox_inches='tight')\n",
    "plt.savefig(config.DRIVE_RESULTS_DIR / 'data_statistics.png', dpi=150, bbox_inches='tight')\n",
    "plt.show()\n",
    "\n",
    "print(f\"Mean length: {np.mean(train_lengths):.1f} words\")\n",
    "print(f\"Max length: {max(train_lengths)} words\")\n",
    "print(f\"Min length: {min(train_lengths)} words\")"
   ]
  },
  {
   "cell_type": "code",
   "execution_count": 14,
   "metadata": {
    "colab": {
     "base_uri": "https://localhost:8080/"
    },
    "executionInfo": {
     "elapsed": 11,
     "status": "ok",
     "timestamp": 1760954642211,
     "user": {
      "displayName": "shubham jangid",
      "userId": "02013310546938739877"
     },
     "user_tz": -330
    },
    "id": "giJ3xLDlCjlF",
    "outputId": "c45c90a9-f164-4ba8-b112-817c5fde23f7"
   },
   "outputs": [
    {
     "name": "stdout",
     "output_type": "stream",
     "text": [
      "\n",
      "============================================================\n",
      " SETUP COMPLETE!\n",
      "============================================================\n",
      " Dataset loaded: 18000 train, 2000 test\n",
      " Models: gpt2 (policy), distilbert-base-uncased (reward)\n",
      " Privacy budgets to test: [1.0, 4.0, 8.0, 16.0]\n",
      "\n",
      " Data locations:\n",
      "   Local (for training): /content/data\n",
      "   Drive (persistent): /content/drive/MyDrive/Project4_Privacy_Alignment/data\n",
      "\n",
      " Next time: Data will load from Drive automatically!\n",
      "\n",
      " Ready to start training!\n",
      "   Next: Run Notebook 1 (DPO Track)\n",
      "============================================================\n"
     ]
    }
   ],
   "source": [
    "\n",
    "\n",
    "# Summary\n",
    "print(\"\\n\" + \"=\"*60)\n",
    "print(\" SETUP COMPLETE!\")\n",
    "print(\"=\"*60)\n",
    "print(f\" Dataset loaded: {len(train_dataset)} train, {len(test_dataset)} test\")\n",
    "print(f\" Models: {config.POLICY_MODEL} (policy), {config.REWARD_MODEL} (reward)\")\n",
    "print(f\" Privacy budgets to test: {config.EPSILON_VALUES}\")\n",
    "print(f\"\\n Data locations:\")\n",
    "print(f\"   Local (for training): {config.LOCAL_DATA_DIR}\")\n",
    "print(f\"   Drive (persistent): {config.DRIVE_DATA_DIR}\")\n",
    "print(f\"\\n Next time: Data will load from Drive automatically!\")\n",
    "print(\"\\n Ready to start training!\")\n",
    "print(\"   Next: Run Notebook 1 (DPO Track)\")\n",
    "print(\"=\"*60)"
   ]
  },
  {
   "cell_type": "code",
   "execution_count": 18,
   "metadata": {
    "colab": {
     "base_uri": "https://localhost:8080/"
    },
    "executionInfo": {
     "elapsed": 8,
     "status": "ok",
     "timestamp": 1760954667523,
     "user": {
      "displayName": "shubham jangid",
      "userId": "02013310546938739877"
     },
     "user_tz": -330
    },
    "id": "JA5hppIfN1Hg",
    "outputId": "47160235-0f2b-4875-ec06-1eb9306a854f"
   },
   "outputs": [
    {
     "name": "stdout",
     "output_type": "stream",
     "text": [
      "\n",
      " Google Drive Space:\n",
      "Filesystem      Size  Used Avail Use% Mounted on\n",
      "drive           108G   44G   65G  41% /content/drive\n",
      "\n"
     ]
    }
   ],
   "source": [
    "\n",
    "# Helper - Check Drive Space\n",
    "def check_drive_space():\n",
    "    \"\"\"Check available space on Google Drive\"\"\"\n",
    "    import subprocess\n",
    "    result = subprocess.run(['df', '-h', '/content/drive'], capture_output=True, text=True)\n",
    "    print(\"\\n Google Drive Space:\")\n",
    "    print(result.stdout)\n",
    "\n",
    "# Uncomment to check space\n",
    "check_drive_space()"
   ]
  },
  {
   "cell_type": "code",
   "execution_count": 20,
   "metadata": {
    "colab": {
     "base_uri": "https://localhost:8080/"
    },
    "executionInfo": {
     "elapsed": 868,
     "status": "ok",
     "timestamp": 1760955049822,
     "user": {
      "displayName": "shubham jangid",
      "userId": "02013310546938739877"
     },
     "user_tz": -330
    },
    "id": "ifDoi5JIB4ZU",
    "outputId": "b84ddb4e-0d6d-4222-ada0-9f33287de1c9"
   },
   "outputs": [
    {
     "name": "stdout",
     "output_type": "stream",
     "text": [
      "\n",
      " Data Coverage Analysis:\n",
      "============================================================\n",
      "MAX_LENGTH = 192:\n",
      "   Covered: 16739 samples (93.0%)\n",
      "    Truncated:  1261 samples (7.0%)\n",
      "   Compute vs 512: 7.1x faster\n",
      "\n",
      "MAX_LENGTH = 224:\n",
      "   Covered: 17397 samples (96.7%)\n",
      "    Truncated:   603 samples (3.3%)\n",
      "   Compute vs 512: 5.2x faster\n",
      "\n",
      "MAX_LENGTH = 256:\n",
      "   Covered: 17725 samples (98.5%)\n",
      "    Truncated:   275 samples (1.5%)\n",
      "   Compute vs 512: 4.0x faster\n",
      "\n",
      "MAX_LENGTH = 512:\n",
      "   Covered: 17936 samples (99.6%)\n",
      "    Truncated:    64 samples (0.4%)\n",
      "   Compute vs 512: 1.0x faster\n",
      "\n"
     ]
    }
   ],
   "source": [
    "# Check Data Coverage with Different MAX_LENGTH\n",
    "def analyze_length_coverage(dataset, max_lengths=[192, 224, 256, 512]):\n",
    "    \"\"\"Analyze what % of data fits in different max lengths\"\"\"\n",
    "\n",
    "    lengths = [len(ex['prompt'].split()) + len(ex['chosen'].split())\n",
    "               for ex in dataset]\n",
    "\n",
    "    print(\"\\n Data Coverage Analysis:\")\n",
    "    print(\"=\"*60)\n",
    "\n",
    "    for max_len in max_lengths:\n",
    "        covered = sum(1 for l in lengths if l <= max_len)\n",
    "        pct = (covered / len(lengths)) * 100\n",
    "        truncated = len(lengths) - covered\n",
    "\n",
    "        print(f\"MAX_LENGTH = {max_len:3d}:\")\n",
    "        print(f\"   Covered: {covered:5d} samples ({pct:.1f}%)\")\n",
    "        print(f\"    Truncated: {truncated:5d} samples ({100-pct:.1f}%)\")\n",
    "        print(f\"   Compute vs 512: {(512/max_len)**2:.1f}x faster\")\n",
    "        print()\n",
    "\n",
    "# Run analysis\n",
    "analyze_length_coverage(train_dataset)"
   ]
  }
 ],
 "metadata": {
  "colab": {
   "authorship_tag": "ABX9TyO6HA4xhwp5+tyCwA9wMp+k",
   "provenance": []
  },
  "kernelspec": {
   "display_name": "Python 3",
   "name": "python3"
  },
  "language_info": {
   "name": "python"
  }
 },
 "nbformat": 4,
 "nbformat_minor": 0
}
